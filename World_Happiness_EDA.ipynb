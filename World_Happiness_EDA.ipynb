{
  "cells": [
    {
      "cell_type": "markdown",
      "metadata": {
        "id": "fI8VZJJEKThT"
      },
      "source": [
        "## 1.Introduction"
      ]
    },
    {
      "cell_type": "code",
      "execution_count": null,
      "metadata": {
        "id": "lmjPjvABKThO",
        "outputId": "d6a79762-e7ec-449d-9633-b33c7c766421"
      },
      "outputs": [
        {
          "name": "stdout",
          "output_type": "stream",
          "text": [
            "My name is Majdal Hindi\n",
            "My ID number is 300991890\n",
            "I study  Data Science in the second year\n",
            "Project name is The World Happiness 2015-2019\n",
            "The Deadline is 18/02/2021\n",
            "the presentation date 07/03/2021 \n",
            "on time submission!\n"
          ]
        }
      ],
      "source": [
        "class Student:\n",
        "    \n",
        "    def __init__(self,name,ID,Major,Year):\n",
        "        self.name=name\n",
        "        self.ID=ID\n",
        "        self.Major=Major\n",
        "        self.Year=Year\n",
        "        \n",
        "    def __str__(self):\n",
        "        return 'My name is {self.name}\\nMy ID number is {self.ID}\\nI study  {self.Major} in the {self.Year} year'.format(self=self)\n",
        "    \n",
        "\n",
        "\n",
        "class Project(Student):\n",
        "    def __init__(self,name,ID,Major,Year,project_name,deadline,presentation):\n",
        "        Student.__init__(self,name,ID,Major,Year)\n",
        "        self.project_name =project_name\n",
        "        self.deadline=deadline\n",
        "        self.presentation=presentation\n",
        "         \n",
        "   \n",
        "    def __str__(self):\n",
        "        return'Project name is {self.project_name}\\nThe Deadline is {self.deadline}\\nthe presentation date {self.presentation} '.format(self=self)\n",
        "    \n",
        "                     \n",
        "  \n",
        "    def submit(self):\n",
        "        if self.deadline <='18/02/2021':\n",
        "            return 'on time submission!'\n",
        "        else:\n",
        "            return 'late submission!'\n",
        "        \n",
        "Majdal=Student('Majdal Hindi',\"300991890\",\"Data Science\",'second')\n",
        "print(Majdal)\n",
        "Python=Project('Majdal Hindi',\"300991890\",\"Data Science\",'second','The World Happiness 2015-2019','18/02/2021','07/03/2021')\n",
        "print(Python)\n",
        "print(Python.submit())"
      ]
    },
    {
      "cell_type": "raw",
      "metadata": {
        "id": "UUqd9WF0KThV"
      },
      "source": [
        "Project Name: The World Happiness between 2015-2019 \n",
        "\n",
        "The data set contains the following columns:\n",
        "\n",
        "Country:Name of the country\n",
        "Region: Name of the region the country belongs to\n",
        "Happiness_Rank: The rank of the country, as determined by its happiness score\n",
        "Happiness_Score: A score assigned to each country based on the answers to a poll question that asks respondents to rate their happiness on a scale of 0-10\n",
        "Family: social factor that represets the estimated extent to which family contributes to the happiness score.\n",
        "Freedom: social factor that represets  The estimated extent to which freedom contributes to the happiness score.\n",
        "Generosity:social factor that represets The estimated extent to which generosity contributes to the happiness score.(The residual of regressing the national average of responses to the question, “Have you donated money to a charity in past months?”\n",
        "Health (Life Expectancy):social factor that represets The estimated extent to which health contributes to the happiness score.\n",
        "Trust (Government Corruption): social factor that represets The estimated extent to which government corruption/trust contributes to the happiness score.\n",
        "Dystopia Residual: Represents the extent to which the factors above over or under explain the happiness score. \n",
        "Standard Error   : The standard error of the happiness score.\n",
        "\n",
        "First, I will analyze the world happiness in 2015. Then I will make comparision between the years 2015-2019. \n",
        "\n",
        "I am going to answer/plot the following questions in my analysis:\n",
        "\n",
        "2015 data set:\n",
        "\n",
        "1-How many regions in the data set?\n",
        "2-How many countries in each region?\n",
        "3-What is the average of the Happiness_Score in each region and which is the happiest region and the least happy one?\n",
        "4-Which is the 10 happiest countries (by Happiness_Score) and the least happy countries?\n",
        "5-Which is the  happiest country in each region?\n",
        "6-What is the difference between the maximum value of the happiness score  and the mean of Happiness Score for each region?\n",
        "7-What is the relationship(correlation) between the social factors and the happiness score and the social factors between themselves?\n",
        "8-Which social factor contributes more to the happiness score?\n",
        "9-What is the mean of the factors vs Region?\n",
        "10-What is the mean,max,min,std,median of the factors vs Country?\n",
        "\n",
        "2015-2019 data sets:\n",
        "\n",
        "11-What is the happiness score for each country between 2016-2019?\n",
        "12-What is the top 10 countries/regions that have the highest rate in each social factor?\n",
        "13-Which are the happiest/least happy countries/regions between 2015-2019?\n",
        "14-What is the top 5 happiest/least happy countries between 2015-2019?\n",
        "15-What is the mean of the percentage of each social factor?\n",
        "16-How did the mean of the happiness Score change in each region 2015-2019?\n",
        "17-How did the Happiness score change between 2015-2019\n"
      ]
    },
    {
      "cell_type": "code",
      "execution_count": null,
      "metadata": {
        "id": "fmyuYngDKThX"
      },
      "outputs": [],
      "source": [
        "import pandas as pd\n",
        "import numpy as np\n",
        "import matplotlib.pyplot as plt\n",
        "import seaborn as sns\n",
        "sns.set()\n",
        "%matplotlib inline"
      ]
    },
    {
      "cell_type": "markdown",
      "metadata": {
        "id": "1MPYUHpMKThX"
      },
      "source": [
        "# 2.Exploring  World Happiness Report 2015"
      ]
    },
    {
      "cell_type": "code",
      "execution_count": null,
      "metadata": {
        "id": "Vo1CccDOKThX",
        "outputId": "b5dfde2e-29ea-4cbb-943e-9dbb294d8577"
      },
      "outputs": [
        {
          "name": "stdout",
          "output_type": "stream",
          "text": [
            "(158, 12)\n"
          ]
        }
      ],
      "source": [
        "df2015=pd.read_csv(\"2015.csv\")\n",
        "print(df2015.shape)                          #The report has 158 rows and 12 columns"
      ]
    },
    {
      "cell_type": "code",
      "execution_count": null,
      "metadata": {
        "id": "hN1uNGM8KThY",
        "outputId": "c6d12404-55eb-4907-8099-943b1fb21940"
      },
      "outputs": [
        {
          "name": "stdout",
          "output_type": "stream",
          "text": [
            "<class 'pandas.core.frame.DataFrame'>\n",
            "RangeIndex: 158 entries, 0 to 157\n",
            "Data columns (total 12 columns):\n",
            " #   Column                         Non-Null Count  Dtype  \n",
            "---  ------                         --------------  -----  \n",
            " 0   Country                        158 non-null    object \n",
            " 1   Region                         158 non-null    object \n",
            " 2   Happiness Rank                 158 non-null    int64  \n",
            " 3   Happiness Score                158 non-null    float64\n",
            " 4   Standard Error                 158 non-null    float64\n",
            " 5   Economy (GDP per Capita)       158 non-null    float64\n",
            " 6   Family                         158 non-null    float64\n",
            " 7   Health (Life Expectancy)       158 non-null    float64\n",
            " 8   Freedom                        158 non-null    float64\n",
            " 9   Trust (Government Corruption)  158 non-null    float64\n",
            " 10  Generosity                     158 non-null    float64\n",
            " 11  Dystopia Residual              158 non-null    float64\n",
            "dtypes: float64(9), int64(1), object(2)\n",
            "memory usage: 14.9+ KB\n"
          ]
        }
      ],
      "source": [
        "df2015.info()                               # Country and Region coulmns are categorical variables\n",
        "                                            # The rest columns are numerical variables "
      ]
    },
    {
      "cell_type": "code",
      "execution_count": null,
      "metadata": {
        "id": "gZVyloz1KThY",
        "outputId": "d2199d11-1a42-4d1e-bb13-c044858e5275"
      },
      "outputs": [
        {
          "data": {
            "text/plain": [
              "Country                          False\n",
              "Region                           False\n",
              "Happiness Rank                   False\n",
              "Happiness Score                  False\n",
              "Standard Error                   False\n",
              "Economy (GDP per Capita)         False\n",
              "Family                           False\n",
              "Health (Life Expectancy)         False\n",
              "Freedom                          False\n",
              "Trust (Government Corruption)    False\n",
              "Generosity                       False\n",
              "Dystopia Residual                False\n",
              "dtype: bool"
            ]
          },
          "execution_count": 5,
          "metadata": {},
          "output_type": "execute_result"
        }
      ],
      "source": [
        "df2015.isnull().any()                       #There is no null values"
      ]
    },
    {
      "cell_type": "code",
      "execution_count": null,
      "metadata": {
        "id": "1-SX_x6vKThZ",
        "outputId": "d6d11cb6-0311-4430-ef4b-4677696697d6"
      },
      "outputs": [
        {
          "data": {
            "image/png": "[encoded data removed]",
            "text/plain": [
              "<Figure size 576x432 with 1 Axes>"
            ]
          },
          "metadata": {
            "needs_background": "light"
          },
          "output_type": "display_data"
        }
      ],
      "source": [
        "#plotting the null values:\n",
        "\n",
        "plt.figure(figsize=(8,6))\n",
        "fig1 = df2015.describe().loc[\"count\"].plot(kind=\"bar\")\n",
        "for p in fig1.patches:\n",
        "    fig1.annotate(format(p.get_height()),(p.get_x() + p.get_width(), p.get_height()))  #there is no Null values"
      ]
    },
    {
      "cell_type": "code",
      "execution_count": null,
      "metadata": {
        "id": "0P_G5QcVKThZ",
        "outputId": "d2ee4710-0cfd-4680-b21e-72f6b76a5439"
      },
      "outputs": [
        {
          "data": {
            "text/html": [
              "<div>\n",
              "<style scoped>\n",
              "    .dataframe tbody tr th:only-of-type {\n",
              "        vertical-align: middle;\n",
              "    }\n",
              "\n",
              "    .dataframe tbody tr th {\n",
              "        vertical-align: top;\n",
              "    }\n",
              "\n",
              "    .dataframe thead th {\n",
              "        text-align: right;\n",
              "    }\n",
              "</style>\n",
              "<table border=\"1\" class=\"dataframe\">\n",
              "  <thead>\n",
              "    <tr style=\"text-align: right;\">\n",
              "      <th></th>\n",
              "      <th>Country</th>\n",
              "      <th>Region</th>\n",
              "      <th>Happiness Rank</th>\n",
              "      <th>Happiness Score</th>\n",
              "      <th>Standard Error</th>\n",
              "      <th>Economy (GDP per Capita)</th>\n",
              "      <th>Family</th>\n",
              "      <th>Health (Life Expectancy)</th>\n",
              "      <th>Freedom</th>\n",
              "      <th>Trust (Government Corruption)</th>\n",
              "      <th>Generosity</th>\n",
              "      <th>Dystopia Residual</th>\n",
              "    </tr>\n",
              "  </thead>\n",
              "  <tbody>\n",
              "    <tr>\n",
              "      <th>0</th>\n",
              "      <td>Switzerland</td>\n",
              "      <td>Western Europe</td>\n",
              "      <td>1</td>\n",
              "      <td>7.587</td>\n",
              "      <td>0.03411</td>\n",
              "      <td>1.39651</td>\n",
              "      <td>1.34951</td>\n",
              "      <td>0.94143</td>\n",
              "      <td>0.66557</td>\n",
              "      <td>0.41978</td>\n",
              "      <td>0.29678</td>\n",
              "      <td>2.51738</td>\n",
              "    </tr>\n",
              "    <tr>\n",
              "      <th>1</th>\n",
              "      <td>Iceland</td>\n",
              "      <td>Western Europe</td>\n",
              "      <td>2</td>\n",
              "      <td>7.561</td>\n",
              "      <td>0.04884</td>\n",
              "      <td>1.30232</td>\n",
              "      <td>1.40223</td>\n",
              "      <td>0.94784</td>\n",
              "      <td>0.62877</td>\n",
              "      <td>0.14145</td>\n",
              "      <td>0.43630</td>\n",
              "      <td>2.70201</td>\n",
              "    </tr>\n",
              "  </tbody>\n",
              "</table>\n",
              "</div>"
            ],
            "text/plain": [
              "       Country          Region  Happiness Rank  Happiness Score  \\\n",
              "0  Switzerland  Western Europe               1            7.587   \n",
              "1      Iceland  Western Europe               2            7.561   \n",
              "\n",
              "   Standard Error  Economy (GDP per Capita)   Family  \\\n",
              "0         0.03411                   1.39651  1.34951   \n",
              "1         0.04884                   1.30232  1.40223   \n",
              "\n",
              "   Health (Life Expectancy)  Freedom  Trust (Government Corruption)  \\\n",
              "0                   0.94143  0.66557                        0.41978   \n",
              "1                   0.94784  0.62877                        0.14145   \n",
              "\n",
              "   Generosity  Dystopia Residual  \n",
              "0     0.29678            2.51738  \n",
              "1     0.43630            2.70201  "
            ]
          },
          "execution_count": 7,
          "metadata": {},
          "output_type": "execute_result"
        }
      ],
      "source": [
        "df2015.head(2)      #displaying the first rows of the data                       "
      ]
    },
    {
      "cell_type": "code",
      "execution_count": null,
      "metadata": {
        "id": "UbtBiq5kKTha",
        "outputId": "4902d1de-d763-4845-9fea-d0f256a81e37"
      },
      "outputs": [
        {
          "data": {
            "text/plain": [
              "array(['Country', 'Region', 'Happiness Rank', 'Happiness Score',\n",
              "       'Standard Error', 'Economy (GDP per Capita)', 'Family',\n",
              "       'Health (Life Expectancy)', 'Freedom',\n",
              "       'Trust (Government Corruption)', 'Generosity', 'Dystopia Residual'],\n",
              "      dtype=object)"
            ]
          },
          "execution_count": 8,
          "metadata": {},
          "output_type": "execute_result"
        }
      ],
      "source": [
        "df2015.columns.values               #The columns have long names \n",
        "                                    #we can drop Standard Error and Dystopia Residual columns"
      ]
    },
    {
      "cell_type": "code",
      "execution_count": null,
      "metadata": {
        "id": "IlqT_0w4KTha"
      },
      "outputs": [],
      "source": [
        "#I changed the names of some columns, to make it easier to work with "
      ]
    },
    {
      "cell_type": "code",
      "execution_count": null,
      "metadata": {
        "id": "v9nshnlqKTha"
      },
      "outputs": [],
      "source": [
        "df2015.columns=[\"Country\",\"Region\",\"Happiness_Rank\",\"Happiness_Score\",\"Standard_Error\",\"Economy\",\"Family\",\"Health\",\"Freedom\",\"Trust\",\"Generosity\",\"Dystopia_Residual\"]"
      ]
    },
    {
      "cell_type": "code",
      "execution_count": null,
      "metadata": {
        "id": "jqYE9xznKTha"
      },
      "outputs": [],
      "source": [
        "#lets drop [Standard Error,Dystopia Residual columns] from the dataset as we know that these factors were not usefull in our exploration"
      ]
    },
    {
      "cell_type": "code",
      "execution_count": null,
      "metadata": {
        "id": "IiehYAnuKTha",
        "outputId": "dffc13f6-2c9b-4219-c2b0-5db8e719ea55"
      },
      "outputs": [
        {
          "data": {
            "text/html": [
              "<div>\n",
              "<style scoped>\n",
              "    .dataframe tbody tr th:only-of-type {\n",
              "        vertical-align: middle;\n",
              "    }\n",
              "\n",
              "    .dataframe tbody tr th {\n",
              "        vertical-align: top;\n",
              "    }\n",
              "\n",
              "    .dataframe thead th {\n",
              "        text-align: right;\n",
              "    }\n",
              "</style>\n",
              "<table border=\"1\" class=\"dataframe\">\n",
              "  <thead>\n",
              "    <tr style=\"text-align: right;\">\n",
              "      <th></th>\n",
              "      <th>Country</th>\n",
              "      <th>Region</th>\n",
              "      <th>Happiness_Rank</th>\n",
              "      <th>Happiness_Score</th>\n",
              "      <th>Economy</th>\n",
              "      <th>Family</th>\n",
              "      <th>Health</th>\n",
              "      <th>Freedom</th>\n",
              "      <th>Trust</th>\n",
              "      <th>Generosity</th>\n",
              "    </tr>\n",
              "  </thead>\n",
              "  <tbody>\n",
              "    <tr>\n",
              "      <th>0</th>\n",
              "      <td>Switzerland</td>\n",
              "      <td>Western Europe</td>\n",
              "      <td>1</td>\n",
              "      <td>7.587</td>\n",
              "      <td>1.39651</td>\n",
              "      <td>1.34951</td>\n",
              "      <td>0.94143</td>\n",
              "      <td>0.66557</td>\n",
              "      <td>0.41978</td>\n",
              "      <td>0.29678</td>\n",
              "    </tr>\n",
              "    <tr>\n",
              "      <th>1</th>\n",
              "      <td>Iceland</td>\n",
              "      <td>Western Europe</td>\n",
              "      <td>2</td>\n",
              "      <td>7.561</td>\n",
              "      <td>1.30232</td>\n",
              "      <td>1.40223</td>\n",
              "      <td>0.94784</td>\n",
              "      <td>0.62877</td>\n",
              "      <td>0.14145</td>\n",
              "      <td>0.43630</td>\n",
              "    </tr>\n",
              "  </tbody>\n",
              "</table>\n",
              "</div>"
            ],
            "text/plain": [
              "       Country          Region  Happiness_Rank  Happiness_Score  Economy  \\\n",
              "0  Switzerland  Western Europe               1            7.587  1.39651   \n",
              "1      Iceland  Western Europe               2            7.561  1.30232   \n",
              "\n",
              "    Family   Health  Freedom    Trust  Generosity  \n",
              "0  1.34951  0.94143  0.66557  0.41978     0.29678  \n",
              "1  1.40223  0.94784  0.62877  0.14145     0.43630  "
            ]
          },
          "execution_count": 12,
          "metadata": {},
          "output_type": "execute_result"
        }
      ],
      "source": [
        "#dropping some rows and diplaying the result\n",
        "df2015.drop([\"Standard_Error\",\"Dystopia_Residual\"], axis=1, inplace=True)\n",
        "df2015.head(2)"
      ]
    },
    {
      "cell_type": "code",
      "execution_count": null,
      "metadata": {
        "id": "uc_BN8wXKThb",
        "outputId": "18d8bf6e-5d55-4bd3-f27c-2608f2a81406"
      },
      "outputs": [
        {
          "data": {
            "text/html": [
              "<div>\n",
              "<style scoped>\n",
              "    .dataframe tbody tr th:only-of-type {\n",
              "        vertical-align: middle;\n",
              "    }\n",
              "\n",
              "    .dataframe tbody tr th {\n",
              "        vertical-align: top;\n",
              "    }\n",
              "\n",
              "    .dataframe thead th {\n",
              "        text-align: right;\n",
              "    }\n",
              "</style>\n",
              "<table border=\"1\" class=\"dataframe\">\n",
              "  <thead>\n",
              "    <tr style=\"text-align: right;\">\n",
              "      <th></th>\n",
              "      <th>Country</th>\n",
              "      <th>Region</th>\n",
              "      <th>Happiness_Rank</th>\n",
              "      <th>Happiness_Score</th>\n",
              "      <th>Economy</th>\n",
              "      <th>Family</th>\n",
              "      <th>Health</th>\n",
              "      <th>Freedom</th>\n",
              "      <th>Trust</th>\n",
              "      <th>Generosity</th>\n",
              "    </tr>\n",
              "  </thead>\n",
              "  <tbody>\n",
              "    <tr>\n",
              "      <th>156</th>\n",
              "      <td>Burundi</td>\n",
              "      <td>Sub-Saharan Africa</td>\n",
              "      <td>157</td>\n",
              "      <td>2.905</td>\n",
              "      <td>0.01530</td>\n",
              "      <td>0.41587</td>\n",
              "      <td>0.22396</td>\n",
              "      <td>0.11850</td>\n",
              "      <td>0.10062</td>\n",
              "      <td>0.19727</td>\n",
              "    </tr>\n",
              "    <tr>\n",
              "      <th>157</th>\n",
              "      <td>Togo</td>\n",
              "      <td>Sub-Saharan Africa</td>\n",
              "      <td>158</td>\n",
              "      <td>2.839</td>\n",
              "      <td>0.20868</td>\n",
              "      <td>0.13995</td>\n",
              "      <td>0.28443</td>\n",
              "      <td>0.36453</td>\n",
              "      <td>0.10731</td>\n",
              "      <td>0.16681</td>\n",
              "    </tr>\n",
              "  </tbody>\n",
              "</table>\n",
              "</div>"
            ],
            "text/plain": [
              "     Country              Region  Happiness_Rank  Happiness_Score  Economy  \\\n",
              "156  Burundi  Sub-Saharan Africa             157            2.905  0.01530   \n",
              "157     Togo  Sub-Saharan Africa             158            2.839  0.20868   \n",
              "\n",
              "      Family   Health  Freedom    Trust  Generosity  \n",
              "156  0.41587  0.22396  0.11850  0.10062     0.19727  \n",
              "157  0.13995  0.28443  0.36453  0.10731     0.16681  "
            ]
          },
          "execution_count": 13,
          "metadata": {},
          "output_type": "execute_result"
        }
      ],
      "source": [
        "df2015.tail(2)"
      ]
    },
    {
      "cell_type": "code",
      "execution_count": null,
      "metadata": {
        "id": "gTOdqmCPKThb",
        "outputId": "ef74f33e-30c1-43ad-b722-10b2f4e3d6b0"
      },
      "outputs": [
        {
          "data": {
            "text/html": [
              "<div>\n",
              "<style scoped>\n",
              "    .dataframe tbody tr th:only-of-type {\n",
              "        vertical-align: middle;\n",
              "    }\n",
              "\n",
              "    .dataframe tbody tr th {\n",
              "        vertical-align: top;\n",
              "    }\n",
              "\n",
              "    .dataframe thead th {\n",
              "        text-align: right;\n",
              "    }\n",
              "</style>\n",
              "<table border=\"1\" class=\"dataframe\">\n",
              "  <thead>\n",
              "    <tr style=\"text-align: right;\">\n",
              "      <th></th>\n",
              "      <th>Happiness_Rank</th>\n",
              "      <th>Happiness_Score</th>\n",
              "      <th>Economy</th>\n",
              "      <th>Family</th>\n",
              "      <th>Health</th>\n",
              "      <th>Freedom</th>\n",
              "      <th>Trust</th>\n",
              "      <th>Generosity</th>\n",
              "    </tr>\n",
              "  </thead>\n",
              "  <tbody>\n",
              "    <tr>\n",
              "      <th>count</th>\n",
              "      <td>158.000000</td>\n",
              "      <td>158.000000</td>\n",
              "      <td>158.000000</td>\n",
              "      <td>158.000000</td>\n",
              "      <td>158.000000</td>\n",
              "      <td>158.000000</td>\n",
              "      <td>158.000000</td>\n",
              "      <td>158.000000</td>\n",
              "    </tr>\n",
              "    <tr>\n",
              "      <th>mean</th>\n",
              "      <td>79.493671</td>\n",
              "      <td>5.375734</td>\n",
              "      <td>0.846137</td>\n",
              "      <td>0.991046</td>\n",
              "      <td>0.630259</td>\n",
              "      <td>0.428615</td>\n",
              "      <td>0.143422</td>\n",
              "      <td>0.237296</td>\n",
              "    </tr>\n",
              "    <tr>\n",
              "      <th>std</th>\n",
              "      <td>45.754363</td>\n",
              "      <td>1.145010</td>\n",
              "      <td>0.403121</td>\n",
              "      <td>0.272369</td>\n",
              "      <td>0.247078</td>\n",
              "      <td>0.150693</td>\n",
              "      <td>0.120034</td>\n",
              "      <td>0.126685</td>\n",
              "    </tr>\n",
              "    <tr>\n",
              "      <th>min</th>\n",
              "      <td>1.000000</td>\n",
              "      <td>2.839000</td>\n",
              "      <td>0.000000</td>\n",
              "      <td>0.000000</td>\n",
              "      <td>0.000000</td>\n",
              "      <td>0.000000</td>\n",
              "      <td>0.000000</td>\n",
              "      <td>0.000000</td>\n",
              "    </tr>\n",
              "    <tr>\n",
              "      <th>25%</th>\n",
              "      <td>40.250000</td>\n",
              "      <td>4.526000</td>\n",
              "      <td>0.545808</td>\n",
              "      <td>0.856823</td>\n",
              "      <td>0.439185</td>\n",
              "      <td>0.328330</td>\n",
              "      <td>0.061675</td>\n",
              "      <td>0.150553</td>\n",
              "    </tr>\n",
              "    <tr>\n",
              "      <th>50%</th>\n",
              "      <td>79.500000</td>\n",
              "      <td>5.232500</td>\n",
              "      <td>0.910245</td>\n",
              "      <td>1.029510</td>\n",
              "      <td>0.696705</td>\n",
              "      <td>0.435515</td>\n",
              "      <td>0.107220</td>\n",
              "      <td>0.216130</td>\n",
              "    </tr>\n",
              "    <tr>\n",
              "      <th>75%</th>\n",
              "      <td>118.750000</td>\n",
              "      <td>6.243750</td>\n",
              "      <td>1.158448</td>\n",
              "      <td>1.214405</td>\n",
              "      <td>0.811013</td>\n",
              "      <td>0.549092</td>\n",
              "      <td>0.180255</td>\n",
              "      <td>0.309883</td>\n",
              "    </tr>\n",
              "    <tr>\n",
              "      <th>max</th>\n",
              "      <td>158.000000</td>\n",
              "      <td>7.587000</td>\n",
              "      <td>1.690420</td>\n",
              "      <td>1.402230</td>\n",
              "      <td>1.025250</td>\n",
              "      <td>0.669730</td>\n",
              "      <td>0.551910</td>\n",
              "      <td>0.795880</td>\n",
              "    </tr>\n",
              "  </tbody>\n",
              "</table>\n",
              "</div>"
            ],
            "text/plain": [
              "       Happiness_Rank  Happiness_Score     Economy      Family      Health  \\\n",
              "count      158.000000       158.000000  158.000000  158.000000  158.000000   \n",
              "mean        79.493671         5.375734    0.846137    0.991046    0.630259   \n",
              "std         45.754363         1.145010    0.403121    0.272369    0.247078   \n",
              "min          1.000000         2.839000    0.000000    0.000000    0.000000   \n",
              "25%         40.250000         4.526000    0.545808    0.856823    0.439185   \n",
              "50%         79.500000         5.232500    0.910245    1.029510    0.696705   \n",
              "75%        118.750000         6.243750    1.158448    1.214405    0.811013   \n",
              "max        158.000000         7.587000    1.690420    1.402230    1.025250   \n",
              "\n",
              "          Freedom       Trust  Generosity  \n",
              "count  158.000000  158.000000  158.000000  \n",
              "mean     0.428615    0.143422    0.237296  \n",
              "std      0.150693    0.120034    0.126685  \n",
              "min      0.000000    0.000000    0.000000  \n",
              "25%      0.328330    0.061675    0.150553  \n",
              "50%      0.435515    0.107220    0.216130  \n",
              "75%      0.549092    0.180255    0.309883  \n",
              "max      0.669730    0.551910    0.795880  "
            ]
          },
          "execution_count": 14,
          "metadata": {},
          "output_type": "execute_result"
        }
      ],
      "source": [
        "df2015.describe()                # shows only numerical features"
      ]
    },
    {
      "cell_type": "code",
      "execution_count": null,
      "metadata": {
        "id": "b0SymHSFKThb",
        "outputId": "788d5f59-9c45-4d69-8e28-97a35327f3c5"
      },
      "outputs": [
        {
          "data": {
            "text/plain": [
              "False"
            ]
          },
          "execution_count": 15,
          "metadata": {},
          "output_type": "execute_result"
        }
      ],
      "source": [
        "any(df2015.duplicated('Country').values)   #there is no duplication in the Country columns "
      ]
    },
    {
      "cell_type": "code",
      "execution_count": null,
      "metadata": {
        "id": "sO3vgfTmKThb"
      },
      "outputs": [],
      "source": [
        "#Some comments about the describtion table:"
      ]
    },
    {
      "cell_type": "raw",
      "metadata": {
        "id": "nCD0PuDMKThb"
      },
      "source": [
        "The average Happiness Score is 5.375734\n",
        "The minimum Happiness Score is 2.839\n",
        "The maximum Happiness Score is 7.587 \n",
        "we have 158 countries (no duplication)\n",
        "The minimum value of all the factors = zero \n",
        "The maximum value of all the factors 0.13693<=factor<=1.69042\n",
        "25% of the countries have 4.526 Happiness Score\n",
        "50% of the countries have 5.2325 Happiness Score which is almost the mean 5.375734 \n",
        "75% of the countries have 6.243750 Happiness Score \n",
        "we can also see that the mean of the Family factor is the highest between all the factors, this give us an idea that the Family Factor contributes the most to the happiness score follows by the Economy and The Health Factors.Trust (Government Corruption)  the least factor that contributes to the Happiness Score."
      ]
    },
    {
      "cell_type": "code",
      "execution_count": null,
      "metadata": {
        "id": "nhqxc4QpKThc",
        "outputId": "e2cd0aa5-3724-4ccd-ab74-a04e1914eea0"
      },
      "outputs": [
        {
          "name": "stderr",
          "output_type": "stream",
          "text": [
            "C:\\Users\\Acc\\Anaconda3\\lib\\site-packages\\seaborn\\distributions.py:2551: FutureWarning: `distplot` is a deprecated function and will be removed in a future version. Please adapt your code to use either `displot` (a figure-level function with similar flexibility) or `histplot` (an axes-level function for histograms).\n",
            "  warnings.warn(msg, FutureWarning)\n"
          ]
        },
        {
          "data": {
            "text/plain": [
              "<AxesSubplot:xlabel='Happiness_Score', ylabel='Density'>"
            ]
          },
          "execution_count": 17,
          "metadata": {},
          "output_type": "execute_result"
        },
        {
          "data": {
            "image/png": "[encoded data removed]",
            "text/plain": [
              "<Figure size 432x288 with 1 Axes>"
            ]
          },
          "metadata": {
            "needs_background": "light"
          },
          "output_type": "display_data"
        }
      ],
      "source": [
        "#The distribution of the Happiness Score:\n",
        "sns.distplot(df2015['Happiness_Score'])\n",
        "#The distribution of the happiness score is distributed  between 2.839-7.587"
      ]
    },
    {
      "cell_type": "markdown",
      "metadata": {
        "id": "0opO0DyuKThc"
      },
      "source": [
        "## 3.Exploring the Categorical Variables vs. Happiness Score:"
      ]
    },
    {
      "cell_type": "code",
      "execution_count": null,
      "metadata": {
        "id": "bo4K14qFKThc",
        "outputId": "03288380-0c26-4b86-ba5f-ddf1500c120e"
      },
      "outputs": [
        {
          "data": {
            "text/plain": [
              "array(['Western Europe', 'North America', 'Australia and New Zealand',\n",
              "       'Middle East and Northern Africa', 'Latin America and Caribbean',\n",
              "       'Southeastern Asia', 'Central and Eastern Europe', 'Eastern Asia',\n",
              "       'Sub-Saharan Africa', 'Southern Asia'], dtype=object)"
            ]
          },
          "execution_count": 18,
          "metadata": {},
          "output_type": "execute_result"
        }
      ],
      "source": [
        "df2015[\"Region\"].unique()  #The names of the regions"
      ]
    },
    {
      "cell_type": "code",
      "execution_count": null,
      "metadata": {
        "id": "0OvDc_crKThc",
        "outputId": "3f65b5ea-d9fc-4420-f173-67d63c6e8804"
      },
      "outputs": [
        {
          "data": {
            "text/plain": [
              "10"
            ]
          },
          "execution_count": 19,
          "metadata": {},
          "output_type": "execute_result"
        }
      ],
      "source": [
        "len(df2015[\"Region\"].unique())       #there are 10 regions"
      ]
    },
    {
      "cell_type": "code",
      "execution_count": null,
      "metadata": {
        "id": "3EbbGIVYKThc",
        "outputId": "27c0bb9c-7e3c-4401-825e-07a6f044df70"
      },
      "outputs": [
        {
          "data": {
            "text/plain": [
              "Region\n",
              "Sub-Saharan Africa                 40\n",
              "Central and Eastern Europe         29\n",
              "Latin America and Caribbean        22\n",
              "Western Europe                     21\n",
              "Middle East and Northern Africa    20\n",
              "Southeastern Asia                   9\n",
              "Southern Asia                       7\n",
              "Eastern Asia                        6\n",
              "North America                       2\n",
              "Australia and New Zealand           2\n",
              "Name: Country, dtype: int64"
            ]
          },
          "execution_count": 20,
          "metadata": {},
          "output_type": "execute_result"
        }
      ],
      "source": [
        "#How many countries are in each region?\n",
        "df2015.groupby(\"Region\")[\"Country\"].count().sort_values(ascending=False)\n",
        "# 40 countries in sub-Saharan Africa, 2 countries in Asuralia and New Zealand"
      ]
    },
    {
      "cell_type": "code",
      "execution_count": null,
      "metadata": {
        "id": "XYMOlxi4KThc",
        "outputId": "e1fd9267-9fc6-4947-e0e0-8a603de647f6"
      },
      "outputs": [
        {
          "name": "stderr",
          "output_type": "stream",
          "text": [
            "C:\\Users\\Acc\\Anaconda3\\lib\\site-packages\\seaborn\\_decorators.py:36: FutureWarning: Pass the following variable as a keyword arg: x. From version 0.12, the only valid positional argument will be `data`, and passing other arguments without an explicit keyword will result in an error or misinterpretation.\n",
            "  warnings.warn(\n"
          ]
        },
        {
          "data": {
            "text/plain": [
              "(array([0, 1, 2, 3, 4, 5, 6, 7, 8, 9]),\n",
              " [Text(0, 0, 'Western Europe'),\n",
              "  Text(1, 0, 'North America'),\n",
              "  Text(2, 0, 'Australia and New Zealand'),\n",
              "  Text(3, 0, 'Middle East and Northern Africa'),\n",
              "  Text(4, 0, 'Latin America and Caribbean'),\n",
              "  Text(5, 0, 'Southeastern Asia'),\n",
              "  Text(6, 0, 'Central and Eastern Europe'),\n",
              "  Text(7, 0, 'Eastern Asia'),\n",
              "  Text(8, 0, 'Sub-Saharan Africa'),\n",
              "  Text(9, 0, 'Southern Asia')])"
            ]
          },
          "execution_count": 21,
          "metadata": {},
          "output_type": "execute_result"
        },
        {
          "data": {
            "image/png": "[encoded data removed]",
            "text/plain": [
              "<Figure size 432x288 with 1 Axes>"
            ]
          },
          "metadata": {
            "needs_background": "light"
          },
          "output_type": "display_data"
        }
      ],
      "source": [
        "#plotting the number of countries in each region \n",
        "sns.countplot(df2015[\"Region\"], data=df2015)\n",
        "plt.xticks(rotation=90)"
      ]
    },
    {
      "cell_type": "code",
      "execution_count": null,
      "metadata": {
        "id": "9Op3GRMqKThd",
        "outputId": "48352acc-10bc-4ce3-d31a-60f0be3b93da"
      },
      "outputs": [
        {
          "data": {
            "text/plain": [
              "Region\n",
              "Australia and New Zealand          7.285000\n",
              "North America                      7.273000\n",
              "Western Europe                     6.689619\n",
              "Latin America and Caribbean        6.144682\n",
              "Eastern Asia                       5.626167\n",
              "Middle East and Northern Africa    5.406900\n",
              "Central and Eastern Europe         5.332931\n",
              "Southeastern Asia                  5.317444\n",
              "Southern Asia                      4.580857\n",
              "Sub-Saharan Africa                 4.202800\n",
              "Name: Happiness_Score, dtype: float64"
            ]
          },
          "execution_count": 22,
          "metadata": {},
          "output_type": "execute_result"
        }
      ],
      "source": [
        "#The average of the Happiness_Score in each region:\n",
        "df2015.groupby(\"Region\")[\"Happiness_Score\"].mean().sort_values(ascending=False)  "
      ]
    },
    {
      "cell_type": "code",
      "execution_count": null,
      "metadata": {
        "id": "GX47pCIvKThd"
      },
      "outputs": [],
      "source": [
        "#We can notice that (Australia and New Zealand)  region is the happiest,(Sub-Saharan Africa) is the least happy region "
      ]
    },
    {
      "cell_type": "code",
      "execution_count": null,
      "metadata": {
        "id": "ic-KvvMXKThd",
        "outputId": "495270af-c1be-4792-85ad-2131a9994719"
      },
      "outputs": [
        {
          "data": {
            "text/plain": [
              "<AxesSubplot:title={'center':'Happiness Scores by Region'}, ylabel='Region'>"
            ]
          },
          "execution_count": 24,
          "metadata": {},
          "output_type": "execute_result"
        },
        {
          "data": {
            "image/png": "[encoded data removed]",
            "text/plain": [
              "<Figure size 432x288 with 1 Axes>"
            ]
          },
          "metadata": {
            "needs_background": "light"
          },
          "output_type": "display_data"
        }
      ],
      "source": [
        "# Plotting Region vs. Happiness Score\n",
        "df2015.groupby(\"Region\")[\"Happiness_Score\"].mean().plot(y='Region',x='Happiness_Score', kind='barh', title='Happiness Scores by Region', xlim=(0,8),color=list('rgbkymc'))"
      ]
    },
    {
      "cell_type": "code",
      "execution_count": null,
      "metadata": {
        "id": "8eyYNyOTKThd",
        "outputId": "75c2faf5-2f11-4d47-8053-03bdcbc21e24"
      },
      "outputs": [
        {
          "data": {
            "text/html": [
              "<div>\n",
              "<style scoped>\n",
              "    .dataframe tbody tr th:only-of-type {\n",
              "        vertical-align: middle;\n",
              "    }\n",
              "\n",
              "    .dataframe tbody tr th {\n",
              "        vertical-align: top;\n",
              "    }\n",
              "\n",
              "    .dataframe thead th {\n",
              "        text-align: right;\n",
              "    }\n",
              "</style>\n",
              "<table border=\"1\" class=\"dataframe\">\n",
              "  <thead>\n",
              "    <tr style=\"text-align: right;\">\n",
              "      <th></th>\n",
              "      <th>mean</th>\n",
              "      <th>amax</th>\n",
              "      <th>amin</th>\n",
              "      <th>dif_max</th>\n",
              "      <th>dif_min</th>\n",
              "      <th>median</th>\n",
              "      <th>std</th>\n",
              "    </tr>\n",
              "    <tr>\n",
              "      <th>Region</th>\n",
              "      <th></th>\n",
              "      <th></th>\n",
              "      <th></th>\n",
              "      <th></th>\n",
              "      <th></th>\n",
              "      <th></th>\n",
              "      <th></th>\n",
              "    </tr>\n",
              "  </thead>\n",
              "  <tbody>\n",
              "    <tr>\n",
              "      <th>Australia and New Zealand</th>\n",
              "      <td>7.285000</td>\n",
              "      <td>7.286</td>\n",
              "      <td>7.284</td>\n",
              "      <td>0.001000</td>\n",
              "      <td>0.001000</td>\n",
              "      <td>7.285</td>\n",
              "      <td>0.001414</td>\n",
              "    </tr>\n",
              "    <tr>\n",
              "      <th>Central and Eastern Europe</th>\n",
              "      <td>5.332931</td>\n",
              "      <td>6.505</td>\n",
              "      <td>4.218</td>\n",
              "      <td>1.172069</td>\n",
              "      <td>1.114931</td>\n",
              "      <td>5.286</td>\n",
              "      <td>0.570446</td>\n",
              "    </tr>\n",
              "    <tr>\n",
              "      <th>Eastern Asia</th>\n",
              "      <td>5.626167</td>\n",
              "      <td>6.298</td>\n",
              "      <td>4.874</td>\n",
              "      <td>0.671833</td>\n",
              "      <td>0.752167</td>\n",
              "      <td>5.729</td>\n",
              "      <td>0.554053</td>\n",
              "    </tr>\n",
              "    <tr>\n",
              "      <th>Latin America and Caribbean</th>\n",
              "      <td>6.144682</td>\n",
              "      <td>7.226</td>\n",
              "      <td>4.518</td>\n",
              "      <td>1.081318</td>\n",
              "      <td>1.626682</td>\n",
              "      <td>6.149</td>\n",
              "      <td>0.728560</td>\n",
              "    </tr>\n",
              "    <tr>\n",
              "      <th>Middle East and Northern Africa</th>\n",
              "      <td>5.406900</td>\n",
              "      <td>7.278</td>\n",
              "      <td>3.006</td>\n",
              "      <td>1.871100</td>\n",
              "      <td>2.400900</td>\n",
              "      <td>5.262</td>\n",
              "      <td>1.101382</td>\n",
              "    </tr>\n",
              "    <tr>\n",
              "      <th>North America</th>\n",
              "      <td>7.273000</td>\n",
              "      <td>7.427</td>\n",
              "      <td>7.119</td>\n",
              "      <td>0.154000</td>\n",
              "      <td>0.154000</td>\n",
              "      <td>7.273</td>\n",
              "      <td>0.217789</td>\n",
              "    </tr>\n",
              "    <tr>\n",
              "      <th>Southeastern Asia</th>\n",
              "      <td>5.317444</td>\n",
              "      <td>6.798</td>\n",
              "      <td>3.819</td>\n",
              "      <td>1.480556</td>\n",
              "      <td>1.498444</td>\n",
              "      <td>5.360</td>\n",
              "      <td>0.950020</td>\n",
              "    </tr>\n",
              "    <tr>\n",
              "      <th>Southern Asia</th>\n",
              "      <td>4.580857</td>\n",
              "      <td>5.253</td>\n",
              "      <td>3.575</td>\n",
              "      <td>0.672143</td>\n",
              "      <td>1.005857</td>\n",
              "      <td>4.565</td>\n",
              "      <td>0.570526</td>\n",
              "    </tr>\n",
              "    <tr>\n",
              "      <th>Sub-Saharan Africa</th>\n",
              "      <td>4.202800</td>\n",
              "      <td>5.477</td>\n",
              "      <td>2.839</td>\n",
              "      <td>1.274200</td>\n",
              "      <td>1.363800</td>\n",
              "      <td>4.272</td>\n",
              "      <td>0.609557</td>\n",
              "    </tr>\n",
              "    <tr>\n",
              "      <th>Western Europe</th>\n",
              "      <td>6.689619</td>\n",
              "      <td>7.587</td>\n",
              "      <td>4.857</td>\n",
              "      <td>0.897381</td>\n",
              "      <td>1.832619</td>\n",
              "      <td>6.937</td>\n",
              "      <td>0.824582</td>\n",
              "    </tr>\n",
              "  </tbody>\n",
              "</table>\n",
              "</div>"
            ],
            "text/plain": [
              "                                     mean   amax   amin   dif_max   dif_min  \\\n",
              "Region                                                                        \n",
              "Australia and New Zealand        7.285000  7.286  7.284  0.001000  0.001000   \n",
              "Central and Eastern Europe       5.332931  6.505  4.218  1.172069  1.114931   \n",
              "Eastern Asia                     5.626167  6.298  4.874  0.671833  0.752167   \n",
              "Latin America and Caribbean      6.144682  7.226  4.518  1.081318  1.626682   \n",
              "Middle East and Northern Africa  5.406900  7.278  3.006  1.871100  2.400900   \n",
              "North America                    7.273000  7.427  7.119  0.154000  0.154000   \n",
              "Southeastern Asia                5.317444  6.798  3.819  1.480556  1.498444   \n",
              "Southern Asia                    4.580857  5.253  3.575  0.672143  1.005857   \n",
              "Sub-Saharan Africa               4.202800  5.477  2.839  1.274200  1.363800   \n",
              "Western Europe                   6.689619  7.587  4.857  0.897381  1.832619   \n",
              "\n",
              "                                 median       std  \n",
              "Region                                             \n",
              "Australia and New Zealand         7.285  0.001414  \n",
              "Central and Eastern Europe        5.286  0.570446  \n",
              "Eastern Asia                      5.729  0.554053  \n",
              "Latin America and Caribbean       6.149  0.728560  \n",
              "Middle East and Northern Africa   5.262  1.101382  \n",
              "North America                     7.273  0.217789  \n",
              "Southeastern Asia                 5.360  0.950020  \n",
              "Southern Asia                     4.565  0.570526  \n",
              "Sub-Saharan Africa                4.272  0.609557  \n",
              "Western Europe                    6.937  0.824582  "
            ]
          },
          "execution_count": 25,
          "metadata": {},
          "output_type": "execute_result"
        }
      ],
      "source": [
        "#finding the maximum,minimum value and the difference between the maximum/minimum value and the mean of Happiness Score for each region\n",
        "\n",
        "def dif_max(group):\n",
        "    return (group.max() - group.mean())     #function that calculates the difference between the mean and the maximum value\n",
        "\n",
        "def dif_min(group):\n",
        "    return (group.mean()-group.min())      # #function that calculates the difference between the mean and the minimum value\n",
        "\n",
        "df2015.groupby('Region')['Happiness_Score'].agg([np.mean,np.max,np.min,dif_max,dif_min,np.median,np.std])\n"
      ]
    },
    {
      "cell_type": "code",
      "execution_count": null,
      "metadata": {
        "id": "4KTtxetQKThd",
        "outputId": "cb17a454-b399-46cb-cdf5-51eda96a4dc3"
      },
      "outputs": [
        {
          "data": {
            "text/html": [
              "<div>\n",
              "<style scoped>\n",
              "    .dataframe tbody tr th:only-of-type {\n",
              "        vertical-align: middle;\n",
              "    }\n",
              "\n",
              "    .dataframe tbody tr th {\n",
              "        vertical-align: top;\n",
              "    }\n",
              "\n",
              "    .dataframe thead th {\n",
              "        text-align: right;\n",
              "    }\n",
              "</style>\n",
              "<table border=\"1\" class=\"dataframe\">\n",
              "  <thead>\n",
              "    <tr style=\"text-align: right;\">\n",
              "      <th></th>\n",
              "      <th></th>\n",
              "      <th>mean</th>\n",
              "    </tr>\n",
              "    <tr>\n",
              "      <th>Region</th>\n",
              "      <th>Country</th>\n",
              "      <th></th>\n",
              "    </tr>\n",
              "  </thead>\n",
              "  <tbody>\n",
              "    <tr>\n",
              "      <th rowspan=\"2\" valign=\"top\">Australia and New Zealand</th>\n",
              "      <th>Australia</th>\n",
              "      <td>7.284</td>\n",
              "    </tr>\n",
              "    <tr>\n",
              "      <th>New Zealand</th>\n",
              "      <td>7.286</td>\n",
              "    </tr>\n",
              "    <tr>\n",
              "      <th rowspan=\"3\" valign=\"top\">Central and Eastern Europe</th>\n",
              "      <th>Albania</th>\n",
              "      <td>4.959</td>\n",
              "    </tr>\n",
              "    <tr>\n",
              "      <th>Armenia</th>\n",
              "      <td>4.350</td>\n",
              "    </tr>\n",
              "    <tr>\n",
              "      <th>Azerbaijan</th>\n",
              "      <td>5.212</td>\n",
              "    </tr>\n",
              "    <tr>\n",
              "      <th>...</th>\n",
              "      <th>...</th>\n",
              "      <td>...</td>\n",
              "    </tr>\n",
              "    <tr>\n",
              "      <th rowspan=\"5\" valign=\"top\">Western Europe</th>\n",
              "      <th>Portugal</th>\n",
              "      <td>5.102</td>\n",
              "    </tr>\n",
              "    <tr>\n",
              "      <th>Spain</th>\n",
              "      <td>6.329</td>\n",
              "    </tr>\n",
              "    <tr>\n",
              "      <th>Sweden</th>\n",
              "      <td>7.364</td>\n",
              "    </tr>\n",
              "    <tr>\n",
              "      <th>Switzerland</th>\n",
              "      <td>7.587</td>\n",
              "    </tr>\n",
              "    <tr>\n",
              "      <th>United Kingdom</th>\n",
              "      <td>6.867</td>\n",
              "    </tr>\n",
              "  </tbody>\n",
              "</table>\n",
              "<p>158 rows × 1 columns</p>\n",
              "</div>"
            ],
            "text/plain": [
              "                                            mean\n",
              "Region                     Country              \n",
              "Australia and New Zealand  Australia       7.284\n",
              "                           New Zealand     7.286\n",
              "Central and Eastern Europe Albania         4.959\n",
              "                           Armenia         4.350\n",
              "                           Azerbaijan      5.212\n",
              "...                                          ...\n",
              "Western Europe             Portugal        5.102\n",
              "                           Spain           6.329\n",
              "                           Sweden          7.364\n",
              "                           Switzerland     7.587\n",
              "                           United Kingdom  6.867\n",
              "\n",
              "[158 rows x 1 columns]"
            ]
          },
          "execution_count": 26,
          "metadata": {},
          "output_type": "execute_result"
        }
      ],
      "source": [
        "#For each region and country, what is the  mean of the Happiness_Score?\n",
        "df2015.groupby([\"Region\",\"Country\"])[\"Happiness_Score\"].agg([\"mean\"])"
      ]
    },
    {
      "cell_type": "code",
      "execution_count": null,
      "metadata": {
        "id": "SCzFaR3HKThd",
        "outputId": "25abd5f1-9f9a-44ae-e775-67467754ba6e"
      },
      "outputs": [
        {
          "data": {
            "text/plain": [
              "Country\n",
              "Switzerland    7.587\n",
              "Iceland        7.561\n",
              "Denmark        7.527\n",
              "Norway         7.522\n",
              "Canada         7.427\n",
              "Finland        7.406\n",
              "Netherlands    7.378\n",
              "Sweden         7.364\n",
              "New Zealand    7.286\n",
              "Australia      7.284\n",
              "Name: Happiness_Score, dtype: float64"
            ]
          },
          "execution_count": 27,
          "metadata": {},
          "output_type": "execute_result"
        }
      ],
      "source": [
        "#The 10 happiest countries (by Happiness_Score)?\n",
        "df2015.groupby(\"Country\")[\"Happiness_Score\"].mean().sort_values(ascending=False).head(10) "
      ]
    },
    {
      "cell_type": "code",
      "execution_count": null,
      "metadata": {
        "id": "DDjgATgJKThd",
        "outputId": "ef9c957e-1aae-418b-c022-617bcddc6314"
      },
      "outputs": [
        {
          "data": {
            "text/plain": [
              "(array([0, 1, 2, 3, 4, 5, 6, 7, 8, 9]),\n",
              " [Text(0, 0, 'Switzerland'),\n",
              "  Text(1, 0, 'Iceland'),\n",
              "  Text(2, 0, 'Denmark'),\n",
              "  Text(3, 0, 'Norway'),\n",
              "  Text(4, 0, 'Canada'),\n",
              "  Text(5, 0, 'Finland'),\n",
              "  Text(6, 0, 'Netherlands'),\n",
              "  Text(7, 0, 'Sweden'),\n",
              "  Text(8, 0, 'New Zealand'),\n",
              "  Text(9, 0, 'Australia')])"
            ]
          },
          "execution_count": 28,
          "metadata": {},
          "output_type": "execute_result"
        },
        {
          "data": {
            "image/png": "[encoded data removed]",
            "text/plain": [
              "<Figure size 1224x432 with 1 Axes>"
            ]
          },
          "metadata": {
            "needs_background": "light"
          },
          "output_type": "display_data"
        }
      ],
      "source": [
        "# Plotting the 10 happiest countries\n",
        "plt.figure(figsize=(17, 6))\n",
        "g=sns.barplot(x ='Country', y ='Happiness_Score', data = df2015.head(10), palette ='Paired') \n",
        "plt.xticks(rotation=90)"
      ]
    },
    {
      "cell_type": "code",
      "execution_count": null,
      "metadata": {
        "id": "wItLjtWXKThd",
        "outputId": "36b5d3ec-cba7-40be-db31-41d23ab31230"
      },
      "outputs": [
        {
          "data": {
            "text/html": [
              "<div>\n",
              "<style scoped>\n",
              "    .dataframe tbody tr th:only-of-type {\n",
              "        vertical-align: middle;\n",
              "    }\n",
              "\n",
              "    .dataframe tbody tr th {\n",
              "        vertical-align: top;\n",
              "    }\n",
              "\n",
              "    .dataframe thead th {\n",
              "        text-align: right;\n",
              "    }\n",
              "</style>\n",
              "<table border=\"1\" class=\"dataframe\">\n",
              "  <thead>\n",
              "    <tr style=\"text-align: right;\">\n",
              "      <th></th>\n",
              "      <th>Country</th>\n",
              "      <th>Region</th>\n",
              "      <th>Happiness_Rank</th>\n",
              "      <th>Happiness_Score</th>\n",
              "      <th>Economy</th>\n",
              "      <th>Family</th>\n",
              "      <th>Health</th>\n",
              "      <th>Freedom</th>\n",
              "      <th>Trust</th>\n",
              "      <th>Generosity</th>\n",
              "    </tr>\n",
              "  </thead>\n",
              "  <tbody>\n",
              "    <tr>\n",
              "      <th>0</th>\n",
              "      <td>Switzerland</td>\n",
              "      <td>Western Europe</td>\n",
              "      <td>1</td>\n",
              "      <td>7.587</td>\n",
              "      <td>1.39651</td>\n",
              "      <td>1.34951</td>\n",
              "      <td>0.94143</td>\n",
              "      <td>0.66557</td>\n",
              "      <td>0.41978</td>\n",
              "      <td>0.29678</td>\n",
              "    </tr>\n",
              "  </tbody>\n",
              "</table>\n",
              "</div>"
            ],
            "text/plain": [
              "       Country          Region  Happiness_Rank  Happiness_Score  Economy  \\\n",
              "0  Switzerland  Western Europe               1            7.587  1.39651   \n",
              "\n",
              "    Family   Health  Freedom    Trust  Generosity  \n",
              "0  1.34951  0.94143  0.66557  0.41978     0.29678  "
            ]
          },
          "execution_count": 29,
          "metadata": {},
          "output_type": "execute_result"
        }
      ],
      "source": [
        "df2015[df2015['Country']=='Switzerland'] #Switzerland is the happiest country in 2015, we notice that the economy factor in Switzerland is very high"
      ]
    },
    {
      "cell_type": "code",
      "execution_count": null,
      "metadata": {
        "id": "FYAj856gKThd",
        "outputId": "dfaaba6a-55ed-4022-c2dd-83d0cad7ce6a"
      },
      "outputs": [
        {
          "data": {
            "text/plain": [
              "Country\n",
              "Togo            2.839\n",
              "Burundi         2.905\n",
              "Syria           3.006\n",
              "Benin           3.340\n",
              "Rwanda          3.465\n",
              "Afghanistan     3.575\n",
              "Burkina Faso    3.587\n",
              "Ivory Coast     3.655\n",
              "Guinea          3.656\n",
              "Chad            3.667\n",
              "Name: Happiness_Score, dtype: float64"
            ]
          },
          "execution_count": 30,
          "metadata": {},
          "output_type": "execute_result"
        }
      ],
      "source": [
        "# the 10 least happy countries (by Happiness_Score)?\n",
        "df2015.groupby(\"Country\")[\"Happiness_Score\"].mean().sort_values(ascending=True).head(10) "
      ]
    },
    {
      "cell_type": "code",
      "execution_count": null,
      "metadata": {
        "id": "ZvllCa-_KThe",
        "outputId": "51f4cbd4-a6d8-4e3f-e4d8-4786c0f3509c"
      },
      "outputs": [
        {
          "data": {
            "text/plain": [
              "(array([0, 1, 2, 3, 4, 5, 6, 7, 8, 9]),\n",
              " [Text(0, 0, 'Chad'),\n",
              "  Text(1, 0, 'Guinea'),\n",
              "  Text(2, 0, 'Ivory Coast'),\n",
              "  Text(3, 0, 'Burkina Faso'),\n",
              "  Text(4, 0, 'Afghanistan'),\n",
              "  Text(5, 0, 'Rwanda'),\n",
              "  Text(6, 0, 'Benin'),\n",
              "  Text(7, 0, 'Syria'),\n",
              "  Text(8, 0, 'Burundi'),\n",
              "  Text(9, 0, 'Togo')])"
            ]
          },
          "execution_count": 31,
          "metadata": {},
          "output_type": "execute_result"
        },
        {
          "data": {
            "image/png": "[encoded data removed]",
            "text/plain": [
              "<Figure size 1224x432 with 1 Axes>"
            ]
          },
          "metadata": {
            "needs_background": "light"
          },
          "output_type": "display_data"
        }
      ],
      "source": [
        "# Plotting the 10 least happy countries\n",
        "\n",
        "plt.figure(figsize=(17, 6))\n",
        "g=sns.barplot(x ='Country', y ='Happiness_Score', data = df2015.tail(10), palette ='Paired') \n",
        "plt.xticks(rotation=90)"
      ]
    },
    {
      "cell_type": "code",
      "execution_count": null,
      "metadata": {
        "id": "jJxHCxMDKThe",
        "outputId": "b168cf75-c6f8-431f-baaf-edbdcc655142"
      },
      "outputs": [
        {
          "data": {
            "text/html": [
              "<div>\n",
              "<style scoped>\n",
              "    .dataframe tbody tr th:only-of-type {\n",
              "        vertical-align: middle;\n",
              "    }\n",
              "\n",
              "    .dataframe tbody tr th {\n",
              "        vertical-align: top;\n",
              "    }\n",
              "\n",
              "    .dataframe thead th {\n",
              "        text-align: right;\n",
              "    }\n",
              "</style>\n",
              "<table border=\"1\" class=\"dataframe\">\n",
              "  <thead>\n",
              "    <tr style=\"text-align: right;\">\n",
              "      <th></th>\n",
              "      <th>Country</th>\n",
              "      <th>Region</th>\n",
              "      <th>Happiness_Rank</th>\n",
              "      <th>Happiness_Score</th>\n",
              "      <th>Economy</th>\n",
              "      <th>Family</th>\n",
              "      <th>Health</th>\n",
              "      <th>Freedom</th>\n",
              "      <th>Trust</th>\n",
              "      <th>Generosity</th>\n",
              "    </tr>\n",
              "  </thead>\n",
              "  <tbody>\n",
              "    <tr>\n",
              "      <th>157</th>\n",
              "      <td>Togo</td>\n",
              "      <td>Sub-Saharan Africa</td>\n",
              "      <td>158</td>\n",
              "      <td>2.839</td>\n",
              "      <td>0.20868</td>\n",
              "      <td>0.13995</td>\n",
              "      <td>0.28443</td>\n",
              "      <td>0.36453</td>\n",
              "      <td>0.10731</td>\n",
              "      <td>0.16681</td>\n",
              "    </tr>\n",
              "  </tbody>\n",
              "</table>\n",
              "</div>"
            ],
            "text/plain": [
              "    Country              Region  Happiness_Rank  Happiness_Score  Economy  \\\n",
              "157    Togo  Sub-Saharan Africa             158            2.839  0.20868   \n",
              "\n",
              "      Family   Health  Freedom    Trust  Generosity  \n",
              "157  0.13995  0.28443  0.36453  0.10731     0.16681  "
            ]
          },
          "execution_count": 32,
          "metadata": {},
          "output_type": "execute_result"
        }
      ],
      "source": [
        "df2015[df2015['Country']=='Togo'] #Togo is the least happy country in 2015"
      ]
    },
    {
      "cell_type": "code",
      "execution_count": null,
      "metadata": {
        "id": "E-pjB9QwKThe",
        "outputId": "90015391-1ef1-48ad-ba44-c49e7456b775"
      },
      "outputs": [
        {
          "data": {
            "text/html": [
              "<div>\n",
              "<style scoped>\n",
              "    .dataframe tbody tr th:only-of-type {\n",
              "        vertical-align: middle;\n",
              "    }\n",
              "\n",
              "    .dataframe tbody tr th {\n",
              "        vertical-align: top;\n",
              "    }\n",
              "\n",
              "    .dataframe thead th {\n",
              "        text-align: right;\n",
              "    }\n",
              "</style>\n",
              "<table border=\"1\" class=\"dataframe\">\n",
              "  <thead>\n",
              "    <tr style=\"text-align: right;\">\n",
              "      <th></th>\n",
              "      <th>Region</th>\n",
              "      <th>Country</th>\n",
              "    </tr>\n",
              "  </thead>\n",
              "  <tbody>\n",
              "    <tr>\n",
              "      <th>8</th>\n",
              "      <td>Australia and New Zealand</td>\n",
              "      <td>New Zealand</td>\n",
              "    </tr>\n",
              "    <tr>\n",
              "      <th>30</th>\n",
              "      <td>Central and Eastern Europe</td>\n",
              "      <td>Czech Republic</td>\n",
              "    </tr>\n",
              "    <tr>\n",
              "      <th>37</th>\n",
              "      <td>Eastern Asia</td>\n",
              "      <td>Taiwan</td>\n",
              "    </tr>\n",
              "    <tr>\n",
              "      <th>11</th>\n",
              "      <td>Latin America and Caribbean</td>\n",
              "      <td>Costa Rica</td>\n",
              "    </tr>\n",
              "    <tr>\n",
              "      <th>10</th>\n",
              "      <td>Middle East and Northern Africa</td>\n",
              "      <td>Israel</td>\n",
              "    </tr>\n",
              "    <tr>\n",
              "      <th>4</th>\n",
              "      <td>North America</td>\n",
              "      <td>Canada</td>\n",
              "    </tr>\n",
              "    <tr>\n",
              "      <th>23</th>\n",
              "      <td>Southeastern Asia</td>\n",
              "      <td>Singapore</td>\n",
              "    </tr>\n",
              "    <tr>\n",
              "      <th>78</th>\n",
              "      <td>Southern Asia</td>\n",
              "      <td>Bhutan</td>\n",
              "    </tr>\n",
              "    <tr>\n",
              "      <th>70</th>\n",
              "      <td>Sub-Saharan Africa</td>\n",
              "      <td>Mauritius</td>\n",
              "    </tr>\n",
              "    <tr>\n",
              "      <th>0</th>\n",
              "      <td>Western Europe</td>\n",
              "      <td>Switzerland</td>\n",
              "    </tr>\n",
              "  </tbody>\n",
              "</table>\n",
              "</div>"
            ],
            "text/plain": [
              "                             Region         Country\n",
              "8         Australia and New Zealand     New Zealand\n",
              "30       Central and Eastern Europe  Czech Republic\n",
              "37                     Eastern Asia          Taiwan\n",
              "11      Latin America and Caribbean      Costa Rica\n",
              "10  Middle East and Northern Africa          Israel\n",
              "4                     North America          Canada\n",
              "23                Southeastern Asia       Singapore\n",
              "78                    Southern Asia          Bhutan\n",
              "70               Sub-Saharan Africa       Mauritius\n",
              "0                    Western Europe     Switzerland"
            ]
          },
          "execution_count": 33,
          "metadata": {},
          "output_type": "execute_result"
        }
      ],
      "source": [
        "#For each Region, which is the happiest country? \n",
        "idx=df2015.groupby(\"Region\")[\"Happiness_Score\"].idxmax()\n",
        "df2015.loc[idx,[\"Region\",\"Country\"]]                       "
      ]
    },
    {
      "cell_type": "code",
      "execution_count": null,
      "metadata": {
        "id": "dW_hlKMAKThe"
      },
      "outputs": [],
      "source": [
        "#The happiest country in Middle East and Northern Africa is Israel!"
      ]
    },
    {
      "cell_type": "code",
      "execution_count": null,
      "metadata": {
        "id": "kfQUgtODKThe",
        "outputId": "092eec99-ba62-4769-84ce-87dd8d3a1c07"
      },
      "outputs": [
        {
          "data": {
            "text/html": [
              "<div>\n",
              "<style scoped>\n",
              "    .dataframe tbody tr th:only-of-type {\n",
              "        vertical-align: middle;\n",
              "    }\n",
              "\n",
              "    .dataframe tbody tr th {\n",
              "        vertical-align: top;\n",
              "    }\n",
              "\n",
              "    .dataframe thead th {\n",
              "        text-align: right;\n",
              "    }\n",
              "</style>\n",
              "<table border=\"1\" class=\"dataframe\">\n",
              "  <thead>\n",
              "    <tr style=\"text-align: right;\">\n",
              "      <th></th>\n",
              "      <th>Region</th>\n",
              "      <th>Country</th>\n",
              "    </tr>\n",
              "  </thead>\n",
              "  <tbody>\n",
              "    <tr>\n",
              "      <th>9</th>\n",
              "      <td>Australia and New Zealand</td>\n",
              "      <td>Australia</td>\n",
              "    </tr>\n",
              "    <tr>\n",
              "      <th>133</th>\n",
              "      <td>Central and Eastern Europe</td>\n",
              "      <td>Bulgaria</td>\n",
              "    </tr>\n",
              "    <tr>\n",
              "      <th>99</th>\n",
              "      <td>Eastern Asia</td>\n",
              "      <td>Mongolia</td>\n",
              "    </tr>\n",
              "    <tr>\n",
              "      <th>118</th>\n",
              "      <td>Latin America and Caribbean</td>\n",
              "      <td>Haiti</td>\n",
              "    </tr>\n",
              "    <tr>\n",
              "      <th>155</th>\n",
              "      <td>Middle East and Northern Africa</td>\n",
              "      <td>Syria</td>\n",
              "    </tr>\n",
              "    <tr>\n",
              "      <th>14</th>\n",
              "      <td>North America</td>\n",
              "      <td>United States</td>\n",
              "    </tr>\n",
              "    <tr>\n",
              "      <th>144</th>\n",
              "      <td>Southeastern Asia</td>\n",
              "      <td>Cambodia</td>\n",
              "    </tr>\n",
              "    <tr>\n",
              "      <th>152</th>\n",
              "      <td>Southern Asia</td>\n",
              "      <td>Afghanistan</td>\n",
              "    </tr>\n",
              "    <tr>\n",
              "      <th>157</th>\n",
              "      <td>Sub-Saharan Africa</td>\n",
              "      <td>Togo</td>\n",
              "    </tr>\n",
              "    <tr>\n",
              "      <th>101</th>\n",
              "      <td>Western Europe</td>\n",
              "      <td>Greece</td>\n",
              "    </tr>\n",
              "  </tbody>\n",
              "</table>\n",
              "</div>"
            ],
            "text/plain": [
              "                              Region        Country\n",
              "9          Australia and New Zealand      Australia\n",
              "133       Central and Eastern Europe       Bulgaria\n",
              "99                      Eastern Asia       Mongolia\n",
              "118      Latin America and Caribbean          Haiti\n",
              "155  Middle East and Northern Africa          Syria\n",
              "14                     North America  United States\n",
              "144                Southeastern Asia       Cambodia\n",
              "152                    Southern Asia    Afghanistan\n",
              "157               Sub-Saharan Africa           Togo\n",
              "101                   Western Europe         Greece"
            ]
          },
          "execution_count": 35,
          "metadata": {},
          "output_type": "execute_result"
        }
      ],
      "source": [
        "#For each Region, which is the least happiest country? \n",
        "idx=df2015.groupby(\"Region\")[\"Happiness_Score\"].idxmin()\n",
        "df2015.loc[idx,[\"Region\",\"Country\"]]"
      ]
    },
    {
      "cell_type": "code",
      "execution_count": null,
      "metadata": {
        "id": "IOxCBNA8KThe",
        "outputId": "bdf813e5-2337-4bf8-f77e-a1afffcc275d"
      },
      "outputs": [
        {
          "data": {
            "text/html": [
              "<div>\n",
              "<style scoped>\n",
              "    .dataframe tbody tr th:only-of-type {\n",
              "        vertical-align: middle;\n",
              "    }\n",
              "\n",
              "    .dataframe tbody tr th {\n",
              "        vertical-align: top;\n",
              "    }\n",
              "\n",
              "    .dataframe thead th {\n",
              "        text-align: right;\n",
              "    }\n",
              "</style>\n",
              "<table border=\"1\" class=\"dataframe\">\n",
              "  <thead>\n",
              "    <tr style=\"text-align: right;\">\n",
              "      <th></th>\n",
              "      <th>Country</th>\n",
              "      <th>Region</th>\n",
              "      <th>Happiness_Rank</th>\n",
              "      <th>Happiness_Score</th>\n",
              "      <th>Economy</th>\n",
              "      <th>Family</th>\n",
              "      <th>Health</th>\n",
              "      <th>Freedom</th>\n",
              "      <th>Trust</th>\n",
              "      <th>Generosity</th>\n",
              "    </tr>\n",
              "  </thead>\n",
              "  <tbody>\n",
              "    <tr>\n",
              "      <th>155</th>\n",
              "      <td>Syria</td>\n",
              "      <td>Middle East and Northern Africa</td>\n",
              "      <td>156</td>\n",
              "      <td>3.006</td>\n",
              "      <td>0.6632</td>\n",
              "      <td>0.47489</td>\n",
              "      <td>0.72193</td>\n",
              "      <td>0.15684</td>\n",
              "      <td>0.18906</td>\n",
              "      <td>0.47179</td>\n",
              "    </tr>\n",
              "  </tbody>\n",
              "</table>\n",
              "</div>"
            ],
            "text/plain": [
              "    Country                           Region  Happiness_Rank  Happiness_Score  \\\n",
              "155   Syria  Middle East and Northern Africa             156            3.006   \n",
              "\n",
              "     Economy   Family   Health  Freedom    Trust  Generosity  \n",
              "155   0.6632  0.47489  0.72193  0.15684  0.18906     0.47179  "
            ]
          },
          "execution_count": 36,
          "metadata": {},
          "output_type": "execute_result"
        }
      ],
      "source": [
        "df2015[df2015['Country']=='Syria'] #we can see also syria is one of the least happy countries, if we check the factors we can see the freedom is very low (There is war!)"
      ]
    },
    {
      "cell_type": "code",
      "execution_count": null,
      "metadata": {
        "id": "Hl-cRQUEKThf",
        "outputId": "ae9dd3de-23d7-409f-a93d-2efd253bc504"
      },
      "outputs": [
        {
          "data": {
            "text/plain": [
              "<AxesSubplot:title={'center':'Middle East and Northern Africa'}, ylabel='Country'>"
            ]
          },
          "execution_count": 37,
          "metadata": {},
          "output_type": "execute_result"
        },
        {
          "data": {
            "image/png": "[encoded data removed]",
            "text/plain": [
              "<Figure size 432x288 with 1 Axes>"
            ]
          },
          "metadata": {
            "needs_background": "light"
          },
          "output_type": "display_data"
        }
      ],
      "source": [
        "#plotting the countries in Middle East and North Africa vs.Happiness_Score:\n",
        "\n",
        "df2015[df2015['Region'] == 'Middle East and Northern Africa'].plot(x='Country', y='Happiness_Score', kind='barh', title='Middle East and Northern Africa', xlim=(0,8),color=list('rgbkymc'))\n",
        "\n",
        "#syria in the bottom, Israel in the top "
      ]
    },
    {
      "cell_type": "code",
      "execution_count": null,
      "metadata": {
        "id": "bF-aADenKThf",
        "outputId": "149e7da7-d8a6-44ce-d325-2fff1358af18"
      },
      "outputs": [
        {
          "data": {
            "text/plain": [
              "<AxesSubplot:title={'center':'Southern Asia Happiness Scores'}, ylabel='Country'>"
            ]
          },
          "execution_count": 38,
          "metadata": {},
          "output_type": "execute_result"
        },
        {
          "data": {
            "image/png": "[encoded data removed]",
            "text/plain": [
              "<Figure size 432x288 with 1 Axes>"
            ]
          },
          "metadata": {
            "needs_background": "light"
          },
          "output_type": "display_data"
        }
      ],
      "source": [
        "#plotting the countries in Southern Asia vs.Happiness_Score:\n",
        "df2015[df2015['Region'] == 'Southern Asia'].plot(x='Country', y='Happiness_Score', kind='barh', title='Southern Asia Happiness Scores', xlim=(0,8))\n"
      ]
    },
    {
      "cell_type": "markdown",
      "metadata": {
        "id": "04NTZu0IKThf"
      },
      "source": [
        "### 4.Exploring  the Numerical Variables: how the Social Factors contribute to The Happiness in the World"
      ]
    },
    {
      "cell_type": "code",
      "execution_count": null,
      "metadata": {
        "id": "UdEUcJqPKThf",
        "outputId": "28e12866-fdd8-4fcb-d5a1-27bccb1a8018"
      },
      "outputs": [
        {
          "data": {
            "image/png": "[encoded data removed]",
            "text/plain": [
              "<Figure size 648x216 with 1 Axes>"
            ]
          },
          "metadata": {
            "needs_background": "light"
          },
          "output_type": "display_data"
        },
        {
          "data": {
            "image/png": "[encoded data removed]",
            "text/plain": [
              "<Figure size 648x216 with 1 Axes>"
            ]
          },
          "metadata": {
            "needs_background": "light"
          },
          "output_type": "display_data"
        },
        {
          "data": {
            "image/png": "[encoded data removed]",
            "text/plain": [
              "<Figure size 648x216 with 1 Axes>"
            ]
          },
          "metadata": {
            "needs_background": "light"
          },
          "output_type": "display_data"
        },
        {
          "data": {
            "image/png": "[encoded data removed]",
            "text/plain": [
              "<Figure size 648x216 with 1 Axes>"
            ]
          },
          "metadata": {
            "needs_background": "light"
          },
          "output_type": "display_data"
        },
        {
          "data": {
            "image/png": "[encoded data removed]",
            "text/plain": [
              "<Figure size 648x216 with 1 Axes>"
            ]
          },
          "metadata": {
            "needs_background": "light"
          },
          "output_type": "display_data"
        },
        {
          "data": {
            "image/png": "[encoded data removed]",
            "text/plain": [
              "<Figure size 648x216 with 1 Axes>"
            ]
          },
          "metadata": {
            "needs_background": "light"
          },
          "output_type": "display_data"
        }
      ],
      "source": [
        "#plotting the numericaL  variables distribution\n",
        "\n",
        "factors = ['Economy','Family','Health','Freedom','Generosity','Trust']\n",
        "\n",
        "def plot_hist(variable):\n",
        "    plt.figure(figsize = (9,3))\n",
        "    plt.hist(df2015[variable],bins = 50)   \n",
        "    plt.xlabel(variable)\n",
        "    plt.ylabel(\"Frequency\")\n",
        "    plt.title(\"{} distribution\".format(variable))\n",
        "    plt.show()\n",
        "\n",
        "for variable in factors:\n",
        "    plot_hist(variable)"
      ]
    },
    {
      "cell_type": "code",
      "execution_count": null,
      "metadata": {
        "id": "NwIzf4ZfKThf",
        "outputId": "56d7d51b-820b-4983-921e-4a60d7159c23"
      },
      "outputs": [
        {
          "data": {
            "text/plain": [
              "<AxesSubplot:ylabel='value'>"
            ]
          },
          "execution_count": 40,
          "metadata": {},
          "output_type": "execute_result"
        },
        {
          "data": {
            "image/png": "[encoded data removed]",
            "text/plain": [
              "<Figure size 432x288 with 1 Axes>"
            ]
          },
          "metadata": {},
          "output_type": "display_data"
        }
      ],
      "source": [
        "#plotting the frequency of the  factors \n",
        "\n",
        "main_cols = ['Country', 'Region', 'Happiness_Rank', 'Happiness_Score']\n",
        "pd.melt(df2015,main_cols,factors).pivot_table(index=\"variable\",values=\"value\").plot(kind=\"pie\",y=\"value\",legend=False)\n",
        "\n",
        "#we can notice that the Family,Economy and the Health are the most powrerful factors that contribut to the world happiness in 2015"
      ]
    },
    {
      "cell_type": "code",
      "execution_count": null,
      "metadata": {
        "id": "YviKJOn4KThf",
        "outputId": "0bfc13f3-4e69-42d2-d3ef-501cf32314d1"
      },
      "outputs": [
        {
          "data": {
            "image/png": "[encoded data removed]",
            "text/plain": [
              "<Figure size 576x576 with 2 Axes>"
            ]
          },
          "metadata": {
            "needs_background": "light"
          },
          "output_type": "display_data"
        }
      ],
      "source": [
        "#the correlation between the factors: \n",
        "fig,ax1 = plt.subplots(figsize=(8,8))\n",
        "sns.heatmap(df2015.corr(),annot=True, linewidth=.5,fmt='.1f',ax=ax1)\n",
        "plt.show()\n",
        "\n"
      ]
    },
    {
      "cell_type": "raw",
      "metadata": {
        "id": "bKjyH2S9KThg"
      },
      "source": [
        "According to the correlation map there is a strong positive relationship between Happiness Score, Economy, Family and Health.\n",
        "There is no relationship between generosity and economy\n",
        "The strength of the correlation  between happiness score and economy is 0.8 ------ very strong\n",
        "The strength of the correlation  between happiness score and the family is 0.7 ----strong\n",
        "The strength of the correlation  between happiness score and the health is 0.7-----strong\n",
        "The strength of the correlation  between happiness score and the freedom is 0.6 ---strong\n",
        "The strength of the correlation  between happiness score and the trust is 0.4----- Moderate\n",
        "The strength of the correlation  between happiness score and the Generosity is 0.2-- Weak \n",
        "We can notice also that there is very strong relationship between the economy and the health 0.8 \n",
        "There is strong relationship between the Economy and the Family 0.6\n",
        "There is moderate correlation between the Family and the health 0.5\n",
        "There is moderate correlation betwen the freedom and all the other factors 0.4-0.5"
      ]
    },
    {
      "cell_type": "code",
      "execution_count": null,
      "metadata": {
        "id": "q2dl1HoGKThg",
        "outputId": "906f5975-b32c-4c62-8feb-19b89cc1d994"
      },
      "outputs": [
        {
          "data": {
            "image/png": "[encoded data removed]",
            "text/plain": [
              "<Figure size 432x288 with 1 Axes>"
            ]
          },
          "metadata": {
            "needs_background": "light"
          },
          "output_type": "display_data"
        }
      ],
      "source": [
        "#the corrolation between the Happiness Score and the Economy:\n",
        "\n",
        "plt.scatter(df2015[\"Happiness_Score\"],df2015[\"Economy\"])\n",
        "plt.xlabel(\"Happiness_Score\")\n",
        "plt.ylabel(\"Economy\")\n",
        "plt.title(\"Happiness Score vs Economy\")\n",
        "plt.show()\n",
        "\n",
        "#There is positive correlation  between the Economy and The happiness_Score ; both variables move in the same direction"
      ]
    },
    {
      "cell_type": "code",
      "execution_count": null,
      "metadata": {
        "id": "1AA-7euxKThg",
        "outputId": "1d164548-c37a-4b77-db01-d274c5e82b15"
      },
      "outputs": [
        {
          "data": {
            "image/png": "[encoded data removed]",
            "text/plain": [
              "<Figure size 432x288 with 1 Axes>"
            ]
          },
          "metadata": {
            "needs_background": "light"
          },
          "output_type": "display_data"
        }
      ],
      "source": [
        "plt.scatter(df2015[\"Happiness_Score\"],df2015[\"Family\"],c=\"green\")\n",
        "plt.xlabel(\"Happiness_Score\")\n",
        "plt.ylabel(\"Family\")\n",
        "plt.title(\"Happiness Score vs Family\")\n",
        "plt.show()\n",
        "\n",
        "\n",
        "#There is positive correlation  between the Family and The happiness_Score ; both variables move in the same direction"
      ]
    },
    {
      "cell_type": "code",
      "execution_count": null,
      "metadata": {
        "id": "RyltiKY6KThg",
        "outputId": "c523bcb5-1f24-4ba9-bdb1-8f5d97b00710"
      },
      "outputs": [
        {
          "data": {
            "image/png": "[encoded data removed]",
            "text/plain": [
              "<Figure size 432x288 with 1 Axes>"
            ]
          },
          "metadata": {
            "needs_background": "light"
          },
          "output_type": "display_data"
        }
      ],
      "source": [
        "plt.scatter(df2015[\"Happiness_Score\"],df2015[\"Health\"],c=\"red\")\n",
        "plt.xlabel(\"Happiness_Score\")\n",
        "plt.ylabel(\"Health\")\n",
        "plt.title(\"Happiness Score vs Health\")\n",
        "plt.show()\n",
        "\n",
        "#There is positive correlation  between the Health and The happiness_Score ; both variables move in the same direction"
      ]
    },
    {
      "cell_type": "code",
      "execution_count": null,
      "metadata": {
        "id": "SoySN0G2KThg",
        "outputId": "ea532403-98d9-4703-b76e-e08422e9b7dc"
      },
      "outputs": [
        {
          "data": {
            "image/png": "[encoded data removed]",
            "text/plain": [
              "<Figure size 432x288 with 1 Axes>"
            ]
          },
          "metadata": {
            "needs_background": "light"
          },
          "output_type": "display_data"
        }
      ],
      "source": [
        "plt.scatter(df2015[\"Happiness_Score\"],df2015[\"Freedom\"],c=\"black\")\n",
        "plt.xlabel(\"Happiness_Score\")\n",
        "plt.ylabel(\"Freedom\")\n",
        "plt.title(\"Happiness Score vs Freedom\")\n",
        "plt.show()\n",
        "\n",
        "#There is positive correlation  between the Freedom and The happiness_Score ; both variables move in the same direction"
      ]
    },
    {
      "cell_type": "code",
      "execution_count": null,
      "metadata": {
        "id": "T1K1eKU6KThg",
        "outputId": "5a78e01d-5358-4271-e73e-a486b03dd1cc"
      },
      "outputs": [
        {
          "data": {
            "image/png": "[encoded data removed]",
            "text/plain": [
              "<Figure size 432x288 with 1 Axes>"
            ]
          },
          "metadata": {
            "needs_background": "light"
          },
          "output_type": "display_data"
        }
      ],
      "source": [
        "plt.scatter(df2015[\"Happiness_Score\"],df2015[\"Trust\"],c=\"yellow\")\n",
        "plt.xlabel(\"Happiness_Score\")\n",
        "plt.ylabel(\"Trust\")\n",
        "plt.title(\"Happiness Score vs Trust\")\n",
        "plt.show()\n",
        "\n",
        "#There is MODERATE positive correlation  between the Trust and The happiness_Score ; both variables move in the same direction"
      ]
    },
    {
      "cell_type": "code",
      "execution_count": null,
      "metadata": {
        "id": "tzKYQLDDKThh",
        "outputId": "a3979a60-8a22-4f53-f448-7f4f47a09aea"
      },
      "outputs": [
        {
          "data": {
            "image/png": "[encoded data removed]",
            "text/plain": [
              "<Figure size 432x288 with 1 Axes>"
            ]
          },
          "metadata": {
            "needs_background": "light"
          },
          "output_type": "display_data"
        }
      ],
      "source": [
        "plt.scatter(df2015[\"Happiness_Score\"],df2015[\"Generosity\"],c=\"purple\")\n",
        "plt.xlabel(\"Happiness_Score\")\n",
        "plt.ylabel(\"Generosity\")\n",
        "plt.title(\"Happiness Score vs Generosity\")\n",
        "plt.show()\n",
        "\n",
        "#The relationship between the happiness score and the generosity is very weak, almost ther is no relation!"
      ]
    },
    {
      "cell_type": "code",
      "execution_count": null,
      "metadata": {
        "id": "CrF4XLo_KThh",
        "outputId": "ea84a8ee-8c20-4468-8963-53268ba6411c"
      },
      "outputs": [
        {
          "data": {
            "image/png": "[encoded data removed]",
            "text/plain": [
              "<Figure size 432x288 with 1 Axes>"
            ]
          },
          "metadata": {
            "needs_background": "light"
          },
          "output_type": "display_data"
        }
      ],
      "source": [
        "plt.scatter(df2015[\"Health\"],df2015[\"Economy\"],c=\"blue\")\n",
        "plt.xlabel(\"Health\")\n",
        "plt.ylabel(\"Economy\")\n",
        "plt.title(\"Health vs Economy\")\n",
        "plt.show()\n",
        "\n",
        "#We can say that the higher Economy, the higher Healthy life expectancy.\n",
        "#There is positive correlation between them,both variables move in the same direction."
      ]
    },
    {
      "cell_type": "code",
      "execution_count": null,
      "metadata": {
        "id": "gZnufFKVKThh",
        "outputId": "62e4d410-d5b2-4807-ade9-9f00a6ce011d"
      },
      "outputs": [
        {
          "data": {
            "text/plain": [
              "Text(0.5, 1.0, 'Family vs Economy')"
            ]
          },
          "execution_count": 49,
          "metadata": {},
          "output_type": "execute_result"
        },
        {
          "data": {
            "image/png": "[encoded data removed]",
            "text/plain": [
              "<Figure size 432x288 with 1 Axes>"
            ]
          },
          "metadata": {
            "needs_background": "light"
          },
          "output_type": "display_data"
        }
      ],
      "source": [
        "plt.scatter(df2015[\"Family\"],df2015[\"Economy\"],c=\"green\")\n",
        "plt.xlabel(\"Family\")\n",
        "plt.ylabel(\"Economy\")\n",
        "plt.title(\"Family vs Economy\")\n",
        "\n",
        "#strong relationship between the Economy and the Family 0.6.\n",
        "#There is positive correlation between them,both variables move in the same direction."
      ]
    },
    {
      "cell_type": "code",
      "execution_count": null,
      "metadata": {
        "id": "XCh2lwvnKThh",
        "outputId": "a8c0d9e6-16db-46b9-cdd1-1fbbf0288485"
      },
      "outputs": [
        {
          "data": {
            "text/plain": [
              "Text(0.5, 1.0, 'Generosity vs Economy')"
            ]
          },
          "execution_count": 50,
          "metadata": {},
          "output_type": "execute_result"
        },
        {
          "data": {
            "image/png": "[encoded data removed]",
            "text/plain": [
              "<Figure size 432x288 with 1 Axes>"
            ]
          },
          "metadata": {
            "needs_background": "light"
          },
          "output_type": "display_data"
        }
      ],
      "source": [
        "plt.scatter(df2015[\"Generosity\"],df2015[\"Economy\"],c=\"green\")\n",
        "plt.xlabel(\"Generosity\")\n",
        "plt.ylabel(\"Economy\")\n",
        "plt.title(\"Generosity vs Economy\")\n",
        "\n",
        "#There is no relationship between the Generosity and the Economy"
      ]
    },
    {
      "cell_type": "code",
      "execution_count": null,
      "metadata": {
        "id": "whELbjIyKThi",
        "outputId": "8e8db189-8904-4c2d-d879-b7c2bcddae7a"
      },
      "outputs": [
        {
          "data": {
            "text/html": [
              "<div>\n",
              "<style scoped>\n",
              "    .dataframe tbody tr th:only-of-type {\n",
              "        vertical-align: middle;\n",
              "    }\n",
              "\n",
              "    .dataframe tbody tr th {\n",
              "        vertical-align: top;\n",
              "    }\n",
              "\n",
              "    .dataframe thead th {\n",
              "        text-align: right;\n",
              "    }\n",
              "</style>\n",
              "<table border=\"1\" class=\"dataframe\">\n",
              "  <thead>\n",
              "    <tr style=\"text-align: right;\">\n",
              "      <th></th>\n",
              "      <th>Economy</th>\n",
              "      <th>Family</th>\n",
              "      <th>Freedom</th>\n",
              "      <th>Generosity</th>\n",
              "      <th>Health</th>\n",
              "      <th>Trust</th>\n",
              "    </tr>\n",
              "    <tr>\n",
              "      <th>Region</th>\n",
              "      <th></th>\n",
              "      <th></th>\n",
              "      <th></th>\n",
              "      <th></th>\n",
              "      <th></th>\n",
              "      <th></th>\n",
              "    </tr>\n",
              "  </thead>\n",
              "  <tbody>\n",
              "    <tr>\n",
              "      <th>Australia and New Zealand</th>\n",
              "      <td>1.291880</td>\n",
              "      <td>1.314450</td>\n",
              "      <td>0.645310</td>\n",
              "      <td>0.455315</td>\n",
              "      <td>0.919965</td>\n",
              "      <td>0.392795</td>\n",
              "    </tr>\n",
              "    <tr>\n",
              "      <th>Central and Eastern Europe</th>\n",
              "      <td>0.942438</td>\n",
              "      <td>1.053042</td>\n",
              "      <td>0.358269</td>\n",
              "      <td>0.152264</td>\n",
              "      <td>0.718774</td>\n",
              "      <td>0.086674</td>\n",
              "    </tr>\n",
              "    <tr>\n",
              "      <th>Eastern Asia</th>\n",
              "      <td>1.151780</td>\n",
              "      <td>1.099427</td>\n",
              "      <td>0.462490</td>\n",
              "      <td>0.225885</td>\n",
              "      <td>0.877388</td>\n",
              "      <td>0.127695</td>\n",
              "    </tr>\n",
              "    <tr>\n",
              "      <th>Latin America and Caribbean</th>\n",
              "      <td>0.876815</td>\n",
              "      <td>1.104720</td>\n",
              "      <td>0.501740</td>\n",
              "      <td>0.217788</td>\n",
              "      <td>0.703870</td>\n",
              "      <td>0.117172</td>\n",
              "    </tr>\n",
              "    <tr>\n",
              "      <th>Middle East and Northern Africa</th>\n",
              "      <td>1.066973</td>\n",
              "      <td>0.920490</td>\n",
              "      <td>0.361751</td>\n",
              "      <td>0.190375</td>\n",
              "      <td>0.705616</td>\n",
              "      <td>0.181702</td>\n",
              "    </tr>\n",
              "    <tr>\n",
              "      <th>North America</th>\n",
              "      <td>1.360400</td>\n",
              "      <td>1.284860</td>\n",
              "      <td>0.589505</td>\n",
              "      <td>0.429580</td>\n",
              "      <td>0.883710</td>\n",
              "      <td>0.244235</td>\n",
              "    </tr>\n",
              "    <tr>\n",
              "      <th>Southeastern Asia</th>\n",
              "      <td>0.789054</td>\n",
              "      <td>0.940468</td>\n",
              "      <td>0.557104</td>\n",
              "      <td>0.419261</td>\n",
              "      <td>0.677357</td>\n",
              "      <td>0.151276</td>\n",
              "    </tr>\n",
              "    <tr>\n",
              "      <th>Southern Asia</th>\n",
              "      <td>0.560486</td>\n",
              "      <td>0.645321</td>\n",
              "      <td>0.373337</td>\n",
              "      <td>0.341429</td>\n",
              "      <td>0.540830</td>\n",
              "      <td>0.102536</td>\n",
              "    </tr>\n",
              "    <tr>\n",
              "      <th>Sub-Saharan Africa</th>\n",
              "      <td>0.380473</td>\n",
              "      <td>0.809085</td>\n",
              "      <td>0.365944</td>\n",
              "      <td>0.221137</td>\n",
              "      <td>0.282332</td>\n",
              "      <td>0.123878</td>\n",
              "    </tr>\n",
              "    <tr>\n",
              "      <th>Western Europe</th>\n",
              "      <td>1.298596</td>\n",
              "      <td>1.247302</td>\n",
              "      <td>0.549926</td>\n",
              "      <td>0.302109</td>\n",
              "      <td>0.909148</td>\n",
              "      <td>0.231463</td>\n",
              "    </tr>\n",
              "  </tbody>\n",
              "</table>\n",
              "</div>"
            ],
            "text/plain": [
              "                                  Economy    Family   Freedom  Generosity  \\\n",
              "Region                                                                      \n",
              "Australia and New Zealand        1.291880  1.314450  0.645310    0.455315   \n",
              "Central and Eastern Europe       0.942438  1.053042  0.358269    0.152264   \n",
              "Eastern Asia                     1.151780  1.099427  0.462490    0.225885   \n",
              "Latin America and Caribbean      0.876815  1.104720  0.501740    0.217788   \n",
              "Middle East and Northern Africa  1.066973  0.920490  0.361751    0.190375   \n",
              "North America                    1.360400  1.284860  0.589505    0.429580   \n",
              "Southeastern Asia                0.789054  0.940468  0.557104    0.419261   \n",
              "Southern Asia                    0.560486  0.645321  0.373337    0.341429   \n",
              "Sub-Saharan Africa               0.380473  0.809085  0.365944    0.221137   \n",
              "Western Europe                   1.298596  1.247302  0.549926    0.302109   \n",
              "\n",
              "                                   Health     Trust  \n",
              "Region                                               \n",
              "Australia and New Zealand        0.919965  0.392795  \n",
              "Central and Eastern Europe       0.718774  0.086674  \n",
              "Eastern Asia                     0.877388  0.127695  \n",
              "Latin America and Caribbean      0.703870  0.117172  \n",
              "Middle East and Northern Africa  0.705616  0.181702  \n",
              "North America                    0.883710  0.244235  \n",
              "Southeastern Asia                0.677357  0.151276  \n",
              "Southern Asia                    0.540830  0.102536  \n",
              "Sub-Saharan Africa               0.282332  0.123878  \n",
              "Western Europe                   0.909148  0.231463  "
            ]
          },
          "execution_count": 51,
          "metadata": {},
          "output_type": "execute_result"
        }
      ],
      "source": [
        "#describing the mean of the factors vs Regions\n",
        "df2015.pivot_table(factors, 'Region')\n",
        "\n",
        "#North America has 2 countries, the highest economy factor mean, the second in Family,generosity,Trust.The third in Health.\n",
        "#Australia and New Zealand has the highest family,freedom,generosity,health and trust factor mean (this region has only two coumtries)\n",
        "#Western Europe has 21 countries, the second in Economy,Freedom,Health ,third in Family,the fifth in generosity, and third in Trust \n",
        "#Comparing the regions in relative to the number of the counrties and the social factors, West Europe is the happiest!\n"
      ]
    },
    {
      "cell_type": "code",
      "execution_count": null,
      "metadata": {
        "id": "dGtpNHw9KThi",
        "outputId": "9e5207a5-654a-456b-a70e-d158f13b310c"
      },
      "outputs": [
        {
          "data": {
            "text/html": [
              "<div>\n",
              "<style scoped>\n",
              "    .dataframe tbody tr th:only-of-type {\n",
              "        vertical-align: middle;\n",
              "    }\n",
              "\n",
              "    .dataframe tbody tr th {\n",
              "        vertical-align: top;\n",
              "    }\n",
              "\n",
              "    .dataframe thead tr th {\n",
              "        text-align: left;\n",
              "    }\n",
              "\n",
              "    .dataframe thead tr:last-of-type th {\n",
              "        text-align: right;\n",
              "    }\n",
              "</style>\n",
              "<table border=\"1\" class=\"dataframe\">\n",
              "  <thead>\n",
              "    <tr>\n",
              "      <th></th>\n",
              "      <th colspan=\"3\" halign=\"left\">Economy</th>\n",
              "      <th colspan=\"3\" halign=\"left\">Family</th>\n",
              "      <th colspan=\"3\" halign=\"left\">Health</th>\n",
              "      <th colspan=\"3\" halign=\"left\">Freedom</th>\n",
              "      <th colspan=\"3\" halign=\"left\">Generosity</th>\n",
              "      <th colspan=\"3\" halign=\"left\">Trust</th>\n",
              "    </tr>\n",
              "    <tr>\n",
              "      <th></th>\n",
              "      <th>amax</th>\n",
              "      <th>mean</th>\n",
              "      <th>dif_max</th>\n",
              "      <th>amax</th>\n",
              "      <th>mean</th>\n",
              "      <th>dif_max</th>\n",
              "      <th>amax</th>\n",
              "      <th>mean</th>\n",
              "      <th>dif_max</th>\n",
              "      <th>amax</th>\n",
              "      <th>mean</th>\n",
              "      <th>dif_max</th>\n",
              "      <th>amax</th>\n",
              "      <th>mean</th>\n",
              "      <th>dif_max</th>\n",
              "      <th>amax</th>\n",
              "      <th>mean</th>\n",
              "      <th>dif_max</th>\n",
              "    </tr>\n",
              "    <tr>\n",
              "      <th>Country</th>\n",
              "      <th></th>\n",
              "      <th></th>\n",
              "      <th></th>\n",
              "      <th></th>\n",
              "      <th></th>\n",
              "      <th></th>\n",
              "      <th></th>\n",
              "      <th></th>\n",
              "      <th></th>\n",
              "      <th></th>\n",
              "      <th></th>\n",
              "      <th></th>\n",
              "      <th></th>\n",
              "      <th></th>\n",
              "      <th></th>\n",
              "      <th></th>\n",
              "      <th></th>\n",
              "      <th></th>\n",
              "    </tr>\n",
              "  </thead>\n",
              "  <tbody>\n",
              "    <tr>\n",
              "      <th>Afghanistan</th>\n",
              "      <td>0.31982</td>\n",
              "      <td>0.31982</td>\n",
              "      <td>0.0</td>\n",
              "      <td>0.30285</td>\n",
              "      <td>0.30285</td>\n",
              "      <td>0.0</td>\n",
              "      <td>0.30335</td>\n",
              "      <td>0.30335</td>\n",
              "      <td>0.0</td>\n",
              "      <td>0.23414</td>\n",
              "      <td>0.23414</td>\n",
              "      <td>0.0</td>\n",
              "      <td>0.36510</td>\n",
              "      <td>0.36510</td>\n",
              "      <td>0.0</td>\n",
              "      <td>0.09719</td>\n",
              "      <td>0.09719</td>\n",
              "      <td>0.0</td>\n",
              "    </tr>\n",
              "    <tr>\n",
              "      <th>Albania</th>\n",
              "      <td>0.87867</td>\n",
              "      <td>0.87867</td>\n",
              "      <td>0.0</td>\n",
              "      <td>0.80434</td>\n",
              "      <td>0.80434</td>\n",
              "      <td>0.0</td>\n",
              "      <td>0.81325</td>\n",
              "      <td>0.81325</td>\n",
              "      <td>0.0</td>\n",
              "      <td>0.35733</td>\n",
              "      <td>0.35733</td>\n",
              "      <td>0.0</td>\n",
              "      <td>0.14272</td>\n",
              "      <td>0.14272</td>\n",
              "      <td>0.0</td>\n",
              "      <td>0.06413</td>\n",
              "      <td>0.06413</td>\n",
              "      <td>0.0</td>\n",
              "    </tr>\n",
              "    <tr>\n",
              "      <th>Algeria</th>\n",
              "      <td>0.93929</td>\n",
              "      <td>0.93929</td>\n",
              "      <td>0.0</td>\n",
              "      <td>1.07772</td>\n",
              "      <td>1.07772</td>\n",
              "      <td>0.0</td>\n",
              "      <td>0.61766</td>\n",
              "      <td>0.61766</td>\n",
              "      <td>0.0</td>\n",
              "      <td>0.28579</td>\n",
              "      <td>0.28579</td>\n",
              "      <td>0.0</td>\n",
              "      <td>0.07822</td>\n",
              "      <td>0.07822</td>\n",
              "      <td>0.0</td>\n",
              "      <td>0.17383</td>\n",
              "      <td>0.17383</td>\n",
              "      <td>0.0</td>\n",
              "    </tr>\n",
              "    <tr>\n",
              "      <th>Angola</th>\n",
              "      <td>0.75778</td>\n",
              "      <td>0.75778</td>\n",
              "      <td>0.0</td>\n",
              "      <td>0.86040</td>\n",
              "      <td>0.86040</td>\n",
              "      <td>0.0</td>\n",
              "      <td>0.16683</td>\n",
              "      <td>0.16683</td>\n",
              "      <td>0.0</td>\n",
              "      <td>0.10384</td>\n",
              "      <td>0.10384</td>\n",
              "      <td>0.0</td>\n",
              "      <td>0.12344</td>\n",
              "      <td>0.12344</td>\n",
              "      <td>0.0</td>\n",
              "      <td>0.07122</td>\n",
              "      <td>0.07122</td>\n",
              "      <td>0.0</td>\n",
              "    </tr>\n",
              "    <tr>\n",
              "      <th>Argentina</th>\n",
              "      <td>1.05351</td>\n",
              "      <td>1.05351</td>\n",
              "      <td>0.0</td>\n",
              "      <td>1.24823</td>\n",
              "      <td>1.24823</td>\n",
              "      <td>0.0</td>\n",
              "      <td>0.78723</td>\n",
              "      <td>0.78723</td>\n",
              "      <td>0.0</td>\n",
              "      <td>0.44974</td>\n",
              "      <td>0.44974</td>\n",
              "      <td>0.0</td>\n",
              "      <td>0.11451</td>\n",
              "      <td>0.11451</td>\n",
              "      <td>0.0</td>\n",
              "      <td>0.08484</td>\n",
              "      <td>0.08484</td>\n",
              "      <td>0.0</td>\n",
              "    </tr>\n",
              "    <tr>\n",
              "      <th>Armenia</th>\n",
              "      <td>0.76821</td>\n",
              "      <td>0.76821</td>\n",
              "      <td>0.0</td>\n",
              "      <td>0.77711</td>\n",
              "      <td>0.77711</td>\n",
              "      <td>0.0</td>\n",
              "      <td>0.72990</td>\n",
              "      <td>0.72990</td>\n",
              "      <td>0.0</td>\n",
              "      <td>0.19847</td>\n",
              "      <td>0.19847</td>\n",
              "      <td>0.0</td>\n",
              "      <td>0.07855</td>\n",
              "      <td>0.07855</td>\n",
              "      <td>0.0</td>\n",
              "      <td>0.03900</td>\n",
              "      <td>0.03900</td>\n",
              "      <td>0.0</td>\n",
              "    </tr>\n",
              "    <tr>\n",
              "      <th>Australia</th>\n",
              "      <td>1.33358</td>\n",
              "      <td>1.33358</td>\n",
              "      <td>0.0</td>\n",
              "      <td>1.30923</td>\n",
              "      <td>1.30923</td>\n",
              "      <td>0.0</td>\n",
              "      <td>0.93156</td>\n",
              "      <td>0.93156</td>\n",
              "      <td>0.0</td>\n",
              "      <td>0.65124</td>\n",
              "      <td>0.65124</td>\n",
              "      <td>0.0</td>\n",
              "      <td>0.43562</td>\n",
              "      <td>0.43562</td>\n",
              "      <td>0.0</td>\n",
              "      <td>0.35637</td>\n",
              "      <td>0.35637</td>\n",
              "      <td>0.0</td>\n",
              "    </tr>\n",
              "    <tr>\n",
              "      <th>Austria</th>\n",
              "      <td>1.33723</td>\n",
              "      <td>1.33723</td>\n",
              "      <td>0.0</td>\n",
              "      <td>1.29704</td>\n",
              "      <td>1.29704</td>\n",
              "      <td>0.0</td>\n",
              "      <td>0.89042</td>\n",
              "      <td>0.89042</td>\n",
              "      <td>0.0</td>\n",
              "      <td>0.62433</td>\n",
              "      <td>0.62433</td>\n",
              "      <td>0.0</td>\n",
              "      <td>0.33088</td>\n",
              "      <td>0.33088</td>\n",
              "      <td>0.0</td>\n",
              "      <td>0.18676</td>\n",
              "      <td>0.18676</td>\n",
              "      <td>0.0</td>\n",
              "    </tr>\n",
              "    <tr>\n",
              "      <th>Azerbaijan</th>\n",
              "      <td>1.02389</td>\n",
              "      <td>1.02389</td>\n",
              "      <td>0.0</td>\n",
              "      <td>0.93793</td>\n",
              "      <td>0.93793</td>\n",
              "      <td>0.0</td>\n",
              "      <td>0.64045</td>\n",
              "      <td>0.64045</td>\n",
              "      <td>0.0</td>\n",
              "      <td>0.37030</td>\n",
              "      <td>0.37030</td>\n",
              "      <td>0.0</td>\n",
              "      <td>0.07799</td>\n",
              "      <td>0.07799</td>\n",
              "      <td>0.0</td>\n",
              "      <td>0.16065</td>\n",
              "      <td>0.16065</td>\n",
              "      <td>0.0</td>\n",
              "    </tr>\n",
              "    <tr>\n",
              "      <th>Bahrain</th>\n",
              "      <td>1.32376</td>\n",
              "      <td>1.32376</td>\n",
              "      <td>0.0</td>\n",
              "      <td>1.21624</td>\n",
              "      <td>1.21624</td>\n",
              "      <td>0.0</td>\n",
              "      <td>0.74716</td>\n",
              "      <td>0.74716</td>\n",
              "      <td>0.0</td>\n",
              "      <td>0.45492</td>\n",
              "      <td>0.45492</td>\n",
              "      <td>0.0</td>\n",
              "      <td>0.17362</td>\n",
              "      <td>0.17362</td>\n",
              "      <td>0.0</td>\n",
              "      <td>0.30600</td>\n",
              "      <td>0.30600</td>\n",
              "      <td>0.0</td>\n",
              "    </tr>\n",
              "  </tbody>\n",
              "</table>\n",
              "</div>"
            ],
            "text/plain": [
              "             Economy                    Family                    Health  \\\n",
              "                amax     mean dif_max     amax     mean dif_max     amax   \n",
              "Country                                                                    \n",
              "Afghanistan  0.31982  0.31982     0.0  0.30285  0.30285     0.0  0.30335   \n",
              "Albania      0.87867  0.87867     0.0  0.80434  0.80434     0.0  0.81325   \n",
              "Algeria      0.93929  0.93929     0.0  1.07772  1.07772     0.0  0.61766   \n",
              "Angola       0.75778  0.75778     0.0  0.86040  0.86040     0.0  0.16683   \n",
              "Argentina    1.05351  1.05351     0.0  1.24823  1.24823     0.0  0.78723   \n",
              "Armenia      0.76821  0.76821     0.0  0.77711  0.77711     0.0  0.72990   \n",
              "Australia    1.33358  1.33358     0.0  1.30923  1.30923     0.0  0.93156   \n",
              "Austria      1.33723  1.33723     0.0  1.29704  1.29704     0.0  0.89042   \n",
              "Azerbaijan   1.02389  1.02389     0.0  0.93793  0.93793     0.0  0.64045   \n",
              "Bahrain      1.32376  1.32376     0.0  1.21624  1.21624     0.0  0.74716   \n",
              "\n",
              "                              Freedom                  Generosity           \\\n",
              "                mean dif_max     amax     mean dif_max       amax     mean   \n",
              "Country                                                                      \n",
              "Afghanistan  0.30335     0.0  0.23414  0.23414     0.0    0.36510  0.36510   \n",
              "Albania      0.81325     0.0  0.35733  0.35733     0.0    0.14272  0.14272   \n",
              "Algeria      0.61766     0.0  0.28579  0.28579     0.0    0.07822  0.07822   \n",
              "Angola       0.16683     0.0  0.10384  0.10384     0.0    0.12344  0.12344   \n",
              "Argentina    0.78723     0.0  0.44974  0.44974     0.0    0.11451  0.11451   \n",
              "Armenia      0.72990     0.0  0.19847  0.19847     0.0    0.07855  0.07855   \n",
              "Australia    0.93156     0.0  0.65124  0.65124     0.0    0.43562  0.43562   \n",
              "Austria      0.89042     0.0  0.62433  0.62433     0.0    0.33088  0.33088   \n",
              "Azerbaijan   0.64045     0.0  0.37030  0.37030     0.0    0.07799  0.07799   \n",
              "Bahrain      0.74716     0.0  0.45492  0.45492     0.0    0.17362  0.17362   \n",
              "\n",
              "                       Trust                   \n",
              "            dif_max     amax     mean dif_max  \n",
              "Country                                        \n",
              "Afghanistan     0.0  0.09719  0.09719     0.0  \n",
              "Albania         0.0  0.06413  0.06413     0.0  \n",
              "Algeria         0.0  0.17383  0.17383     0.0  \n",
              "Angola          0.0  0.07122  0.07122     0.0  \n",
              "Argentina       0.0  0.08484  0.08484     0.0  \n",
              "Armenia         0.0  0.03900  0.03900     0.0  \n",
              "Australia       0.0  0.35637  0.35637     0.0  \n",
              "Austria         0.0  0.18676  0.18676     0.0  \n",
              "Azerbaijan      0.0  0.16065  0.16065     0.0  \n",
              "Bahrain         0.0  0.30600  0.30600     0.0  "
            ]
          },
          "execution_count": 52,
          "metadata": {},
          "output_type": "execute_result"
        }
      ],
      "source": [
        "#describing the most powerful factors values vs Country \n",
        "df2015.groupby(\"Country\")[factors].agg([np.max,np.mean,dif_max]).head(10)          \n",
        "#the dif_max function was defined previously (max value-mean)"
      ]
    },
    {
      "cell_type": "code",
      "execution_count": null,
      "metadata": {
        "id": "mADZm-6EKThi",
        "outputId": "0ebf86d3-8c02-4ed2-fc52-fd0992a042d7"
      },
      "outputs": [
        {
          "data": {
            "text/plain": [
              "Country                        Uganda\n",
              "Region             Sub-Saharan Africa\n",
              "Happiness_Rank                    141\n",
              "Happiness_Score                 3.931\n",
              "Economy                       0.21102\n",
              "Family                        1.13299\n",
              "Health                        0.33861\n",
              "Freedom                       0.45727\n",
              "Trust                         0.07267\n",
              "Generosity                    0.29066\n",
              "Name: 140, dtype: object"
            ]
          },
          "execution_count": 53,
          "metadata": {},
          "output_type": "execute_result"
        }
      ],
      "source": [
        "#lets check the country which has index 140 for example\n",
        "df2015.iloc[140]"
      ]
    },
    {
      "cell_type": "code",
      "execution_count": null,
      "metadata": {
        "id": "4oSKva_qKThi",
        "outputId": "e98c26fa-a6f6-41af-8db3-f1350e10cd25"
      },
      "outputs": [
        {
          "data": {
            "image/png": "[encoded data removed]",
            "text/plain": [
              "<Figure size 432x288 with 1 Axes>"
            ]
          },
          "metadata": {
            "needs_background": "light"
          },
          "output_type": "display_data"
        }
      ],
      "source": [
        "#ploting the  contribution of the factors to the happiness of Uganda\n",
        "\n",
        "bar_heights = df2015[factors].iloc[140].values  #location index= 140 ----> Uganda\n",
        "bar_positions = np.arange(6)\n",
        "tick_positions = range(0,6)\n",
        "\n",
        "fig,ax2=plt.subplots()\n",
        "ax2.bar(bar_positions,bar_heights,0.5,color=list('rgbkymc'))\n",
        "ax2.set_xticks(tick_positions)\n",
        "ax2.set_xticklabels(factors,rotation=90)\n",
        "ax2.set_xlabel(\"Factor\")\n",
        "ax2.set_ylabel(\"Frequency\")\n",
        "ax2.set_title(\"Factors Contribution to Happiness Score in Uganda\")\n",
        "plt.show()\n",
        "\n",
        "# we notice that the Family factor highly contributes to the happiness of Uganda "
      ]
    },
    {
      "cell_type": "markdown",
      "metadata": {
        "id": "UIAbpKEZKThi"
      },
      "source": [
        "### 5.Comparing the World Happiness between 2015-2019"
      ]
    },
    {
      "cell_type": "code",
      "execution_count": null,
      "metadata": {
        "id": "CVa5CXA7KThj"
      },
      "outputs": [],
      "source": [
        "#openning the data sets: \n",
        "\n",
        "df2016=pd.read_csv(\"2016.csv\")\n",
        "df2017=pd.read_csv(\"2017.csv\")\n",
        "df2018=pd.read_csv(\"2018.csv\")\n",
        "df2019=pd.read_csv(\"2019.csv\")"
      ]
    },
    {
      "cell_type": "code",
      "execution_count": null,
      "metadata": {
        "id": "yDfWLICmKThj",
        "outputId": "073db9b8-ca99-4b0f-c944-06fbf26304ff"
      },
      "outputs": [
        {
          "name": "stdout",
          "output_type": "stream",
          "text": [
            "(158, 10) 2015\n",
            "(157, 13) 2016\n",
            "(155, 12) 2017\n",
            "(156, 9) 2018\n",
            "(156, 9) 2019\n"
          ]
        }
      ],
      "source": [
        "#checking the size of the data sets:\n",
        "\n",
        "print(df2015.shape,\"2015\")\n",
        "print(df2016.shape,\"2016\")\n",
        "print(df2017.shape,\"2017\")\n",
        "print(df2018.shape,\"2018\")\n",
        "print(df2019.shape,\"2019\")"
      ]
    },
    {
      "cell_type": "code",
      "execution_count": null,
      "metadata": {
        "id": "w4p5r8F-KThj",
        "outputId": "89263c1a-5168-46a1-b201-56e2ffccacef"
      },
      "outputs": [
        {
          "name": "stdout",
          "output_type": "stream",
          "text": [
            "2015 report:\n",
            " ['Country' 'Region' 'Happiness_Rank' 'Happiness_Score' 'Economy' 'Family'\n",
            " 'Health' 'Freedom' 'Trust' 'Generosity'] \n",
            "\n",
            "2016 report:\n",
            " ['Country' 'Region' 'Happiness Rank' 'Happiness Score'\n",
            " 'Lower Confidence Interval' 'Upper Confidence Interval'\n",
            " 'Economy (GDP per Capita)' 'Family' 'Health (Life Expectancy)' 'Freedom'\n",
            " 'Trust (Government Corruption)' 'Generosity' 'Dystopia Residual'] \n",
            "\n",
            "2017 report:\n",
            " ['Country' 'Happiness.Rank' 'Happiness.Score' 'Whisker.high' 'Whisker.low'\n",
            " 'Economy..GDP.per.Capita.' 'Family' 'Health..Life.Expectancy.' 'Freedom'\n",
            " 'Generosity' 'Trust..Government.Corruption.' 'Dystopia.Residual'] \n",
            "\n",
            "2018 report:\n",
            " ['Overall rank' 'Country or region' 'Score' 'GDP per capita'\n",
            " 'Social support' 'Healthy life expectancy' 'Freedom to make life choices'\n",
            " 'Generosity' 'Perceptions of corruption'] \n",
            "\n",
            "2019 report:\n",
            " ['Overall rank' 'Country or region' 'Score' 'GDP per capita'\n",
            " 'Social support' 'Healthy life expectancy' 'Freedom to make life choices'\n",
            " 'Generosity' 'Perceptions of corruption'] \n",
            "\n"
          ]
        }
      ],
      "source": [
        "#printing the values of the columns:\n",
        "\n",
        "print(\"2015 report:\\n\",df2015.columns.values,\"\\n\")\n",
        "print(\"2016 report:\\n\",df2016.columns.values,\"\\n\")\n",
        "print(\"2017 report:\\n\",df2017.columns.values,\"\\n\")\n",
        "print(\"2018 report:\\n\",df2018.columns.values,\"\\n\")\n",
        "print(\"2019 report:\\n\",df2019.columns.values,\"\\n\")"
      ]
    },
    {
      "cell_type": "code",
      "execution_count": null,
      "metadata": {
        "id": "yRzq5J0pKThj",
        "outputId": "75cae6fa-3f9c-427d-cedf-3dbe9146e97c"
      },
      "outputs": [
        {
          "name": "stdout",
          "output_type": "stream",
          "text": [
            "2016:\n",
            "\n",
            " Country                          False\n",
            "Region                           False\n",
            "Happiness Rank                   False\n",
            "Happiness Score                  False\n",
            "Lower Confidence Interval        False\n",
            "Upper Confidence Interval        False\n",
            "Economy (GDP per Capita)         False\n",
            "Family                           False\n",
            "Health (Life Expectancy)         False\n",
            "Freedom                          False\n",
            "Trust (Government Corruption)    False\n",
            "Generosity                       False\n",
            "Dystopia Residual                False\n",
            "dtype: bool\n",
            "\n",
            "2017:\n",
            "\n",
            " Country                          False\n",
            "Happiness.Rank                   False\n",
            "Happiness.Score                  False\n",
            "Whisker.high                     False\n",
            "Whisker.low                      False\n",
            "Economy..GDP.per.Capita.         False\n",
            "Family                           False\n",
            "Health..Life.Expectancy.         False\n",
            "Freedom                          False\n",
            "Generosity                       False\n",
            "Trust..Government.Corruption.    False\n",
            "Dystopia.Residual                False\n",
            "dtype: bool\n",
            "\n",
            "2018:\n",
            "\n",
            " Overall rank                    False\n",
            "Country or region               False\n",
            "Score                           False\n",
            "GDP per capita                  False\n",
            "Social support                  False\n",
            "Healthy life expectancy         False\n",
            "Freedom to make life choices    False\n",
            "Generosity                      False\n",
            "Perceptions of corruption        True\n",
            "dtype: bool\n",
            "\n",
            "2019:\n",
            "\n",
            " Overall rank                    False\n",
            "Country or region               False\n",
            "Score                           False\n",
            "GDP per capita                  False\n",
            "Social support                  False\n",
            "Healthy life expectancy         False\n",
            "Freedom to make life choices    False\n",
            "Generosity                      False\n",
            "Perceptions of corruption       False\n",
            "dtype: bool\n"
          ]
        }
      ],
      "source": [
        "#checking if there is null values in the data sets:\n",
        "print('2016:\\n\\n',df2016.isnull().any())\n",
        "print('\\n2017:\\n\\n',df2017.isnull().any())\n",
        "print('\\n2018:\\n\\n',df2018.isnull().any())\n",
        "print('\\n2019:\\n\\n',df2019.isnull().any())"
      ]
    },
    {
      "cell_type": "code",
      "execution_count": null,
      "metadata": {
        "id": "GtLrf1QpKThj",
        "outputId": "349c79eb-6c8f-4a76-c4f7-d608eaf2ec2f"
      },
      "outputs": [
        {
          "data": {
            "text/html": [
              "<div>\n",
              "<style scoped>\n",
              "    .dataframe tbody tr th:only-of-type {\n",
              "        vertical-align: middle;\n",
              "    }\n",
              "\n",
              "    .dataframe tbody tr th {\n",
              "        vertical-align: top;\n",
              "    }\n",
              "\n",
              "    .dataframe thead th {\n",
              "        text-align: right;\n",
              "    }\n",
              "</style>\n",
              "<table border=\"1\" class=\"dataframe\">\n",
              "  <thead>\n",
              "    <tr style=\"text-align: right;\">\n",
              "      <th></th>\n",
              "      <th>Overall rank</th>\n",
              "      <th>Country or region</th>\n",
              "      <th>Score</th>\n",
              "      <th>GDP per capita</th>\n",
              "      <th>Social support</th>\n",
              "      <th>Healthy life expectancy</th>\n",
              "      <th>Freedom to make life choices</th>\n",
              "      <th>Generosity</th>\n",
              "      <th>Perceptions of corruption</th>\n",
              "    </tr>\n",
              "  </thead>\n",
              "  <tbody>\n",
              "    <tr>\n",
              "      <th>19</th>\n",
              "      <td>20</td>\n",
              "      <td>United Arab Emirates</td>\n",
              "      <td>6.774</td>\n",
              "      <td>2.096</td>\n",
              "      <td>0.776</td>\n",
              "      <td>0.67</td>\n",
              "      <td>0.284</td>\n",
              "      <td>0.186</td>\n",
              "      <td>NaN</td>\n",
              "    </tr>\n",
              "  </tbody>\n",
              "</table>\n",
              "</div>"
            ],
            "text/plain": [
              "    Overall rank     Country or region  Score  GDP per capita  Social support  \\\n",
              "19            20  United Arab Emirates  6.774           2.096           0.776   \n",
              "\n",
              "    Healthy life expectancy  Freedom to make life choices  Generosity  \\\n",
              "19                     0.67                         0.284       0.186   \n",
              "\n",
              "    Perceptions of corruption  \n",
              "19                        NaN  "
            ]
          },
          "execution_count": 59,
          "metadata": {},
          "output_type": "execute_result"
        }
      ],
      "source": [
        "df2018[df2018.isna().values]\n",
        "#there is null value in report 2018 in column Perceptions of corruption"
      ]
    },
    {
      "cell_type": "code",
      "execution_count": null,
      "metadata": {
        "id": "uL45gEf0KThj",
        "outputId": "a5176fdc-e259-4a2d-dde5-9f63a3bf3d87"
      },
      "outputs": [
        {
          "name": "stdout",
          "output_type": "stream",
          "text": [
            "<class 'pandas.core.frame.DataFrame'>\n",
            "RangeIndex: 156 entries, 0 to 155\n",
            "Data columns (total 9 columns):\n",
            " #   Column                        Non-Null Count  Dtype  \n",
            "---  ------                        --------------  -----  \n",
            " 0   Overall rank                  156 non-null    int64  \n",
            " 1   Country or region             156 non-null    object \n",
            " 2   Score                         156 non-null    float64\n",
            " 3   GDP per capita                156 non-null    float64\n",
            " 4   Social support                156 non-null    float64\n",
            " 5   Healthy life expectancy       156 non-null    float64\n",
            " 6   Freedom to make life choices  156 non-null    float64\n",
            " 7   Generosity                    156 non-null    float64\n",
            " 8   Perceptions of corruption     156 non-null    float64\n",
            "dtypes: float64(7), int64(1), object(1)\n",
            "memory usage: 11.1+ KB\n"
          ]
        }
      ],
      "source": [
        "#Filling the null value by the mean of this column \n",
        "df2018['Perceptions of corruption'] = df2018['Perceptions of corruption'].fillna(df2018['Perceptions of corruption'].mean())\n",
        "df2018.info()"
      ]
    },
    {
      "cell_type": "markdown",
      "metadata": {
        "id": "kHFPdTXtKThj"
      },
      "source": [
        "## Preparing the data to merge all the reports together"
      ]
    },
    {
      "cell_type": "code",
      "execution_count": null,
      "metadata": {
        "scrolled": true,
        "id": "NwPzbNuPKThj"
      },
      "outputs": [],
      "source": [
        "#adding Year column to the all reports, dropping some columns, changing the names of some columns to make the format identical for all the reports\n",
        "\n",
        "df2015[\"Year\"]='2015'\n",
        "df2016[\"Year\"]='2016'\n",
        "df2017[\"Year\"]='2017'\n",
        "df2018[\"Year\"]='2018'\n",
        "df2019[\"Year\"]='2019'\n",
        "\n",
        "df2016.drop(['Lower Confidence Interval', 'Upper Confidence Interval','Dystopia Residual'], axis=1, inplace=True)\n",
        "df2017.drop(['Whisker.high', 'Whisker.low','Dystopia.Residual'], axis=1, inplace=True)\n",
        "\n",
        "\n",
        "df2016.columns=['Country', 'Region', 'Happiness_Rank', 'Happiness_Score','Economy', 'Family', 'Health','Freedom', 'Trust', 'Generosity','Year']\n",
        "df2017.columns=['Country', 'Happiness_Rank', 'Happiness_Score', 'Economy', 'Family','Health', 'Freedom', 'Generosity', 'Trust', 'Year']\n",
        "df2018.columns=['Happiness_Rank', 'Country', 'Happiness_Score', 'Economy','Family', 'Health','Freedom', 'Generosity','Trust', 'Year']\n",
        "df2019.columns=['Happiness_Rank', 'Country', 'Happiness_Score', 'Economy','Family', 'Health',  'Freedom ', 'Generosity','Trust','Year']\n"
      ]
    },
    {
      "cell_type": "markdown",
      "metadata": {
        "id": "93ZF1LMxKThk"
      },
      "source": [
        "## Adding the Region column to 2017,2018,2019 reports"
      ]
    },
    {
      "cell_type": "code",
      "execution_count": null,
      "metadata": {
        "id": "niCqzWrGKThk",
        "outputId": "9263cbbb-9000-4e91-a4d6-8c78984e7196"
      },
      "outputs": [
        {
          "data": {
            "text/html": [
              "<div>\n",
              "<style scoped>\n",
              "    .dataframe tbody tr th:only-of-type {\n",
              "        vertical-align: middle;\n",
              "    }\n",
              "\n",
              "    .dataframe tbody tr th {\n",
              "        vertical-align: top;\n",
              "    }\n",
              "\n",
              "    .dataframe thead th {\n",
              "        text-align: right;\n",
              "    }\n",
              "</style>\n",
              "<table border=\"1\" class=\"dataframe\">\n",
              "  <thead>\n",
              "    <tr style=\"text-align: right;\">\n",
              "      <th></th>\n",
              "      <th>Country</th>\n",
              "      <th>Region</th>\n",
              "      <th>Happiness_Rank_2016</th>\n",
              "      <th>Happiness_Score_2016</th>\n",
              "      <th>Economy_2016</th>\n",
              "      <th>Family_2016</th>\n",
              "      <th>Health_2016</th>\n",
              "      <th>Freedom_2016</th>\n",
              "      <th>Trust_2016</th>\n",
              "      <th>Generosity_2016</th>\n",
              "      <th>Year_2016</th>\n",
              "      <th>Happiness_Rank_2017</th>\n",
              "      <th>Happiness_Score_2017</th>\n",
              "      <th>Economy_2017</th>\n",
              "      <th>Family_2017</th>\n",
              "      <th>Health_2017</th>\n",
              "      <th>Freedom_2017</th>\n",
              "      <th>Generosity_2017</th>\n",
              "      <th>Trust_2017</th>\n",
              "      <th>Year_2017</th>\n",
              "    </tr>\n",
              "  </thead>\n",
              "  <tbody>\n",
              "    <tr>\n",
              "      <th>0</th>\n",
              "      <td>Denmark</td>\n",
              "      <td>Western Europe</td>\n",
              "      <td>1</td>\n",
              "      <td>7.526</td>\n",
              "      <td>1.44178</td>\n",
              "      <td>1.16374</td>\n",
              "      <td>0.79504</td>\n",
              "      <td>0.57941</td>\n",
              "      <td>0.44453</td>\n",
              "      <td>0.36171</td>\n",
              "      <td>2016</td>\n",
              "      <td>2.0</td>\n",
              "      <td>7.522</td>\n",
              "      <td>1.482383</td>\n",
              "      <td>1.551122</td>\n",
              "      <td>0.792566</td>\n",
              "      <td>0.626007</td>\n",
              "      <td>0.355280</td>\n",
              "      <td>0.400770</td>\n",
              "      <td>2017</td>\n",
              "    </tr>\n",
              "    <tr>\n",
              "      <th>1</th>\n",
              "      <td>Switzerland</td>\n",
              "      <td>Western Europe</td>\n",
              "      <td>2</td>\n",
              "      <td>7.509</td>\n",
              "      <td>1.52733</td>\n",
              "      <td>1.14524</td>\n",
              "      <td>0.86303</td>\n",
              "      <td>0.58557</td>\n",
              "      <td>0.41203</td>\n",
              "      <td>0.28083</td>\n",
              "      <td>2016</td>\n",
              "      <td>4.0</td>\n",
              "      <td>7.494</td>\n",
              "      <td>1.564980</td>\n",
              "      <td>1.516912</td>\n",
              "      <td>0.858131</td>\n",
              "      <td>0.620071</td>\n",
              "      <td>0.290549</td>\n",
              "      <td>0.367007</td>\n",
              "      <td>2017</td>\n",
              "    </tr>\n",
              "  </tbody>\n",
              "</table>\n",
              "</div>"
            ],
            "text/plain": [
              "       Country          Region  Happiness_Rank_2016  Happiness_Score_2016  \\\n",
              "0      Denmark  Western Europe                    1                 7.526   \n",
              "1  Switzerland  Western Europe                    2                 7.509   \n",
              "\n",
              "   Economy_2016  Family_2016  Health_2016  Freedom_2016  Trust_2016  \\\n",
              "0       1.44178      1.16374      0.79504       0.57941     0.44453   \n",
              "1       1.52733      1.14524      0.86303       0.58557     0.41203   \n",
              "\n",
              "   Generosity_2016 Year_2016  Happiness_Rank_2017  Happiness_Score_2017  \\\n",
              "0          0.36171      2016                  2.0                 7.522   \n",
              "1          0.28083      2016                  4.0                 7.494   \n",
              "\n",
              "   Economy_2017  Family_2017  Health_2017  Freedom_2017  Generosity_2017  \\\n",
              "0      1.482383     1.551122     0.792566      0.626007         0.355280   \n",
              "1      1.564980     1.516912     0.858131      0.620071         0.290549   \n",
              "\n",
              "   Trust_2017 Year_2017  \n",
              "0    0.400770      2017  \n",
              "1    0.367007      2017  "
            ]
          },
          "execution_count": 62,
          "metadata": {},
          "output_type": "execute_result"
        }
      ],
      "source": [
        "#merging  2016 report and  2017 report  On the basis of Country column, adding suffixes to mark the columns\n",
        "#The reason why I chose 2016 report to add the region column not 2015 report : \n",
        "#to get less null values after the merging and to drop less rows as we will see later\n",
        "df2017_new=pd.merge(left=df2016, right=df2017, how = 'left', on='Country',suffixes=(\"_2016\",\"_2017\"))\n",
        "df2017_new.head(2)"
      ]
    },
    {
      "cell_type": "code",
      "execution_count": null,
      "metadata": {
        "id": "MxW2grzOKThk",
        "outputId": "cc7f432e-0bfb-45ed-b1a2-16a6ba73bfaf"
      },
      "outputs": [
        {
          "data": {
            "text/html": [
              "<div>\n",
              "<style scoped>\n",
              "    .dataframe tbody tr th:only-of-type {\n",
              "        vertical-align: middle;\n",
              "    }\n",
              "\n",
              "    .dataframe tbody tr th {\n",
              "        vertical-align: top;\n",
              "    }\n",
              "\n",
              "    .dataframe thead th {\n",
              "        text-align: right;\n",
              "    }\n",
              "</style>\n",
              "<table border=\"1\" class=\"dataframe\">\n",
              "  <thead>\n",
              "    <tr style=\"text-align: right;\">\n",
              "      <th></th>\n",
              "      <th>Country</th>\n",
              "      <th>Region</th>\n",
              "      <th>Happiness_Rank</th>\n",
              "      <th>Happiness_Score</th>\n",
              "      <th>Economy</th>\n",
              "      <th>Family</th>\n",
              "      <th>Health</th>\n",
              "      <th>Freedom</th>\n",
              "      <th>Generosity</th>\n",
              "      <th>Trust</th>\n",
              "      <th>Year</th>\n",
              "    </tr>\n",
              "  </thead>\n",
              "  <tbody>\n",
              "    <tr>\n",
              "      <th>0</th>\n",
              "      <td>Denmark</td>\n",
              "      <td>Western Europe</td>\n",
              "      <td>2.0</td>\n",
              "      <td>7.522</td>\n",
              "      <td>1.482383</td>\n",
              "      <td>1.551122</td>\n",
              "      <td>0.792566</td>\n",
              "      <td>0.626007</td>\n",
              "      <td>0.355280</td>\n",
              "      <td>0.400770</td>\n",
              "      <td>2017</td>\n",
              "    </tr>\n",
              "    <tr>\n",
              "      <th>1</th>\n",
              "      <td>Switzerland</td>\n",
              "      <td>Western Europe</td>\n",
              "      <td>4.0</td>\n",
              "      <td>7.494</td>\n",
              "      <td>1.564980</td>\n",
              "      <td>1.516912</td>\n",
              "      <td>0.858131</td>\n",
              "      <td>0.620071</td>\n",
              "      <td>0.290549</td>\n",
              "      <td>0.367007</td>\n",
              "      <td>2017</td>\n",
              "    </tr>\n",
              "  </tbody>\n",
              "</table>\n",
              "</div>"
            ],
            "text/plain": [
              "       Country          Region  Happiness_Rank  Happiness_Score   Economy  \\\n",
              "0      Denmark  Western Europe             2.0            7.522  1.482383   \n",
              "1  Switzerland  Western Europe             4.0            7.494  1.564980   \n",
              "\n",
              "     Family    Health   Freedom  Generosity     Trust  Year  \n",
              "0  1.551122  0.792566  0.626007    0.355280  0.400770  2017  \n",
              "1  1.516912  0.858131  0.620071    0.290549  0.367007  2017  "
            ]
          },
          "execution_count": 63,
          "metadata": {},
          "output_type": "execute_result"
        }
      ],
      "source": [
        "#We need to keep just the Region column from 2016 report, and droping the rest of 2016 columns,then changing the names of the columns to standardize he format of the data sets\n",
        "df2017_new.drop(['Happiness_Rank_2016','Happiness_Score_2016','Economy_2016','Family_2016','Health_2016','Freedom_2016','Trust_2016','Generosity_2016','Year_2016'], axis=1, inplace=True)\n",
        "df2017_new.columns=['Country','Region' ,'Happiness_Rank', 'Happiness_Score', 'Economy', 'Family','Health', 'Freedom', 'Generosity', 'Trust', 'Year']\n",
        "df2017=df2017_new\n",
        "df2017.head(2)"
      ]
    },
    {
      "cell_type": "code",
      "execution_count": null,
      "metadata": {
        "id": "hnqZWfSMKThk",
        "outputId": "b508eaa4-730a-4bcb-a55c-41b8ca09c138"
      },
      "outputs": [
        {
          "data": {
            "text/html": [
              "<div>\n",
              "<style scoped>\n",
              "    .dataframe tbody tr th:only-of-type {\n",
              "        vertical-align: middle;\n",
              "    }\n",
              "\n",
              "    .dataframe tbody tr th {\n",
              "        vertical-align: top;\n",
              "    }\n",
              "\n",
              "    .dataframe thead th {\n",
              "        text-align: right;\n",
              "    }\n",
              "</style>\n",
              "<table border=\"1\" class=\"dataframe\">\n",
              "  <thead>\n",
              "    <tr style=\"text-align: right;\">\n",
              "      <th></th>\n",
              "      <th>Country</th>\n",
              "      <th>Region</th>\n",
              "      <th>Happiness_Rank</th>\n",
              "      <th>Happiness_Score</th>\n",
              "      <th>Economy</th>\n",
              "      <th>Family</th>\n",
              "      <th>Health</th>\n",
              "      <th>Freedom</th>\n",
              "      <th>Generosity</th>\n",
              "      <th>Trust</th>\n",
              "      <th>Year</th>\n",
              "    </tr>\n",
              "  </thead>\n",
              "  <tbody>\n",
              "    <tr>\n",
              "      <th>0</th>\n",
              "      <td>Denmark</td>\n",
              "      <td>Western Europe</td>\n",
              "      <td>3.0</td>\n",
              "      <td>7.555</td>\n",
              "      <td>1.351</td>\n",
              "      <td>1.590</td>\n",
              "      <td>0.868</td>\n",
              "      <td>0.683</td>\n",
              "      <td>0.284</td>\n",
              "      <td>0.408</td>\n",
              "      <td>2018</td>\n",
              "    </tr>\n",
              "    <tr>\n",
              "      <th>1</th>\n",
              "      <td>Switzerland</td>\n",
              "      <td>Western Europe</td>\n",
              "      <td>5.0</td>\n",
              "      <td>7.487</td>\n",
              "      <td>1.420</td>\n",
              "      <td>1.549</td>\n",
              "      <td>0.927</td>\n",
              "      <td>0.660</td>\n",
              "      <td>0.256</td>\n",
              "      <td>0.357</td>\n",
              "      <td>2018</td>\n",
              "    </tr>\n",
              "    <tr>\n",
              "      <th>2</th>\n",
              "      <td>Iceland</td>\n",
              "      <td>Western Europe</td>\n",
              "      <td>4.0</td>\n",
              "      <td>7.495</td>\n",
              "      <td>1.343</td>\n",
              "      <td>1.644</td>\n",
              "      <td>0.914</td>\n",
              "      <td>0.677</td>\n",
              "      <td>0.353</td>\n",
              "      <td>0.138</td>\n",
              "      <td>2018</td>\n",
              "    </tr>\n",
              "    <tr>\n",
              "      <th>3</th>\n",
              "      <td>Norway</td>\n",
              "      <td>Western Europe</td>\n",
              "      <td>2.0</td>\n",
              "      <td>7.594</td>\n",
              "      <td>1.456</td>\n",
              "      <td>1.582</td>\n",
              "      <td>0.861</td>\n",
              "      <td>0.686</td>\n",
              "      <td>0.286</td>\n",
              "      <td>0.340</td>\n",
              "      <td>2018</td>\n",
              "    </tr>\n",
              "    <tr>\n",
              "      <th>4</th>\n",
              "      <td>Finland</td>\n",
              "      <td>Western Europe</td>\n",
              "      <td>1.0</td>\n",
              "      <td>7.632</td>\n",
              "      <td>1.305</td>\n",
              "      <td>1.592</td>\n",
              "      <td>0.874</td>\n",
              "      <td>0.681</td>\n",
              "      <td>0.202</td>\n",
              "      <td>0.393</td>\n",
              "      <td>2018</td>\n",
              "    </tr>\n",
              "  </tbody>\n",
              "</table>\n",
              "</div>"
            ],
            "text/plain": [
              "       Country          Region  Happiness_Rank  Happiness_Score  Economy  \\\n",
              "0      Denmark  Western Europe             3.0            7.555    1.351   \n",
              "1  Switzerland  Western Europe             5.0            7.487    1.420   \n",
              "2      Iceland  Western Europe             4.0            7.495    1.343   \n",
              "3       Norway  Western Europe             2.0            7.594    1.456   \n",
              "4      Finland  Western Europe             1.0            7.632    1.305   \n",
              "\n",
              "   Family  Health  Freedom  Generosity  Trust  Year  \n",
              "0   1.590   0.868    0.683       0.284  0.408  2018  \n",
              "1   1.549   0.927    0.660       0.256  0.357  2018  \n",
              "2   1.644   0.914    0.677       0.353  0.138  2018  \n",
              "3   1.582   0.861    0.686       0.286  0.340  2018  \n",
              "4   1.592   0.874    0.681       0.202  0.393  2018  "
            ]
          },
          "execution_count": 64,
          "metadata": {},
          "output_type": "execute_result"
        }
      ],
      "source": [
        "#The same process with 2018 report:\n",
        "df2018_new=pd.merge(left=df2016, right=df2018, how = 'left', on='Country',suffixes=(\"_2016\",\"_2018\"))\n",
        "df2018_new.drop(['Happiness_Rank_2016',\n",
        "'Happiness_Score_2016','Economy_2016','Family_2016','Health_2016','Freedom_2016','Trust_2016','Generosity_2016','Year_2016'], axis=1, inplace=True)\n",
        "df2018_new.columns=['Country','Region' ,'Happiness_Rank', 'Happiness_Score', 'Economy', 'Family','Health', 'Freedom', 'Generosity', 'Trust', 'Year']\n",
        "df2018=df2018_new\n",
        "df2018.head()"
      ]
    },
    {
      "cell_type": "code",
      "execution_count": null,
      "metadata": {
        "id": "z5BOC-A8KThk",
        "outputId": "a95299d9-5401-4dce-daf2-9543dac185aa"
      },
      "outputs": [
        {
          "data": {
            "text/html": [
              "<div>\n",
              "<style scoped>\n",
              "    .dataframe tbody tr th:only-of-type {\n",
              "        vertical-align: middle;\n",
              "    }\n",
              "\n",
              "    .dataframe tbody tr th {\n",
              "        vertical-align: top;\n",
              "    }\n",
              "\n",
              "    .dataframe thead th {\n",
              "        text-align: right;\n",
              "    }\n",
              "</style>\n",
              "<table border=\"1\" class=\"dataframe\">\n",
              "  <thead>\n",
              "    <tr style=\"text-align: right;\">\n",
              "      <th></th>\n",
              "      <th>Country</th>\n",
              "      <th>Region</th>\n",
              "      <th>Happiness_Rank</th>\n",
              "      <th>Happiness_Score</th>\n",
              "      <th>Economy</th>\n",
              "      <th>Family</th>\n",
              "      <th>Health</th>\n",
              "      <th>Freedom</th>\n",
              "      <th>Generosity</th>\n",
              "      <th>Trust</th>\n",
              "      <th>Year</th>\n",
              "    </tr>\n",
              "  </thead>\n",
              "  <tbody>\n",
              "    <tr>\n",
              "      <th>0</th>\n",
              "      <td>Denmark</td>\n",
              "      <td>Western Europe</td>\n",
              "      <td>2.0</td>\n",
              "      <td>7.60</td>\n",
              "      <td>1.383</td>\n",
              "      <td>1.573</td>\n",
              "      <td>0.996</td>\n",
              "      <td>0.592</td>\n",
              "      <td>0.252</td>\n",
              "      <td>0.410</td>\n",
              "      <td>2019</td>\n",
              "    </tr>\n",
              "    <tr>\n",
              "      <th>1</th>\n",
              "      <td>Switzerland</td>\n",
              "      <td>Western Europe</td>\n",
              "      <td>6.0</td>\n",
              "      <td>7.48</td>\n",
              "      <td>1.452</td>\n",
              "      <td>1.526</td>\n",
              "      <td>1.052</td>\n",
              "      <td>0.572</td>\n",
              "      <td>0.263</td>\n",
              "      <td>0.343</td>\n",
              "      <td>2019</td>\n",
              "    </tr>\n",
              "  </tbody>\n",
              "</table>\n",
              "</div>"
            ],
            "text/plain": [
              "       Country          Region  Happiness_Rank  Happiness_Score  Economy  \\\n",
              "0      Denmark  Western Europe             2.0             7.60    1.383   \n",
              "1  Switzerland  Western Europe             6.0             7.48    1.452   \n",
              "\n",
              "   Family  Health  Freedom  Generosity  Trust  Year  \n",
              "0   1.573   0.996    0.592       0.252  0.410  2019  \n",
              "1   1.526   1.052    0.572       0.263  0.343  2019  "
            ]
          },
          "execution_count": 65,
          "metadata": {},
          "output_type": "execute_result"
        }
      ],
      "source": [
        "#The same process with 2019 report:\n",
        "df2019_new=pd.merge(left=df2016, right=df2019, how = 'left', on='Country',suffixes=(\"_2016\",\"_2019\"))\n",
        "df2019_new.drop(['Happiness_Rank_2016',\n",
        "'Happiness_Score_2016','Economy_2016','Family_2016','Health_2016','Freedom','Trust_2016','Generosity_2016','Year_2016'], axis=1, inplace=True)\n",
        "df2019_new.columns=['Country','Region' ,'Happiness_Rank', 'Happiness_Score', 'Economy', 'Family','Health', 'Freedom', 'Generosity', 'Trust', 'Year']\n",
        "df2019=df2019_new\n",
        "df2019.head(2)"
      ]
    },
    {
      "cell_type": "markdown",
      "metadata": {
        "id": "Dwx4mmXfKThk"
      },
      "source": [
        "### Dealing with the null values after adding the Region coulmn:"
      ]
    },
    {
      "cell_type": "code",
      "execution_count": null,
      "metadata": {
        "id": "V2boonvqKThk",
        "outputId": "6906c9ab-a62f-4425-b2d4-5db379b7bdaa"
      },
      "outputs": [
        {
          "name": "stdout",
          "output_type": "stream",
          "text": [
            "<class 'pandas.core.frame.DataFrame'>\n",
            "Int64Index: 157 entries, 0 to 156\n",
            "Data columns (total 11 columns):\n",
            " #   Column           Non-Null Count  Dtype  \n",
            "---  ------           --------------  -----  \n",
            " 0   Country          157 non-null    object \n",
            " 1   Region           157 non-null    object \n",
            " 2   Happiness_Rank   150 non-null    float64\n",
            " 3   Happiness_Score  150 non-null    float64\n",
            " 4   Economy          150 non-null    float64\n",
            " 5   Family           150 non-null    float64\n",
            " 6   Health           150 non-null    float64\n",
            " 7   Freedom          150 non-null    float64\n",
            " 8   Generosity       150 non-null    float64\n",
            " 9   Trust            150 non-null    float64\n",
            " 10  Year             150 non-null    object \n",
            "dtypes: float64(8), object(3)\n",
            "memory usage: 14.7+ KB\n"
          ]
        }
      ],
      "source": [
        "df2017.info()"
      ]
    },
    {
      "cell_type": "code",
      "execution_count": null,
      "metadata": {
        "id": "mROsRtYcKThk",
        "outputId": "c51c2427-70e1-4ca7-9b60-94a3002bf8df"
      },
      "outputs": [
        {
          "data": {
            "text/html": [
              "<div>\n",
              "<style scoped>\n",
              "    .dataframe tbody tr th:only-of-type {\n",
              "        vertical-align: middle;\n",
              "    }\n",
              "\n",
              "    .dataframe tbody tr th {\n",
              "        vertical-align: top;\n",
              "    }\n",
              "\n",
              "    .dataframe thead th {\n",
              "        text-align: right;\n",
              "    }\n",
              "</style>\n",
              "<table border=\"1\" class=\"dataframe\">\n",
              "  <thead>\n",
              "    <tr style=\"text-align: right;\">\n",
              "      <th></th>\n",
              "      <th>Country</th>\n",
              "      <th>Region</th>\n",
              "      <th>Happiness_Rank</th>\n",
              "      <th>Happiness_Score</th>\n",
              "      <th>Economy</th>\n",
              "      <th>Family</th>\n",
              "      <th>Health</th>\n",
              "      <th>Freedom</th>\n",
              "      <th>Generosity</th>\n",
              "      <th>Trust</th>\n",
              "      <th>Year</th>\n",
              "    </tr>\n",
              "  </thead>\n",
              "  <tbody>\n",
              "    <tr>\n",
              "      <th>14</th>\n",
              "      <td>Puerto Rico</td>\n",
              "      <td>Latin America and Caribbean</td>\n",
              "      <td>NaN</td>\n",
              "      <td>5.37952</td>\n",
              "      <td>0.992605</td>\n",
              "      <td>1.19714</td>\n",
              "      <td>0.557302</td>\n",
              "      <td>0.409114</td>\n",
              "      <td>0.245823</td>\n",
              "      <td>0.122472</td>\n",
              "      <td>2017</td>\n",
              "    </tr>\n",
              "    <tr>\n",
              "      <th>34</th>\n",
              "      <td>Taiwan</td>\n",
              "      <td>Eastern Asia</td>\n",
              "      <td>NaN</td>\n",
              "      <td>5.37952</td>\n",
              "      <td>0.992605</td>\n",
              "      <td>1.19714</td>\n",
              "      <td>0.557302</td>\n",
              "      <td>0.409114</td>\n",
              "      <td>0.245823</td>\n",
              "      <td>0.122472</td>\n",
              "      <td>2017</td>\n",
              "    </tr>\n",
              "    <tr>\n",
              "      <th>39</th>\n",
              "      <td>Suriname</td>\n",
              "      <td>Latin America and Caribbean</td>\n",
              "      <td>NaN</td>\n",
              "      <td>5.37952</td>\n",
              "      <td>0.992605</td>\n",
              "      <td>1.19714</td>\n",
              "      <td>0.557302</td>\n",
              "      <td>0.409114</td>\n",
              "      <td>0.245823</td>\n",
              "      <td>0.122472</td>\n",
              "      <td>2017</td>\n",
              "    </tr>\n",
              "    <tr>\n",
              "      <th>74</th>\n",
              "      <td>Hong Kong</td>\n",
              "      <td>Eastern Asia</td>\n",
              "      <td>NaN</td>\n",
              "      <td>5.37952</td>\n",
              "      <td>0.992605</td>\n",
              "      <td>1.19714</td>\n",
              "      <td>0.557302</td>\n",
              "      <td>0.409114</td>\n",
              "      <td>0.245823</td>\n",
              "      <td>0.122472</td>\n",
              "      <td>2017</td>\n",
              "    </tr>\n",
              "    <tr>\n",
              "      <th>96</th>\n",
              "      <td>Somaliland Region</td>\n",
              "      <td>Sub-Saharan Africa</td>\n",
              "      <td>NaN</td>\n",
              "      <td>5.37952</td>\n",
              "      <td>0.992605</td>\n",
              "      <td>1.19714</td>\n",
              "      <td>0.557302</td>\n",
              "      <td>0.409114</td>\n",
              "      <td>0.245823</td>\n",
              "      <td>0.122472</td>\n",
              "      <td>2017</td>\n",
              "    </tr>\n",
              "    <tr>\n",
              "      <th>101</th>\n",
              "      <td>Laos</td>\n",
              "      <td>Southeastern Asia</td>\n",
              "      <td>NaN</td>\n",
              "      <td>5.37952</td>\n",
              "      <td>0.992605</td>\n",
              "      <td>1.19714</td>\n",
              "      <td>0.557302</td>\n",
              "      <td>0.409114</td>\n",
              "      <td>0.245823</td>\n",
              "      <td>0.122472</td>\n",
              "      <td>2017</td>\n",
              "    </tr>\n",
              "    <tr>\n",
              "      <th>137</th>\n",
              "      <td>Comoros</td>\n",
              "      <td>Sub-Saharan Africa</td>\n",
              "      <td>NaN</td>\n",
              "      <td>5.37952</td>\n",
              "      <td>0.992605</td>\n",
              "      <td>1.19714</td>\n",
              "      <td>0.557302</td>\n",
              "      <td>0.409114</td>\n",
              "      <td>0.245823</td>\n",
              "      <td>0.122472</td>\n",
              "      <td>2017</td>\n",
              "    </tr>\n",
              "  </tbody>\n",
              "</table>\n",
              "</div>"
            ],
            "text/plain": [
              "               Country                       Region  Happiness_Rank  \\\n",
              "14         Puerto Rico  Latin America and Caribbean             NaN   \n",
              "34              Taiwan                 Eastern Asia             NaN   \n",
              "39            Suriname  Latin America and Caribbean             NaN   \n",
              "74           Hong Kong                 Eastern Asia             NaN   \n",
              "96   Somaliland Region           Sub-Saharan Africa             NaN   \n",
              "101               Laos            Southeastern Asia             NaN   \n",
              "137            Comoros           Sub-Saharan Africa             NaN   \n",
              "\n",
              "     Happiness_Score   Economy   Family    Health   Freedom  Generosity  \\\n",
              "14           5.37952  0.992605  1.19714  0.557302  0.409114    0.245823   \n",
              "34           5.37952  0.992605  1.19714  0.557302  0.409114    0.245823   \n",
              "39           5.37952  0.992605  1.19714  0.557302  0.409114    0.245823   \n",
              "74           5.37952  0.992605  1.19714  0.557302  0.409114    0.245823   \n",
              "96           5.37952  0.992605  1.19714  0.557302  0.409114    0.245823   \n",
              "101          5.37952  0.992605  1.19714  0.557302  0.409114    0.245823   \n",
              "137          5.37952  0.992605  1.19714  0.557302  0.409114    0.245823   \n",
              "\n",
              "        Trust  Year  \n",
              "14   0.122472  2017  \n",
              "34   0.122472  2017  \n",
              "39   0.122472  2017  \n",
              "74   0.122472  2017  \n",
              "96   0.122472  2017  \n",
              "101  0.122472  2017  \n",
              "137  0.122472  2017  "
            ]
          },
          "execution_count": 67,
          "metadata": {},
          "output_type": "execute_result"
        }
      ],
      "source": [
        "#after  merging we got null values\n",
        "#filling Year column= 2017\n",
        "#filling the factor columns with the mean of that column\n",
        "df2017_new['Year'] = df2017_new['Year'].fillna(2017)\n",
        "df2017['Economy'] = df2017['Economy'].fillna(df2017['Economy'].mean())\n",
        "df2017['Family'] = df2017['Family'].fillna(df2017['Family'].mean())\n",
        "df2017['Health'] = df2017['Health'].fillna(df2017['Health'].mean())\n",
        "df2017['Freedom'] = df2017['Freedom'].fillna(df2017['Freedom'].mean())\n",
        "df2017['Generosity'] = df2017['Generosity'].fillna(df2017['Generosity'].mean())\n",
        "df2017['Trust'] = df2017['Trust'].fillna(df2017['Trust'].mean())\n",
        "df2017['Happiness_Score'] = df2017['Happiness_Score'].fillna(df2017['Happiness_Score'].mean())\n",
        "df2017[df2017.isna().values]"
      ]
    },
    {
      "cell_type": "raw",
      "metadata": {
        "id": "5JmvwJ3PKThl"
      },
      "source": [
        "my goal is to standarize the data sets, so filling the null values with the mean doesnt really  help.\n",
        "What to do with The happiness rank column? \n",
        "I prefer to drop the rows  that contain null values after joining all the data sets "
      ]
    },
    {
      "cell_type": "code",
      "execution_count": null,
      "metadata": {
        "id": "gVS_NjzxKThl",
        "outputId": "90e1b951-42db-48a2-9b93-f6328f8eb336"
      },
      "outputs": [
        {
          "name": "stdout",
          "output_type": "stream",
          "text": [
            "2017 Report Shape:\n",
            "\n",
            "before (157, 11)\n",
            "after (150, 11)\n"
          ]
        },
        {
          "name": "stderr",
          "output_type": "stream",
          "text": [
            "<ipython-input-68-d220ac7d39bd>:5: SettingWithCopyWarning: \n",
            "A value is trying to be set on a copy of a slice from a DataFrame\n",
            "\n",
            "See the caveats in the documentation: https://pandas.pydata.org/pandas-docs/stable/user_guide/indexing.html#returning-a-view-versus-a-copy\n",
            "  df2017.dropna(how='any', inplace=True)\n"
          ]
        }
      ],
      "source": [
        "#dropping the rows with null values \n",
        "print('2017 Report Shape:\\n')\n",
        "print('before',df2017.shape)\n",
        "df2017 = df2017.dropna(how='any')           \n",
        "df2017.dropna(how='any', inplace=True)  \n",
        "print('after',df2017.shape)"
      ]
    },
    {
      "cell_type": "code",
      "execution_count": null,
      "metadata": {
        "id": "hmZpro-qKThl",
        "outputId": "a5051d52-f469-454f-b63e-15f011cf569a"
      },
      "outputs": [
        {
          "name": "stdout",
          "output_type": "stream",
          "text": [
            "2018 Report Shape:\n",
            "\n",
            "before (157, 11)\n",
            "after (151, 11)\n"
          ]
        },
        {
          "name": "stderr",
          "output_type": "stream",
          "text": [
            "<ipython-input-69-827ad17b2dbc>:5: SettingWithCopyWarning: \n",
            "A value is trying to be set on a copy of a slice from a DataFrame\n",
            "\n",
            "See the caveats in the documentation: https://pandas.pydata.org/pandas-docs/stable/user_guide/indexing.html#returning-a-view-versus-a-copy\n",
            "  df2018.dropna(how='any', inplace=True)\n"
          ]
        }
      ],
      "source": [
        "#dropping the rows with null value\n",
        "print('2018 Report Shape:\\n')\n",
        "print('before',df2018.shape)\n",
        "df2018 = df2018.dropna(how='any')           \n",
        "df2018.dropna(how='any', inplace=True)  \n",
        "print('after',df2018.shape)"
      ]
    },
    {
      "cell_type": "code",
      "execution_count": null,
      "metadata": {
        "id": "BzqmY8jPKThl",
        "outputId": "e60cc7b8-555e-4439-839b-7f399a7952e6"
      },
      "outputs": [
        {
          "name": "stdout",
          "output_type": "stream",
          "text": [
            "201 Report Shape:\n",
            "\n",
            "before (157, 11)\n",
            "after (148, 11)\n"
          ]
        },
        {
          "name": "stderr",
          "output_type": "stream",
          "text": [
            "<ipython-input-70-a3b70cab1c94>:5: SettingWithCopyWarning: \n",
            "A value is trying to be set on a copy of a slice from a DataFrame\n",
            "\n",
            "See the caveats in the documentation: https://pandas.pydata.org/pandas-docs/stable/user_guide/indexing.html#returning-a-view-versus-a-copy\n",
            "  df2019.dropna(how='any', inplace=True)\n"
          ]
        }
      ],
      "source": [
        "#dropping the rows with null value\n",
        "print('201 Report Shape:\\n')\n",
        "print('before',df2019.shape)\n",
        "df2019 = df2019.dropna(how='any')           \n",
        "df2019.dropna(how='any', inplace=True)  \n",
        "print('after',df2019.shape)"
      ]
    },
    {
      "cell_type": "code",
      "execution_count": null,
      "metadata": {
        "id": "cRJD_vHIKThl",
        "outputId": "c944518e-626e-47ce-e73b-aadcfdcb0ad2"
      },
      "outputs": [
        {
          "name": "stdout",
          "output_type": "stream",
          "text": [
            "       Country          Region  Happiness_Rank  Happiness_Score  Year\n",
            "0  Switzerland  Western Europe               1            7.587  2015\n",
            "1      Iceland  Western Europe               2            7.561  2015\n",
            "2      Denmark  Western Europe               3            7.527  2015\n",
            "3       Norway  Western Europe               4            7.522  2015\n",
            "4       Canada   North America               5            7.427  2015 \n",
            "\n",
            "       Country          Region  Happiness_Rank  Happiness_Score  Year\n",
            "0      Denmark  Western Europe               1            7.526  2016\n",
            "1  Switzerland  Western Europe               2            7.509  2016\n",
            "2      Iceland  Western Europe               3            7.501  2016\n",
            "3       Norway  Western Europe               4            7.498  2016\n",
            "4      Finland  Western Europe               5            7.413  2016 \n",
            "\n",
            "       Country          Region  Happiness_Rank  Happiness_Score  Year\n",
            "3       Norway  Western Europe             1.0            7.537  2017\n",
            "0      Denmark  Western Europe             2.0            7.522  2017\n",
            "2      Iceland  Western Europe             3.0            7.504  2017\n",
            "1  Switzerland  Western Europe             4.0            7.494  2017\n",
            "4      Finland  Western Europe             5.0            7.469  2017 \n",
            "\n",
            "       Country          Region  Happiness_Rank  Happiness_Score  Year\n",
            "4      Finland  Western Europe             1.0            7.632  2018\n",
            "3       Norway  Western Europe             2.0            7.594  2018\n",
            "0      Denmark  Western Europe             3.0            7.555  2018\n",
            "2      Iceland  Western Europe             4.0            7.495  2018\n",
            "1  Switzerland  Western Europe             5.0            7.487  2018 \n",
            "\n",
            "       Country          Region  Happiness_Rank  Happiness_Score  Year\n",
            "4      Finland  Western Europe             1.0            7.769  2019\n",
            "0      Denmark  Western Europe             2.0            7.600  2019\n",
            "3       Norway  Western Europe             3.0            7.554  2019\n",
            "2      Iceland  Western Europe             4.0            7.494  2019\n",
            "6  Netherlands  Western Europe             5.0            7.488  2019 \n",
            "\n"
          ]
        }
      ],
      "source": [
        "#printing the 5 happiest countries between 2015-2019\n",
        "top5_2015=df2015[['Country','Region','Happiness_Rank','Happiness_Score','Year']].sort_values(by=['Happiness_Rank']).head()\n",
        "top5_2016=df2016[['Country','Region','Happiness_Rank','Happiness_Score','Year']].sort_values(by=['Happiness_Rank']).head()\n",
        "top5_2017=df2017[['Country','Region','Happiness_Rank','Happiness_Score','Year']].sort_values(by=['Happiness_Rank']).head()\n",
        "top5_2018=df2018[['Country','Region','Happiness_Rank','Happiness_Score','Year']].sort_values(by=['Happiness_Rank']).head()\n",
        "top5_2019=df2019[['Country','Region','Happiness_Rank','Happiness_Score','Year']].sort_values(by=['Happiness_Rank']).head()\n",
        "print(top5_2015,'\\n')\n",
        "print(top5_2016,'\\n')\n",
        "print(top5_2017,'\\n')\n",
        "print(top5_2018,'\\n')\n",
        "print(top5_2019,'\\n')\n",
        "\n",
        "#we can notice that Iceland,Denemark,Norway in the top 5 happiest countries  between 2015-2019\n",
        "#Finland in the top 5 happiest countries between 2016-2019\n",
        "#Switzerland in the top 5 happiest countries between 2016-2018\n",
        "#all the countries except of Canada lay in  Western Europe Region "
      ]
    },
    {
      "cell_type": "code",
      "execution_count": null,
      "metadata": {
        "id": "Abkdn5ceKThl",
        "outputId": "936ffde4-3a53-4431-b61c-915fb869b37c"
      },
      "outputs": [
        {
          "name": "stdout",
          "output_type": "stream",
          "text": [
            "     Country                           Region  Happiness_Rank  Year\n",
            "153   Rwanda               Sub-Saharan Africa             154  2015\n",
            "154    Benin               Sub-Saharan Africa             155  2015\n",
            "155    Syria  Middle East and Northern Africa             156  2015\n",
            "156  Burundi               Sub-Saharan Africa             157  2015\n",
            "157     Togo               Sub-Saharan Africa             158  2015 \n",
            "\n",
            "         Country                           Region  Happiness_Rank  Year\n",
            "152        Benin               Sub-Saharan Africa             153  2016\n",
            "153  Afghanistan                    Southern Asia             154  2016\n",
            "154         Togo               Sub-Saharan Africa             155  2016\n",
            "155        Syria  Middle East and Northern Africa             156  2016\n",
            "156      Burundi               Sub-Saharan Africa             157  2016 \n",
            "\n",
            "      Country                           Region  Happiness_Rank  Year\n",
            "154      Togo               Sub-Saharan Africa           150.0  2017\n",
            "151    Rwanda               Sub-Saharan Africa           151.0  2017\n",
            "155     Syria  Middle East and Northern Africa           152.0  2017\n",
            "148  Tanzania               Sub-Saharan Africa           153.0  2017\n",
            "156   Burundi               Sub-Saharan Africa           154.0  2017 \n",
            "\n",
            "         Country                           Region  Happiness_Rank  Year\n",
            "151       Rwanda               Sub-Saharan Africa           151.0  2018\n",
            "146        Yemen  Middle East and Northern Africa           152.0  2018\n",
            "148     Tanzania               Sub-Saharan Africa           153.0  2018\n",
            "142  South Sudan               Sub-Saharan Africa           154.0  2018\n",
            "156      Burundi               Sub-Saharan Africa           156.0  2018 \n",
            "\n",
            "         Country                           Region  Happiness_Rank  Year\n",
            "146        Yemen  Middle East and Northern Africa           151.0  2019\n",
            "151       Rwanda               Sub-Saharan Africa           152.0  2019\n",
            "148     Tanzania               Sub-Saharan Africa           153.0  2019\n",
            "153  Afghanistan                    Southern Asia           154.0  2019\n",
            "142  South Sudan               Sub-Saharan Africa           156.0  2019 \n",
            "\n"
          ]
        }
      ],
      "source": [
        "#printing the 5 least happy countries between 2015-2019\n",
        "tail_2015=df2015[['Country','Region','Happiness_Rank','Year']].sort_values(by=['Happiness_Rank']).tail()\n",
        "tail_2016=df2016[['Country','Region','Happiness_Rank','Year']].sort_values(by=['Happiness_Rank']).tail()\n",
        "tail_2017=df2017[['Country','Region','Happiness_Rank','Year']].sort_values(by=['Happiness_Rank']).tail()\n",
        "tail_2018=df2018[['Country','Region','Happiness_Rank','Year']].sort_values(by=['Happiness_Rank']).tail()\n",
        "tail_2019=df2019[['Country','Region','Happiness_Rank','Year']].sort_values(by=['Happiness_Rank']).tail()\n",
        "print(tail_2015,'\\n')\n",
        "print(tail_2016,'\\n')\n",
        "print(tail_2017,'\\n')\n",
        "print(tail_2018,'\\n')\n",
        "print(tail_2019,'\\n')\n",
        "\n",
        "#Syria,Rwanda,Burundi,Togo,Tannzania are the least happy countries between 2015-2019\n",
        "#most of the countries lie in Sub-Sahran Africa (The least Happy Region 2015-2019)"
      ]
    },
    {
      "cell_type": "markdown",
      "metadata": {
        "id": "scYDmrB3KThl"
      },
      "source": [
        "### Joining  all the reports together  and  Exploring the new data:"
      ]
    },
    {
      "cell_type": "code",
      "execution_count": null,
      "metadata": {
        "id": "QG6Yr5n5KThl",
        "outputId": "f288daa4-98e0-483f-8af0-ad7838f9d465"
      },
      "outputs": [
        {
          "data": {
            "text/html": [
              "<div>\n",
              "<style scoped>\n",
              "    .dataframe tbody tr th:only-of-type {\n",
              "        vertical-align: middle;\n",
              "    }\n",
              "\n",
              "    .dataframe tbody tr th {\n",
              "        vertical-align: top;\n",
              "    }\n",
              "\n",
              "    .dataframe thead th {\n",
              "        text-align: right;\n",
              "    }\n",
              "</style>\n",
              "<table border=\"1\" class=\"dataframe\">\n",
              "  <thead>\n",
              "    <tr style=\"text-align: right;\">\n",
              "      <th></th>\n",
              "      <th>Country</th>\n",
              "      <th>Region</th>\n",
              "      <th>Happiness_Rank</th>\n",
              "      <th>Happiness_Score</th>\n",
              "      <th>Economy</th>\n",
              "      <th>Family</th>\n",
              "      <th>Health</th>\n",
              "      <th>Freedom</th>\n",
              "      <th>Trust</th>\n",
              "      <th>Generosity</th>\n",
              "      <th>Year</th>\n",
              "    </tr>\n",
              "  </thead>\n",
              "  <tbody>\n",
              "    <tr>\n",
              "      <th>0</th>\n",
              "      <td>Switzerland</td>\n",
              "      <td>Western Europe</td>\n",
              "      <td>1.0</td>\n",
              "      <td>7.587</td>\n",
              "      <td>1.39651</td>\n",
              "      <td>1.34951</td>\n",
              "      <td>0.94143</td>\n",
              "      <td>0.66557</td>\n",
              "      <td>0.41978</td>\n",
              "      <td>0.29678</td>\n",
              "      <td>2015</td>\n",
              "    </tr>\n",
              "    <tr>\n",
              "      <th>1</th>\n",
              "      <td>Iceland</td>\n",
              "      <td>Western Europe</td>\n",
              "      <td>2.0</td>\n",
              "      <td>7.561</td>\n",
              "      <td>1.30232</td>\n",
              "      <td>1.40223</td>\n",
              "      <td>0.94784</td>\n",
              "      <td>0.62877</td>\n",
              "      <td>0.14145</td>\n",
              "      <td>0.43630</td>\n",
              "      <td>2015</td>\n",
              "    </tr>\n",
              "    <tr>\n",
              "      <th>2</th>\n",
              "      <td>Denmark</td>\n",
              "      <td>Western Europe</td>\n",
              "      <td>3.0</td>\n",
              "      <td>7.527</td>\n",
              "      <td>1.32548</td>\n",
              "      <td>1.36058</td>\n",
              "      <td>0.87464</td>\n",
              "      <td>0.64938</td>\n",
              "      <td>0.48357</td>\n",
              "      <td>0.34139</td>\n",
              "      <td>2015</td>\n",
              "    </tr>\n",
              "    <tr>\n",
              "      <th>3</th>\n",
              "      <td>Norway</td>\n",
              "      <td>Western Europe</td>\n",
              "      <td>4.0</td>\n",
              "      <td>7.522</td>\n",
              "      <td>1.45900</td>\n",
              "      <td>1.33095</td>\n",
              "      <td>0.88521</td>\n",
              "      <td>0.66973</td>\n",
              "      <td>0.36503</td>\n",
              "      <td>0.34699</td>\n",
              "      <td>2015</td>\n",
              "    </tr>\n",
              "    <tr>\n",
              "      <th>4</th>\n",
              "      <td>Canada</td>\n",
              "      <td>North America</td>\n",
              "      <td>5.0</td>\n",
              "      <td>7.427</td>\n",
              "      <td>1.32629</td>\n",
              "      <td>1.32261</td>\n",
              "      <td>0.90563</td>\n",
              "      <td>0.63297</td>\n",
              "      <td>0.32957</td>\n",
              "      <td>0.45811</td>\n",
              "      <td>2015</td>\n",
              "    </tr>\n",
              "  </tbody>\n",
              "</table>\n",
              "</div>"
            ],
            "text/plain": [
              "       Country          Region  Happiness_Rank  Happiness_Score  Economy  \\\n",
              "0  Switzerland  Western Europe             1.0            7.587  1.39651   \n",
              "1      Iceland  Western Europe             2.0            7.561  1.30232   \n",
              "2      Denmark  Western Europe             3.0            7.527  1.32548   \n",
              "3       Norway  Western Europe             4.0            7.522  1.45900   \n",
              "4       Canada   North America             5.0            7.427  1.32629   \n",
              "\n",
              "    Family   Health  Freedom    Trust  Generosity  Year  \n",
              "0  1.34951  0.94143  0.66557  0.41978     0.29678  2015  \n",
              "1  1.40223  0.94784  0.62877  0.14145     0.43630  2015  \n",
              "2  1.36058  0.87464  0.64938  0.48357     0.34139  2015  \n",
              "3  1.33095  0.88521  0.66973  0.36503     0.34699  2015  \n",
              "4  1.32261  0.90563  0.63297  0.32957     0.45811  2015  "
            ]
          },
          "execution_count": 73,
          "metadata": {},
          "output_type": "execute_result"
        }
      ],
      "source": [
        "#joining all the reports together and displaying the result \n",
        "df=pd.concat([df2015,df2016,df2017,df2018,df2019],axis=0,ignore_index=True)\n",
        "df.head()"
      ]
    },
    {
      "cell_type": "code",
      "execution_count": null,
      "metadata": {
        "id": "-zNiQb1VKThl",
        "outputId": "cb7fb9d1-6d7d-4bc9-e580-5e843e22119a"
      },
      "outputs": [
        {
          "data": {
            "text/html": [
              "<div>\n",
              "<style scoped>\n",
              "    .dataframe tbody tr th:only-of-type {\n",
              "        vertical-align: middle;\n",
              "    }\n",
              "\n",
              "    .dataframe tbody tr th {\n",
              "        vertical-align: top;\n",
              "    }\n",
              "\n",
              "    .dataframe thead th {\n",
              "        text-align: right;\n",
              "    }\n",
              "</style>\n",
              "<table border=\"1\" class=\"dataframe\">\n",
              "  <thead>\n",
              "    <tr style=\"text-align: right;\">\n",
              "      <th></th>\n",
              "      <th>Country</th>\n",
              "      <th>Region</th>\n",
              "      <th>Happiness_Rank</th>\n",
              "      <th>Happiness_Score</th>\n",
              "      <th>Economy</th>\n",
              "      <th>Family</th>\n",
              "      <th>Health</th>\n",
              "      <th>Freedom</th>\n",
              "      <th>Trust</th>\n",
              "      <th>Generosity</th>\n",
              "      <th>Year</th>\n",
              "    </tr>\n",
              "  </thead>\n",
              "  <tbody>\n",
              "    <tr>\n",
              "      <th>759</th>\n",
              "      <td>Benin</td>\n",
              "      <td>Sub-Saharan Africa</td>\n",
              "      <td>102.0</td>\n",
              "      <td>4.883</td>\n",
              "      <td>0.393</td>\n",
              "      <td>0.437</td>\n",
              "      <td>0.397</td>\n",
              "      <td>0.349</td>\n",
              "      <td>0.082</td>\n",
              "      <td>0.175</td>\n",
              "      <td>2019</td>\n",
              "    </tr>\n",
              "    <tr>\n",
              "      <th>760</th>\n",
              "      <td>Afghanistan</td>\n",
              "      <td>Southern Asia</td>\n",
              "      <td>154.0</td>\n",
              "      <td>3.203</td>\n",
              "      <td>0.350</td>\n",
              "      <td>0.517</td>\n",
              "      <td>0.361</td>\n",
              "      <td>0.000</td>\n",
              "      <td>0.025</td>\n",
              "      <td>0.158</td>\n",
              "      <td>2019</td>\n",
              "    </tr>\n",
              "    <tr>\n",
              "      <th>761</th>\n",
              "      <td>Togo</td>\n",
              "      <td>Sub-Saharan Africa</td>\n",
              "      <td>139.0</td>\n",
              "      <td>4.085</td>\n",
              "      <td>0.275</td>\n",
              "      <td>0.572</td>\n",
              "      <td>0.410</td>\n",
              "      <td>0.293</td>\n",
              "      <td>0.085</td>\n",
              "      <td>0.177</td>\n",
              "      <td>2019</td>\n",
              "    </tr>\n",
              "    <tr>\n",
              "      <th>762</th>\n",
              "      <td>Syria</td>\n",
              "      <td>Middle East and Northern Africa</td>\n",
              "      <td>149.0</td>\n",
              "      <td>3.462</td>\n",
              "      <td>0.619</td>\n",
              "      <td>0.378</td>\n",
              "      <td>0.440</td>\n",
              "      <td>0.013</td>\n",
              "      <td>0.141</td>\n",
              "      <td>0.331</td>\n",
              "      <td>2019</td>\n",
              "    </tr>\n",
              "    <tr>\n",
              "      <th>763</th>\n",
              "      <td>Burundi</td>\n",
              "      <td>Sub-Saharan Africa</td>\n",
              "      <td>145.0</td>\n",
              "      <td>3.775</td>\n",
              "      <td>0.046</td>\n",
              "      <td>0.447</td>\n",
              "      <td>0.380</td>\n",
              "      <td>0.220</td>\n",
              "      <td>0.180</td>\n",
              "      <td>0.176</td>\n",
              "      <td>2019</td>\n",
              "    </tr>\n",
              "  </tbody>\n",
              "</table>\n",
              "</div>"
            ],
            "text/plain": [
              "         Country                           Region  Happiness_Rank  \\\n",
              "759        Benin               Sub-Saharan Africa           102.0   \n",
              "760  Afghanistan                    Southern Asia           154.0   \n",
              "761         Togo               Sub-Saharan Africa           139.0   \n",
              "762        Syria  Middle East and Northern Africa           149.0   \n",
              "763      Burundi               Sub-Saharan Africa           145.0   \n",
              "\n",
              "     Happiness_Score  Economy  Family  Health  Freedom  Trust  Generosity  \\\n",
              "759            4.883    0.393   0.437   0.397    0.349  0.082       0.175   \n",
              "760            3.203    0.350   0.517   0.361    0.000  0.025       0.158   \n",
              "761            4.085    0.275   0.572   0.410    0.293  0.085       0.177   \n",
              "762            3.462    0.619   0.378   0.440    0.013  0.141       0.331   \n",
              "763            3.775    0.046   0.447   0.380    0.220  0.180       0.176   \n",
              "\n",
              "     Year  \n",
              "759  2019  \n",
              "760  2019  \n",
              "761  2019  \n",
              "762  2019  \n",
              "763  2019  "
            ]
          },
          "execution_count": 74,
          "metadata": {},
          "output_type": "execute_result"
        }
      ],
      "source": [
        "df.tail()"
      ]
    },
    {
      "cell_type": "code",
      "execution_count": null,
      "metadata": {
        "id": "mlazeqIdKThm",
        "outputId": "1121a6ac-f278-4c80-cae2-2d24d9547a44"
      },
      "outputs": [
        {
          "name": "stdout",
          "output_type": "stream",
          "text": [
            "<class 'pandas.core.frame.DataFrame'>\n",
            "RangeIndex: 764 entries, 0 to 763\n",
            "Data columns (total 11 columns):\n",
            " #   Column           Non-Null Count  Dtype  \n",
            "---  ------           --------------  -----  \n",
            " 0   Country          764 non-null    object \n",
            " 1   Region           764 non-null    object \n",
            " 2   Happiness_Rank   764 non-null    float64\n",
            " 3   Happiness_Score  764 non-null    float64\n",
            " 4   Economy          764 non-null    float64\n",
            " 5   Family           764 non-null    float64\n",
            " 6   Health           764 non-null    float64\n",
            " 7   Freedom          764 non-null    float64\n",
            " 8   Trust            764 non-null    float64\n",
            " 9   Generosity       764 non-null    float64\n",
            " 10  Year             764 non-null    object \n",
            "dtypes: float64(8), object(3)\n",
            "memory usage: 65.8+ KB\n"
          ]
        }
      ],
      "source": [
        "df.info()   #we have 11 columns,764 rows,no null values, 3 categorical varaibles (country,egion,year) 9 numerical variables"
      ]
    },
    {
      "cell_type": "code",
      "execution_count": null,
      "metadata": {
        "scrolled": true,
        "id": "zMLzk1SVKThm",
        "outputId": "b432a8cc-a23d-488a-816c-67c714e6fa7a"
      },
      "outputs": [
        {
          "data": {
            "text/html": [
              "<div>\n",
              "<style scoped>\n",
              "    .dataframe tbody tr th:only-of-type {\n",
              "        vertical-align: middle;\n",
              "    }\n",
              "\n",
              "    .dataframe tbody tr th {\n",
              "        vertical-align: top;\n",
              "    }\n",
              "\n",
              "    .dataframe thead th {\n",
              "        text-align: right;\n",
              "    }\n",
              "</style>\n",
              "<table border=\"1\" class=\"dataframe\">\n",
              "  <thead>\n",
              "    <tr style=\"text-align: right;\">\n",
              "      <th></th>\n",
              "      <th>Happiness_Rank</th>\n",
              "      <th>Happiness_Score</th>\n",
              "      <th>Economy</th>\n",
              "      <th>Family</th>\n",
              "      <th>Health</th>\n",
              "      <th>Freedom</th>\n",
              "      <th>Trust</th>\n",
              "      <th>Generosity</th>\n",
              "    </tr>\n",
              "  </thead>\n",
              "  <tbody>\n",
              "    <tr>\n",
              "      <th>count</th>\n",
              "      <td>764.000000</td>\n",
              "      <td>764.000000</td>\n",
              "      <td>764.000000</td>\n",
              "      <td>764.000000</td>\n",
              "      <td>764.000000</td>\n",
              "      <td>764.000000</td>\n",
              "      <td>764.000000</td>\n",
              "      <td>764.000000</td>\n",
              "    </tr>\n",
              "    <tr>\n",
              "      <th>mean</th>\n",
              "      <td>78.078534</td>\n",
              "      <td>5.396399</td>\n",
              "      <td>0.921659</td>\n",
              "      <td>1.080509</td>\n",
              "      <td>0.617313</td>\n",
              "      <td>0.411159</td>\n",
              "      <td>0.125790</td>\n",
              "      <td>0.218848</td>\n",
              "    </tr>\n",
              "    <tr>\n",
              "      <th>std</th>\n",
              "      <td>45.054202</td>\n",
              "      <td>1.121725</td>\n",
              "      <td>0.402556</td>\n",
              "      <td>0.325072</td>\n",
              "      <td>0.242639</td>\n",
              "      <td>0.154000</td>\n",
              "      <td>0.106413</td>\n",
              "      <td>0.123233</td>\n",
              "    </tr>\n",
              "    <tr>\n",
              "      <th>min</th>\n",
              "      <td>1.000000</td>\n",
              "      <td>2.839000</td>\n",
              "      <td>0.000000</td>\n",
              "      <td>0.000000</td>\n",
              "      <td>0.000000</td>\n",
              "      <td>0.000000</td>\n",
              "      <td>0.000000</td>\n",
              "      <td>0.000000</td>\n",
              "    </tr>\n",
              "    <tr>\n",
              "      <th>25%</th>\n",
              "      <td>39.000000</td>\n",
              "      <td>4.516250</td>\n",
              "      <td>0.628018</td>\n",
              "      <td>0.868264</td>\n",
              "      <td>0.450730</td>\n",
              "      <td>0.309308</td>\n",
              "      <td>0.054750</td>\n",
              "      <td>0.129941</td>\n",
              "    </tr>\n",
              "    <tr>\n",
              "      <th>50%</th>\n",
              "      <td>78.000000</td>\n",
              "      <td>5.334000</td>\n",
              "      <td>0.985000</td>\n",
              "      <td>1.122823</td>\n",
              "      <td>0.650166</td>\n",
              "      <td>0.432056</td>\n",
              "      <td>0.090405</td>\n",
              "      <td>0.202000</td>\n",
              "    </tr>\n",
              "    <tr>\n",
              "      <th>75%</th>\n",
              "      <td>117.000000</td>\n",
              "      <td>6.203750</td>\n",
              "      <td>1.238855</td>\n",
              "      <td>1.330237</td>\n",
              "      <td>0.808289</td>\n",
              "      <td>0.531730</td>\n",
              "      <td>0.155523</td>\n",
              "      <td>0.279940</td>\n",
              "    </tr>\n",
              "    <tr>\n",
              "      <th>max</th>\n",
              "      <td>158.000000</td>\n",
              "      <td>7.769000</td>\n",
              "      <td>2.096000</td>\n",
              "      <td>1.644000</td>\n",
              "      <td>1.141000</td>\n",
              "      <td>0.724000</td>\n",
              "      <td>0.551910</td>\n",
              "      <td>0.838075</td>\n",
              "    </tr>\n",
              "  </tbody>\n",
              "</table>\n",
              "</div>"
            ],
            "text/plain": [
              "       Happiness_Rank  Happiness_Score     Economy      Family      Health  \\\n",
              "count      764.000000       764.000000  764.000000  764.000000  764.000000   \n",
              "mean        78.078534         5.396399    0.921659    1.080509    0.617313   \n",
              "std         45.054202         1.121725    0.402556    0.325072    0.242639   \n",
              "min          1.000000         2.839000    0.000000    0.000000    0.000000   \n",
              "25%         39.000000         4.516250    0.628018    0.868264    0.450730   \n",
              "50%         78.000000         5.334000    0.985000    1.122823    0.650166   \n",
              "75%        117.000000         6.203750    1.238855    1.330237    0.808289   \n",
              "max        158.000000         7.769000    2.096000    1.644000    1.141000   \n",
              "\n",
              "          Freedom       Trust  Generosity  \n",
              "count  764.000000  764.000000  764.000000  \n",
              "mean     0.411159    0.125790    0.218848  \n",
              "std      0.154000    0.106413    0.123233  \n",
              "min      0.000000    0.000000    0.000000  \n",
              "25%      0.309308    0.054750    0.129941  \n",
              "50%      0.432056    0.090405    0.202000  \n",
              "75%      0.531730    0.155523    0.279940  \n",
              "max      0.724000    0.551910    0.838075  "
            ]
          },
          "execution_count": 76,
          "metadata": {},
          "output_type": "execute_result"
        }
      ],
      "source": [
        "df.describe() #statistics of the numerical variables in the new data set"
      ]
    },
    {
      "cell_type": "code",
      "execution_count": null,
      "metadata": {
        "id": "hoGxQJIXKThm",
        "outputId": "51eb7cd3-eec7-49f5-d9b1-3195828ad479"
      },
      "outputs": [
        {
          "data": {
            "text/html": [
              "<div>\n",
              "<style scoped>\n",
              "    .dataframe tbody tr th:only-of-type {\n",
              "        vertical-align: middle;\n",
              "    }\n",
              "\n",
              "    .dataframe tbody tr th {\n",
              "        vertical-align: top;\n",
              "    }\n",
              "\n",
              "    .dataframe thead th {\n",
              "        text-align: right;\n",
              "    }\n",
              "</style>\n",
              "<table border=\"1\" class=\"dataframe\">\n",
              "  <thead>\n",
              "    <tr style=\"text-align: right;\">\n",
              "      <th></th>\n",
              "      <th>Economy</th>\n",
              "      <th>Family</th>\n",
              "      <th>Health</th>\n",
              "      <th>Freedom</th>\n",
              "      <th>Generosity</th>\n",
              "      <th>Trust</th>\n",
              "    </tr>\n",
              "  </thead>\n",
              "  <tbody>\n",
              "    <tr>\n",
              "      <th>0</th>\n",
              "      <td>18.406617</td>\n",
              "      <td>17.787136</td>\n",
              "      <td>12.408462</td>\n",
              "      <td>8.772506</td>\n",
              "      <td>3.911691</td>\n",
              "      <td>5.532885</td>\n",
              "    </tr>\n",
              "    <tr>\n",
              "      <th>1</th>\n",
              "      <td>17.224177</td>\n",
              "      <td>18.545563</td>\n",
              "      <td>12.535908</td>\n",
              "      <td>8.315963</td>\n",
              "      <td>5.770401</td>\n",
              "      <td>1.870784</td>\n",
              "    </tr>\n",
              "    <tr>\n",
              "      <th>2</th>\n",
              "      <td>17.609672</td>\n",
              "      <td>18.075993</td>\n",
              "      <td>11.620035</td>\n",
              "      <td>8.627342</td>\n",
              "      <td>4.535539</td>\n",
              "      <td>6.424472</td>\n",
              "    </tr>\n",
              "    <tr>\n",
              "      <th>3</th>\n",
              "      <td>19.396437</td>\n",
              "      <td>17.694097</td>\n",
              "      <td>11.768280</td>\n",
              "      <td>8.903616</td>\n",
              "      <td>4.613002</td>\n",
              "      <td>4.852832</td>\n",
              "    </tr>\n",
              "    <tr>\n",
              "      <th>4</th>\n",
              "      <td>17.857681</td>\n",
              "      <td>17.808132</td>\n",
              "      <td>12.193753</td>\n",
              "      <td>8.522553</td>\n",
              "      <td>6.168170</td>\n",
              "      <td>4.437458</td>\n",
              "    </tr>\n",
              "    <tr>\n",
              "      <th>...</th>\n",
              "      <td>...</td>\n",
              "      <td>...</td>\n",
              "      <td>...</td>\n",
              "      <td>...</td>\n",
              "      <td>...</td>\n",
              "      <td>...</td>\n",
              "    </tr>\n",
              "    <tr>\n",
              "      <th>759</th>\n",
              "      <td>8.048331</td>\n",
              "      <td>8.949416</td>\n",
              "      <td>8.130248</td>\n",
              "      <td>7.147246</td>\n",
              "      <td>3.583862</td>\n",
              "      <td>1.679296</td>\n",
              "    </tr>\n",
              "    <tr>\n",
              "      <th>760</th>\n",
              "      <td>10.927256</td>\n",
              "      <td>16.141118</td>\n",
              "      <td>11.270684</td>\n",
              "      <td>0.000000</td>\n",
              "      <td>4.932875</td>\n",
              "      <td>0.780518</td>\n",
              "    </tr>\n",
              "    <tr>\n",
              "      <th>761</th>\n",
              "      <td>6.731946</td>\n",
              "      <td>14.002448</td>\n",
              "      <td>10.036720</td>\n",
              "      <td>7.172583</td>\n",
              "      <td>4.332925</td>\n",
              "      <td>2.080783</td>\n",
              "    </tr>\n",
              "    <tr>\n",
              "      <th>762</th>\n",
              "      <td>17.879838</td>\n",
              "      <td>10.918544</td>\n",
              "      <td>12.709417</td>\n",
              "      <td>0.375505</td>\n",
              "      <td>9.560947</td>\n",
              "      <td>4.072790</td>\n",
              "    </tr>\n",
              "    <tr>\n",
              "      <th>763</th>\n",
              "      <td>1.218543</td>\n",
              "      <td>11.841060</td>\n",
              "      <td>10.066225</td>\n",
              "      <td>5.827815</td>\n",
              "      <td>4.662252</td>\n",
              "      <td>4.768212</td>\n",
              "    </tr>\n",
              "  </tbody>\n",
              "</table>\n",
              "<p>764 rows × 6 columns</p>\n",
              "</div>"
            ],
            "text/plain": [
              "       Economy     Family     Health   Freedom  Generosity     Trust\n",
              "0    18.406617  17.787136  12.408462  8.772506    3.911691  5.532885\n",
              "1    17.224177  18.545563  12.535908  8.315963    5.770401  1.870784\n",
              "2    17.609672  18.075993  11.620035  8.627342    4.535539  6.424472\n",
              "3    19.396437  17.694097  11.768280  8.903616    4.613002  4.852832\n",
              "4    17.857681  17.808132  12.193753  8.522553    6.168170  4.437458\n",
              "..         ...        ...        ...       ...         ...       ...\n",
              "759   8.048331   8.949416   8.130248  7.147246    3.583862  1.679296\n",
              "760  10.927256  16.141118  11.270684  0.000000    4.932875  0.780518\n",
              "761   6.731946  14.002448  10.036720  7.172583    4.332925  2.080783\n",
              "762  17.879838  10.918544  12.709417  0.375505    9.560947  4.072790\n",
              "763   1.218543  11.841060  10.066225  5.827815    4.662252  4.768212\n",
              "\n",
              "[764 rows x 6 columns]"
            ]
          },
          "execution_count": 77,
          "metadata": {},
          "output_type": "execute_result"
        }
      ],
      "source": [
        "#finding the percentages of the social factors \n",
        "\n",
        "def percentages(factor):\n",
        "    return factor/df[\"Happiness_Score\"]*100\n",
        "\n",
        "df[factors].apply(percentages) #apply the function percentages to all the numerical columns"
      ]
    },
    {
      "cell_type": "code",
      "execution_count": null,
      "metadata": {
        "id": "xL1ameq7KThm",
        "outputId": "54d02063-6110-461d-ec96-016265df19d5"
      },
      "outputs": [
        {
          "data": {
            "text/plain": [
              "Economy       16.533210\n",
              "Family        20.045097\n",
              "Health        11.215115\n",
              "Freedom        7.629721\n",
              "Generosity     4.207790\n",
              "Trust          2.304084\n",
              "dtype: float64"
            ]
          },
          "execution_count": 78,
          "metadata": {},
          "output_type": "execute_result"
        }
      ],
      "source": [
        "#The mean of the percentages of the social factors 2015-2019 \n",
        "df[factors].apply(percentages).mean()"
      ]
    },
    {
      "cell_type": "code",
      "execution_count": null,
      "metadata": {
        "id": "ZnOw2iO6KThm",
        "outputId": "62e1b548-2a12-4a97-dc73-588630f6bb86"
      },
      "outputs": [
        {
          "data": {
            "text/plain": [
              "<AxesSubplot:ylabel='value'>"
            ]
          },
          "execution_count": 79,
          "metadata": {},
          "output_type": "execute_result"
        },
        {
          "data": {
            "image/png": "[encoded data removed]",
            "text/plain": [
              "<Figure size 432x288 with 1 Axes>"
            ]
          },
          "metadata": {},
          "output_type": "display_data"
        }
      ],
      "source": [
        "#Plotting the percentages of the factors 2015-2019\n",
        "pd.melt(df,main_cols,factors).pivot_table(index=\"variable\",values=\"value\").plot(kind=\"pie\",y=\"value\",legend=False)\n",
        "#The Family Factor is the highest contributer ro the world happiness followed by Economy and Health "
      ]
    },
    {
      "cell_type": "code",
      "execution_count": null,
      "metadata": {
        "id": "aFuezdyaKThm",
        "outputId": "59be6bc6-6db3-4a3d-8967-766886282cfa"
      },
      "outputs": [
        {
          "data": {
            "text/html": [
              "<div>\n",
              "<style scoped>\n",
              "    .dataframe tbody tr th:only-of-type {\n",
              "        vertical-align: middle;\n",
              "    }\n",
              "\n",
              "    .dataframe tbody tr th {\n",
              "        vertical-align: top;\n",
              "    }\n",
              "\n",
              "    .dataframe thead th {\n",
              "        text-align: right;\n",
              "    }\n",
              "</style>\n",
              "<table border=\"1\" class=\"dataframe\">\n",
              "  <thead>\n",
              "    <tr style=\"text-align: right;\">\n",
              "      <th></th>\n",
              "      <th>Economy</th>\n",
              "      <th>Family</th>\n",
              "      <th>Health</th>\n",
              "      <th>Freedom</th>\n",
              "      <th>Generosity</th>\n",
              "      <th>Trust</th>\n",
              "    </tr>\n",
              "  </thead>\n",
              "  <tbody>\n",
              "    <tr>\n",
              "      <th>0</th>\n",
              "      <td>High</td>\n",
              "      <td>High</td>\n",
              "      <td>Low</td>\n",
              "      <td>Low</td>\n",
              "      <td>Low</td>\n",
              "      <td>Low</td>\n",
              "    </tr>\n",
              "    <tr>\n",
              "      <th>1</th>\n",
              "      <td>High</td>\n",
              "      <td>High</td>\n",
              "      <td>Low</td>\n",
              "      <td>Low</td>\n",
              "      <td>Low</td>\n",
              "      <td>Low</td>\n",
              "    </tr>\n",
              "    <tr>\n",
              "      <th>2</th>\n",
              "      <td>High</td>\n",
              "      <td>High</td>\n",
              "      <td>Low</td>\n",
              "      <td>Low</td>\n",
              "      <td>Low</td>\n",
              "      <td>Low</td>\n",
              "    </tr>\n",
              "    <tr>\n",
              "      <th>3</th>\n",
              "      <td>High</td>\n",
              "      <td>High</td>\n",
              "      <td>Low</td>\n",
              "      <td>Low</td>\n",
              "      <td>Low</td>\n",
              "      <td>Low</td>\n",
              "    </tr>\n",
              "    <tr>\n",
              "      <th>4</th>\n",
              "      <td>High</td>\n",
              "      <td>High</td>\n",
              "      <td>Low</td>\n",
              "      <td>Low</td>\n",
              "      <td>Low</td>\n",
              "      <td>Low</td>\n",
              "    </tr>\n",
              "    <tr>\n",
              "      <th>...</th>\n",
              "      <td>...</td>\n",
              "      <td>...</td>\n",
              "      <td>...</td>\n",
              "      <td>...</td>\n",
              "      <td>...</td>\n",
              "      <td>...</td>\n",
              "    </tr>\n",
              "    <tr>\n",
              "      <th>759</th>\n",
              "      <td>Low</td>\n",
              "      <td>Low</td>\n",
              "      <td>Low</td>\n",
              "      <td>Low</td>\n",
              "      <td>Low</td>\n",
              "      <td>Low</td>\n",
              "    </tr>\n",
              "    <tr>\n",
              "      <th>760</th>\n",
              "      <td>Low</td>\n",
              "      <td>Low</td>\n",
              "      <td>Low</td>\n",
              "      <td>Low</td>\n",
              "      <td>Low</td>\n",
              "      <td>Low</td>\n",
              "    </tr>\n",
              "    <tr>\n",
              "      <th>761</th>\n",
              "      <td>Low</td>\n",
              "      <td>Low</td>\n",
              "      <td>Low</td>\n",
              "      <td>Low</td>\n",
              "      <td>Low</td>\n",
              "      <td>Low</td>\n",
              "    </tr>\n",
              "    <tr>\n",
              "      <th>762</th>\n",
              "      <td>Low</td>\n",
              "      <td>Low</td>\n",
              "      <td>Low</td>\n",
              "      <td>Low</td>\n",
              "      <td>Low</td>\n",
              "      <td>Low</td>\n",
              "    </tr>\n",
              "    <tr>\n",
              "      <th>763</th>\n",
              "      <td>Low</td>\n",
              "      <td>Low</td>\n",
              "      <td>Low</td>\n",
              "      <td>Low</td>\n",
              "      <td>Low</td>\n",
              "      <td>Low</td>\n",
              "    </tr>\n",
              "  </tbody>\n",
              "</table>\n",
              "<p>764 rows × 6 columns</p>\n",
              "</div>"
            ],
            "text/plain": [
              "    Economy Family Health Freedom Generosity Trust\n",
              "0      High   High    Low     Low        Low   Low\n",
              "1      High   High    Low     Low        Low   Low\n",
              "2      High   High    Low     Low        Low   Low\n",
              "3      High   High    Low     Low        Low   Low\n",
              "4      High   High    Low     Low        Low   Low\n",
              "..      ...    ...    ...     ...        ...   ...\n",
              "759     Low    Low    Low     Low        Low   Low\n",
              "760     Low    Low    Low     Low        Low   Low\n",
              "761     Low    Low    Low     Low        Low   Low\n",
              "762     Low    Low    Low     Low        Low   Low\n",
              "763     Low    Low    Low     Low        Low   Low\n",
              "\n",
              "[764 rows x 6 columns]"
            ]
          },
          "execution_count": 80,
          "metadata": {},
          "output_type": "execute_result"
        }
      ],
      "source": [
        "#converting the numerical variables (social factors) to categorical variables\n",
        "def high_low(factor):\n",
        "    if factor > 1:\n",
        "        return 'High'\n",
        "    else:\n",
        "        return 'Low'\n",
        "df[factors].applymap(high_low)"
      ]
    },
    {
      "cell_type": "code",
      "execution_count": null,
      "metadata": {
        "id": "OWTtxneLKThm",
        "outputId": "599d6ddf-695e-49bf-d37b-724d52f15d3d"
      },
      "outputs": [
        {
          "data": {
            "text/html": [
              "<div>\n",
              "<style scoped>\n",
              "    .dataframe tbody tr th:only-of-type {\n",
              "        vertical-align: middle;\n",
              "    }\n",
              "\n",
              "    .dataframe tbody tr th {\n",
              "        vertical-align: top;\n",
              "    }\n",
              "\n",
              "    .dataframe thead th {\n",
              "        text-align: right;\n",
              "    }\n",
              "</style>\n",
              "<table border=\"1\" class=\"dataframe\">\n",
              "  <thead>\n",
              "    <tr style=\"text-align: right;\">\n",
              "      <th></th>\n",
              "      <th>Economy</th>\n",
              "      <th>Family</th>\n",
              "      <th>Health</th>\n",
              "      <th>Freedom</th>\n",
              "      <th>Generosity</th>\n",
              "      <th>Trust</th>\n",
              "    </tr>\n",
              "  </thead>\n",
              "  <tbody>\n",
              "    <tr>\n",
              "      <th>High</th>\n",
              "      <td>48.036649</td>\n",
              "      <td>63.219895</td>\n",
              "      <td>2.879581</td>\n",
              "      <td>NaN</td>\n",
              "      <td>NaN</td>\n",
              "      <td>NaN</td>\n",
              "    </tr>\n",
              "    <tr>\n",
              "      <th>Low</th>\n",
              "      <td>51.963351</td>\n",
              "      <td>36.780105</td>\n",
              "      <td>97.120419</td>\n",
              "      <td>100.0</td>\n",
              "      <td>100.0</td>\n",
              "      <td>100.0</td>\n",
              "    </tr>\n",
              "  </tbody>\n",
              "</table>\n",
              "</div>"
            ],
            "text/plain": [
              "        Economy     Family     Health  Freedom  Generosity  Trust\n",
              "High  48.036649  63.219895   2.879581      NaN         NaN    NaN\n",
              "Low   51.963351  36.780105  97.120419    100.0       100.0  100.0"
            ]
          },
          "execution_count": 81,
          "metadata": {},
          "output_type": "execute_result"
        }
      ],
      "source": [
        "#finding the percentages of high_low function\n",
        "\n",
        "def high_low_percentage(factor):\n",
        "    return (factor.value_counts()/factor.size)*100\n",
        "\n",
        "df[factors].applymap(high_low).apply(high_low_percentage)\n",
        "\n",
        "#again we can see that Ecnomy,Family,Health factors are the highest and contribute more to the happiness in the world"
      ]
    },
    {
      "cell_type": "code",
      "execution_count": null,
      "metadata": {
        "id": "fGwHmSc0KThm",
        "outputId": "cfdb6a89-6d5a-45ef-b0a1-8b4e502c4a67"
      },
      "outputs": [
        {
          "data": {
            "text/plain": [
              "10"
            ]
          },
          "execution_count": 82,
          "metadata": {},
          "output_type": "execute_result"
        }
      ],
      "source": [
        "len(df[\"Region\"].unique())  #10 Regions"
      ]
    },
    {
      "cell_type": "code",
      "execution_count": null,
      "metadata": {
        "id": "qTu_114yKThn",
        "outputId": "1c6679d2-98e2-440f-8eac-1c8879845f0a"
      },
      "outputs": [
        {
          "data": {
            "text/html": [
              "<div>\n",
              "<style scoped>\n",
              "    .dataframe tbody tr th:only-of-type {\n",
              "        vertical-align: middle;\n",
              "    }\n",
              "\n",
              "    .dataframe tbody tr th {\n",
              "        vertical-align: top;\n",
              "    }\n",
              "\n",
              "    .dataframe thead th {\n",
              "        text-align: right;\n",
              "    }\n",
              "</style>\n",
              "<table border=\"1\" class=\"dataframe\">\n",
              "  <thead>\n",
              "    <tr style=\"text-align: right;\">\n",
              "      <th>Year</th>\n",
              "      <th>2015</th>\n",
              "      <th>2016</th>\n",
              "      <th>2017</th>\n",
              "      <th>2018</th>\n",
              "      <th>2019</th>\n",
              "    </tr>\n",
              "    <tr>\n",
              "      <th>Region</th>\n",
              "      <th></th>\n",
              "      <th></th>\n",
              "      <th></th>\n",
              "      <th></th>\n",
              "      <th></th>\n",
              "    </tr>\n",
              "  </thead>\n",
              "  <tbody>\n",
              "    <tr>\n",
              "      <th>Australia and New Zealand</th>\n",
              "      <td>7.285000</td>\n",
              "      <td>7.323500</td>\n",
              "      <td>7.299000</td>\n",
              "      <td>7.298000</td>\n",
              "      <td>7.267500</td>\n",
              "    </tr>\n",
              "    <tr>\n",
              "      <th>Central and Eastern Europe</th>\n",
              "      <td>5.332931</td>\n",
              "      <td>5.370690</td>\n",
              "      <td>5.409931</td>\n",
              "      <td>5.463966</td>\n",
              "      <td>5.571786</td>\n",
              "    </tr>\n",
              "    <tr>\n",
              "      <th>Eastern Asia</th>\n",
              "      <td>5.626167</td>\n",
              "      <td>5.624167</td>\n",
              "      <td>5.496500</td>\n",
              "      <td>5.672000</td>\n",
              "      <td>5.688833</td>\n",
              "    </tr>\n",
              "    <tr>\n",
              "      <th>Latin America and Caribbean</th>\n",
              "      <td>6.144682</td>\n",
              "      <td>6.101750</td>\n",
              "      <td>5.957818</td>\n",
              "      <td>5.938619</td>\n",
              "      <td>5.942550</td>\n",
              "    </tr>\n",
              "    <tr>\n",
              "      <th>Middle East and Northern Africa</th>\n",
              "      <td>5.406900</td>\n",
              "      <td>5.386053</td>\n",
              "      <td>5.369684</td>\n",
              "      <td>5.282737</td>\n",
              "      <td>5.237000</td>\n",
              "    </tr>\n",
              "    <tr>\n",
              "      <th>North America</th>\n",
              "      <td>7.273000</td>\n",
              "      <td>7.254000</td>\n",
              "      <td>7.154500</td>\n",
              "      <td>7.107000</td>\n",
              "      <td>7.085000</td>\n",
              "    </tr>\n",
              "    <tr>\n",
              "      <th>Southeastern Asia</th>\n",
              "      <td>5.317444</td>\n",
              "      <td>5.338889</td>\n",
              "      <td>5.444875</td>\n",
              "      <td>5.313444</td>\n",
              "      <td>5.273667</td>\n",
              "    </tr>\n",
              "    <tr>\n",
              "      <th>Southern Asia</th>\n",
              "      <td>4.580857</td>\n",
              "      <td>4.563286</td>\n",
              "      <td>4.628429</td>\n",
              "      <td>4.603857</td>\n",
              "      <td>4.526857</td>\n",
              "    </tr>\n",
              "    <tr>\n",
              "      <th>Sub-Saharan Africa</th>\n",
              "      <td>4.202800</td>\n",
              "      <td>4.136421</td>\n",
              "      <td>4.147639</td>\n",
              "      <td>4.230500</td>\n",
              "      <td>4.340657</td>\n",
              "    </tr>\n",
              "    <tr>\n",
              "      <th>Western Europe</th>\n",
              "      <td>6.689619</td>\n",
              "      <td>6.685667</td>\n",
              "      <td>6.703714</td>\n",
              "      <td>6.829100</td>\n",
              "      <td>6.898400</td>\n",
              "    </tr>\n",
              "  </tbody>\n",
              "</table>\n",
              "</div>"
            ],
            "text/plain": [
              "Year                                 2015      2016      2017      2018  \\\n",
              "Region                                                                    \n",
              "Australia and New Zealand        7.285000  7.323500  7.299000  7.298000   \n",
              "Central and Eastern Europe       5.332931  5.370690  5.409931  5.463966   \n",
              "Eastern Asia                     5.626167  5.624167  5.496500  5.672000   \n",
              "Latin America and Caribbean      6.144682  6.101750  5.957818  5.938619   \n",
              "Middle East and Northern Africa  5.406900  5.386053  5.369684  5.282737   \n",
              "North America                    7.273000  7.254000  7.154500  7.107000   \n",
              "Southeastern Asia                5.317444  5.338889  5.444875  5.313444   \n",
              "Southern Asia                    4.580857  4.563286  4.628429  4.603857   \n",
              "Sub-Saharan Africa               4.202800  4.136421  4.147639  4.230500   \n",
              "Western Europe                   6.689619  6.685667  6.703714  6.829100   \n",
              "\n",
              "Year                                 2019  \n",
              "Region                                     \n",
              "Australia and New Zealand        7.267500  \n",
              "Central and Eastern Europe       5.571786  \n",
              "Eastern Asia                     5.688833  \n",
              "Latin America and Caribbean      5.942550  \n",
              "Middle East and Northern Africa  5.237000  \n",
              "North America                    7.085000  \n",
              "Southeastern Asia                5.273667  \n",
              "Southern Asia                    4.526857  \n",
              "Sub-Saharan Africa               4.340657  \n",
              "Western Europe                   6.898400  "
            ]
          },
          "execution_count": 83,
          "metadata": {},
          "output_type": "execute_result"
        }
      ],
      "source": [
        "pd.pivot_table(df, index= 'Region', columns='Year', values=\"Happiness_Score\")\n"
      ]
    },
    {
      "cell_type": "code",
      "execution_count": null,
      "metadata": {
        "id": "0s30XJ9iKThn"
      },
      "outputs": [],
      "source": [
        "#by checking back the order of the happiest regions.we can see that the only change between 2015-2019 is  the rank of Central and Eastern Europe and Middle East and Northern Africa\n",
        "#The other regions save their ranks"
      ]
    },
    {
      "cell_type": "code",
      "execution_count": null,
      "metadata": {
        "id": "WTGyIuZjKThn",
        "outputId": "76bc13a5-f4a9-4540-f1aa-fa6db0038f00"
      },
      "outputs": [
        {
          "data": {
            "text/plain": [
              "Text(0, 0.5, 'Happiness Score')"
            ]
          },
          "execution_count": 85,
          "metadata": {},
          "output_type": "execute_result"
        },
        {
          "data": {
            "image/png": "[encoded data removed]",
            "text/plain": [
              "<Figure size 432x288 with 1 Axes>"
            ]
          },
          "metadata": {
            "needs_background": "light"
          },
          "output_type": "display_data"
        }
      ],
      "source": [
        "#plotting how did the happiness score change in each region between 2015-2019\n",
        "pd.pivot_table(df, index= 'Region', columns= 'Year', values= \"Happiness_Score\").plot(kind= 'bar')\n",
        "plt.ylabel(\"Happiness Score\")"
      ]
    },
    {
      "cell_type": "code",
      "execution_count": null,
      "metadata": {
        "id": "khkN2EJMKThn",
        "outputId": "8d87d6f2-00eb-497b-cb2d-25e0496f42e0"
      },
      "outputs": [
        {
          "data": {
            "text/plain": [
              "164"
            ]
          },
          "execution_count": 86,
          "metadata": {},
          "output_type": "execute_result"
        }
      ],
      "source": [
        "len(df[\"Country\"].unique()) #164 countries"
      ]
    },
    {
      "cell_type": "code",
      "execution_count": null,
      "metadata": {
        "id": "I-GAHIENKThn",
        "outputId": "c3f28091-12e9-4350-ed6f-42b93c44ea48"
      },
      "outputs": [
        {
          "data": {
            "text/plain": [
              "<AxesSubplot:xlabel='Family', ylabel='Country'>"
            ]
          },
          "execution_count": 87,
          "metadata": {},
          "output_type": "execute_result"
        },
        {
          "data": {
            "image/png": "[encoded data removed]",
            "text/plain": [
              "<Figure size 720x720 with 8 Axes>"
            ]
          },
          "metadata": {
            "needs_background": "light"
          },
          "output_type": "display_data"
        }
      ],
      "source": [
        "# plotting the countries that have the highest rate in each Social Factor in all the years \n",
        "fig, axes = plt.subplots(nrows=4, ncols=2,constrained_layout=True,figsize=(10,10))\n",
        "sns.barplot(x='Happiness_Score' ,y='Country',data=df.nlargest(10,'Happiness_Score'),ax=axes[1,0],palette='Greens_r')\n",
        "sns.barplot(x='Economy',y='Country',data=df.nlargest(10,'Economy'),ax=axes[0,0],palette=\"Blues_r\")\n",
        "sns.barplot(x='Health' ,y='Country',data=df.nlargest(10,'Health'),ax=axes[0,1],palette='Oranges_r')\n",
        "sns.barplot(x='Generosity' ,y='Country',data=df.nlargest(10,'Generosity'),ax=axes[1,1],palette='Blues_r')\n",
        "sns.barplot(x='Freedom' ,y='Country',data=df.nlargest(10,'Freedom'),ax=axes[2,0],palette='Oranges_r')\n",
        "sns.barplot(x='Trust' ,y='Country',data=df.nlargest(10,'Trust'),ax=axes[2,1],palette='Reds_r')\n",
        "sns.barplot(x='Family' ,y='Country',data=df.nlargest(10,'Family'),ax=axes[3,0],palette='Blues_r')"
      ]
    },
    {
      "cell_type": "code",
      "execution_count": null,
      "metadata": {
        "id": "tLlx1jVjKThn"
      },
      "outputs": [],
      "source": [
        "#From The graph above we can see that:\n",
        "#Finland is the country with the highest Happiness Score in the years 2015-2019\n",
        "#UAE is the country with the strongest Economy in the years 2015-2019\n",
        "#Iceland is the country with highest social support(family) in the years 2015-2019\n",
        "#Singapore is the country with best health in the years 2015-2019\n",
        "#Uzbekistan is the country with the highest freedom in the years 2015-2019\n",
        "#Myanmar is the country with the highest Generosity in the years 2015-2019\n",
        "#Rawanda is the country with the highest Trust in the years 2015-2019"
      ]
    },
    {
      "cell_type": "code",
      "execution_count": null,
      "metadata": {
        "id": "oaZ_YDlWKThn",
        "outputId": "a9d31c9c-4792-4193-e5cc-ea243ba41238"
      },
      "outputs": [
        {
          "data": {
            "text/plain": [
              "<AxesSubplot:xlabel='Family', ylabel='Country'>"
            ]
          },
          "execution_count": 89,
          "metadata": {},
          "output_type": "execute_result"
        },
        {
          "data": {
            "image/png": "[encoded data removed]",
            "text/plain": [
              "<Figure size 720x720 with 8 Axes>"
            ]
          },
          "metadata": {
            "needs_background": "light"
          },
          "output_type": "display_data"
        }
      ],
      "source": [
        "# plotting the countries that have the lowest rate in each Social Factor in all the years \n",
        "fig, axes = plt.subplots(nrows=4, ncols=2,constrained_layout=True,figsize=(10,10))\n",
        "sns.barplot(x='Happiness_Score' ,y='Country',data=df.nsmallest(10,'Happiness_Score'),ax=axes[1,0],palette='Greens_r')\n",
        "sns.barplot(x='Economy',y='Country',data=df.nsmallest(10,'Economy'),ax=axes[0,0],palette=\"Blues_r\")\n",
        "sns.barplot(x='Health' ,y='Country',data=df.nsmallest(10,'Health'),ax=axes[0,1],palette='Oranges_r')\n",
        "sns.barplot(x='Generosity' ,y='Country',data=df.nsmallest(10,'Generosity'),ax=axes[1,1],palette='Blues_r')\n",
        "sns.barplot(x='Freedom' ,y='Country',data=df.nsmallest(10,'Freedom'),ax=axes[2,0],palette='Oranges_r')\n",
        "sns.barplot(x='Trust' ,y='Country',data=df.nsmallest(10,'Trust'),ax=axes[2,1],palette='Reds_r')\n",
        "sns.barplot(x='Family' ,y='Country',data=df.nsmallest(10,'Family'),ax=axes[3,0],palette='Blues_r')"
      ]
    },
    {
      "cell_type": "code",
      "execution_count": null,
      "metadata": {
        "id": "YupXOLBrKThn"
      },
      "outputs": [],
      "source": [
        "#From The graph above we can see that:\n",
        "#Togo is the country with the lowest Happiness Score in the years 2015-2019\n",
        "#Somalia is the country with the lowest Economy in the years 2015-2019\n",
        "#Central African Republic  is the country with lowest social support(family) in the years 2015-2019 = zero\n",
        "#Sierra Leone  is the country with worst health in the years 2015-2019\n",
        "#Iraq and Afghanistan are  the countries with the lowest freedom in the years 2015-2019 \n",
        "#Greece is the country with the lowest Generosity in the years 2015-2019\n",
        "#Moldova  is the country with the lowest Trust in the years 2015-2019"
      ]
    },
    {
      "cell_type": "code",
      "execution_count": null,
      "metadata": {
        "id": "rk-HdhOpKThn",
        "outputId": "3d97d49c-573e-46e4-bbd4-285d79348798"
      },
      "outputs": [
        {
          "data": {
            "text/plain": [
              "<AxesSubplot:xlabel='Family', ylabel='Region'>"
            ]
          },
          "execution_count": 91,
          "metadata": {},
          "output_type": "execute_result"
        },
        {
          "data": {
            "image/png": "[encoded data removed]",
            "text/plain": [
              "<Figure size 720x720 with 8 Axes>"
            ]
          },
          "metadata": {
            "needs_background": "light"
          },
          "output_type": "display_data"
        }
      ],
      "source": [
        "# plotting the regions that have the highest rate in each Social Factor in all the years \n",
        "fig, axes = plt.subplots(nrows=4, ncols=2,constrained_layout=True,figsize=(10,10))\n",
        "sns.barplot(x='Economy',y='Region',data=df.nlargest(10,'Economy'),ax=axes[0,0],palette=\"Blues_r\")\n",
        "sns.barplot(x='Health' ,y='Region',data=df.nlargest(10,'Health'),ax=axes[0,1],palette='Oranges_r')\n",
        "sns.barplot(x='Happiness_Score' ,y='Region',data=df.nlargest(10,'Happiness_Score'),ax=axes[1,0],palette='Greens_r')\n",
        "sns.barplot(x='Generosity' ,y='Region',data=df.nlargest(10,'Generosity'),ax=axes[1,1],palette='Blues_r')\n",
        "sns.barplot(x='Freedom' ,y='Region',data=df.nlargest(10,'Freedom'),ax=axes[2,0],palette='Oranges_r')\n",
        "sns.barplot(x='Trust' ,y='Region',data=df.nlargest(10,'Trust'),ax=axes[2,1],palette='Reds_r')\n",
        "sns.barplot(x='Family' ,y='Region',data=df.nlargest(10,'Family'),ax=axes[3,0],palette='Blues_r')"
      ]
    },
    {
      "cell_type": "code",
      "execution_count": null,
      "metadata": {
        "id": "PmFU5sUkKTho"
      },
      "outputs": [],
      "source": [
        "#From The graph above we can see that:\n",
        "#Western Europe is the region with the highest Happiness Score in the years 2015-2019\n",
        "#Middle East and Northern Africa is the region with the strongest Economy in the years 2015-2019\n",
        "#Western Europeis the region with highest social support(family) in the years 2015-2019\n",
        "#Southeastern Asia is the region with best health in the years 2015-2019\n",
        "#Central and Eastern Europe  is the region with the highest freedom in the years 2015-2019\n",
        "#Southeastern Asia is the region with the highest Generosity in the years 2015-2019\n",
        "#Sub-Saharan Africa is the region with the highest Trust in the years 2015-2019"
      ]
    },
    {
      "cell_type": "code",
      "execution_count": null,
      "metadata": {
        "id": "EbHixG2gKTho",
        "outputId": "c54a0cfa-d474-428b-ed71-21ed582ee512"
      },
      "outputs": [
        {
          "data": {
            "text/plain": [
              "<AxesSubplot:xlabel='Family', ylabel='Region'>"
            ]
          },
          "execution_count": 93,
          "metadata": {},
          "output_type": "execute_result"
        },
        {
          "data": {
            "image/png": "[encoded data removed]",
            "text/plain": [
              "<Figure size 720x720 with 8 Axes>"
            ]
          },
          "metadata": {
            "needs_background": "light"
          },
          "output_type": "display_data"
        }
      ],
      "source": [
        "# plotting the regions that have the lowest rate in each Social Factor in all the years \n",
        "fig, axes = plt.subplots(nrows=4, ncols=2,constrained_layout=True,figsize=(10,10))\n",
        "sns.barplot(x='Economy',y='Region',data=df.nsmallest(10,'Economy'),ax=axes[0,0],palette=\"Blues_r\")\n",
        "sns.barplot(x='Health' ,y='Region',data=df.nsmallest(10,'Health'),ax=axes[0,1],palette='Oranges_r')\n",
        "sns.barplot(x='Happiness_Score' ,y='Region',data=df.nsmallest(10,'Happiness_Score'),ax=axes[1,0],palette='Greens_r')\n",
        "sns.barplot(x='Generosity' ,y='Region',data=df.nsmallest(10,'Generosity'),ax=axes[1,1],palette='Blues_r')\n",
        "sns.barplot(x='Freedom' ,y='Region',data=df.nsmallest(10,'Freedom'),ax=axes[2,0],palette='Oranges_r')\n",
        "sns.barplot(x='Trust' ,y='Region',data=df.nsmallest(10,'Trust'),ax=axes[2,1],palette='Reds_r')\n",
        "sns.barplot(x='Family' ,y='Region',data=df.nsmallest(10,'Family'),ax=axes[3,0],palette='Blues_r')"
      ]
    },
    {
      "cell_type": "code",
      "execution_count": null,
      "metadata": {
        "id": "HmC8FWSdKTho"
      },
      "outputs": [],
      "source": [
        "#From The graph above we can see that:\n",
        "#Sub-Saharan Africa is the region with the lowest Happiness Score in the years 2015-2019\n",
        "#Sub-Saharan Africa is the region with the worst Economy in the years 2015-2019\n",
        "#Southern Asia the region with lowest social support(family) in the years 2015-2019\n",
        "#Sub-Saharan Africa is the region with worst health in the years 2015-2019\n",
        "#Southern Asia   is the region with the lowest freedom in the years 2015-2019\n",
        "#Western Europe is the region with the lowest Generosity in the years 2015-2019\n",
        "#Central and Eastern  Europe is the region with the lowest Trust in the years 2015-2019"
      ]
    },
    {
      "cell_type": "code",
      "execution_count": null,
      "metadata": {
        "id": "5OmDxDESKThr",
        "outputId": "326200e9-9b8b-42cf-b6b7-1840a5b64680"
      },
      "outputs": [
        {
          "data": {
            "text/html": [
              "<div>\n",
              "<style scoped>\n",
              "    .dataframe tbody tr th:only-of-type {\n",
              "        vertical-align: middle;\n",
              "    }\n",
              "\n",
              "    .dataframe tbody tr th {\n",
              "        vertical-align: top;\n",
              "    }\n",
              "\n",
              "    .dataframe thead th {\n",
              "        text-align: right;\n",
              "    }\n",
              "</style>\n",
              "<table border=\"1\" class=\"dataframe\">\n",
              "  <thead>\n",
              "    <tr style=\"text-align: right;\">\n",
              "      <th></th>\n",
              "      <th>Happiness_Score</th>\n",
              "    </tr>\n",
              "    <tr>\n",
              "      <th>Year</th>\n",
              "      <th></th>\n",
              "    </tr>\n",
              "  </thead>\n",
              "  <tbody>\n",
              "    <tr>\n",
              "      <th>2015</th>\n",
              "      <td>5.375734</td>\n",
              "    </tr>\n",
              "    <tr>\n",
              "      <th>2016</th>\n",
              "      <td>5.382185</td>\n",
              "    </tr>\n",
              "    <tr>\n",
              "      <th>2017</th>\n",
              "      <td>5.379520</td>\n",
              "    </tr>\n",
              "    <tr>\n",
              "      <th>2018</th>\n",
              "      <td>5.399391</td>\n",
              "    </tr>\n",
              "    <tr>\n",
              "      <th>2019</th>\n",
              "      <td>5.447595</td>\n",
              "    </tr>\n",
              "  </tbody>\n",
              "</table>\n",
              "</div>"
            ],
            "text/plain": [
              "      Happiness_Score\n",
              "Year                 \n",
              "2015         5.375734\n",
              "2016         5.382185\n",
              "2017         5.379520\n",
              "2018         5.399391\n",
              "2019         5.447595"
            ]
          },
          "execution_count": 95,
          "metadata": {},
          "output_type": "execute_result"
        }
      ],
      "source": [
        "#the changing of happiness score mean from 2015-2019\n",
        "pd.pivot_table(df, index= 'Year', values= \"Happiness_Score\")\n",
        "#we notice that the mean of the happiness score is almost the same (no change)"
      ]
    },
    {
      "cell_type": "code",
      "execution_count": null,
      "metadata": {
        "id": "taAyypTqKThr",
        "outputId": "39bd043b-1fe9-4ac9-c877-b37b640d4882"
      },
      "outputs": [
        {
          "data": {
            "text/plain": [
              "<AxesSubplot:title={'center':'Mean Happiness Scores by Year'}, xlabel='Year'>"
            ]
          },
          "execution_count": 96,
          "metadata": {},
          "output_type": "execute_result"
        },
        {
          "data": {
            "image/png": "[encoded data removed]",
            "text/plain": [
              "<Figure size 432x288 with 1 Axes>"
            ]
          },
          "metadata": {
            "needs_background": "light"
          },
          "output_type": "display_data"
        }
      ],
      "source": [
        "#plotting the changing of happiness score mean from 2015-2019\n",
        "df.pivot_table(values=\"Happiness_Score\",index=\"Year\",aggfunc=np.mean).plot(kind=\"bar\",title='Mean Happiness Scores by Year',ylim=(0,10),color=\"green\")"
      ]
    },
    {
      "cell_type": "code",
      "execution_count": null,
      "metadata": {
        "id": "1qkjShe9KThr"
      },
      "outputs": [],
      "source": [
        "#Saving all the changes that We did to new csv file\n",
        "df.to_csv('Project.csv') "
      ]
    },
    {
      "cell_type": "markdown",
      "metadata": {
        "id": "cEkjkNuDKThr"
      },
      "source": [
        "## Conclusion:\n",
        "\n",
        "According to this analysis,we explored 164 countries in 10 regions. we can see \n",
        "that Family, followed by Economy and Health  have the maximum effect in determining the happiness of people in a country.\n",
        "The happiest country is FInland, the least happy country is Togo.\n",
        "We can see that the happiest countries in the years between  2015-2019 lie in Westren Europe and the least happy countries in the same period lie in Sub-Saharan Africa.\n",
        "The mean of happiness score in the years between 2015-2019, almost did not change, the highest in 2019= 5.447595, Does that mean that we were happier in 2019 than in 2015!"
      ]
    },
    {
      "cell_type": "raw",
      "metadata": {
        "id": "zhf_qbX5KThr"
      },
      "source": [
        "According to this analysis,we explored 164 countries in 10 regions. we can see that Family, followed by Economy and Health  have the maximum effect in determining the happiness of people in a country.\n",
        "The happiest country is FInland, the least happy country is Togo.\n",
        "We can see that the happiest countries in the years between  2015-2019 lie in Westren Europe and the least happy countries in the same period lie in Sub-Saharan Africa.\n",
        "The mean of happiness score in the years between 2015-2019, almost did not change, the highest in 2019= 5.447595, Does that mean that we were happier in 2019 than in 2015!"
      ]
    }
  ],
  "metadata": {
    "kernelspec": {
      "display_name": "Python 3 (ipykernel)",
      "language": "python",
      "name": "python3"
    },
    "language_info": {
      "codemirror_mode": {
        "name": "ipython",
        "version": 3
      },
      "file_extension": ".py",
      "mimetype": "text/x-python",
      "name": "python",
      "nbconvert_exporter": "python",
      "pygments_lexer": "ipython3",
      "version": "3.9.7"
    },
    "colab": {
      "provenance": [],
      "collapsed_sections": [
        "UIAbpKEZKThi"
      ],
      "toc_visible": true
    }
  },
  "nbformat": 4,
  "nbformat_minor": 0
}